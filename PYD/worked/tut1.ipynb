{
 "cells": [
  {
   "cell_type": "markdown",
   "metadata": {},
   "source": [
    "# Why is Julia fast and can we retrofit to Python? "
   ]
  },
  {
   "cell_type": "markdown",
   "metadata": {
    "collapsed": true
   },
   "source": [
    "## Type Inference\n",
    "\n",
    "To generate fast code for a function f(x,y), the compiler needs to be able to infer the types of variables in f,\n",
    "map them to hardware types (registers) where possible, and call specialized code paths for those types.\n",
    "\n",
    "At compile-time, the compiler generally only knows types of x,y, but not the values, and it needs to be able\n",
    "to cascade this information to infer types throughout f and in any functions called by f.\n",
    "\n",
    "Julia and its standard library are designed so type inference is possible for code following straightforward rules.\n",
    "\n",
    "Sometimes this requires subtle choices that would be painful to retrofit onto an existing language.\n",
    "\n"
   ]
  },
  {
   "cell_type": "markdown",
   "metadata": {},
   "source": [
    "### _The return type of a function should ONLY depend on the types of its arguments_"
   ]
  },
  {
   "cell_type": "markdown",
   "metadata": {},
   "source": [
    "### This needs to be run in Python\n",
    "\n",
    "```python\n",
    "# Import NUMPY for square roots\n",
    "\n",
    "import numpy as np\n",
    "\n",
    "# Look at type (in)stability\n",
    "\n",
    "type(2 ** 3)\n",
    "type(2 ** -3)\n",
    "\n",
    "# How this is correct in Python but not in MATLAB\n",
    "\n",
    "np.sqrt(1)\n",
    "np.sqrt(-1)\n",
    "np.sqrt(-1 + 0j)\n",
    "\n",
    "```"
   ]
  },
  {
   "cell_type": "markdown",
   "metadata": {
    "collapsed": true
   },
   "source": [
    "### Another form of instability is the switch from _integers_ to _bigints_\n",
    "\n",
    "```python\n",
    "def fac(n):\n",
    " if n < 2:\n",
    "   return 1\n",
    " else:\n",
    "   return n*fac(n-1)\n",
    "   \n",
    "fac(20)\n",
    "fac(21)\n",
    "\n",
    "```\n",
    "\n",
    "NB: This code is on the _tut3_ workbook"
   ]
  },
  {
   "cell_type": "markdown",
   "metadata": {},
   "source": [
    "### Let's see how Julia deals with this"
   ]
  },
  {
   "cell_type": "code",
   "execution_count": 1,
   "metadata": {
    "collapsed": false
   },
   "outputs": [
    {
     "data": {
      "text/plain": [
       "Int64"
      ]
     },
     "execution_count": 1,
     "metadata": {},
     "output_type": "execute_result"
    }
   ],
   "source": [
    "typeof(2^3)"
   ]
  },
  {
   "cell_type": "code",
   "execution_count": 2,
   "metadata": {
    "collapsed": false
   },
   "outputs": [
    {
     "ename": "LoadError",
     "evalue": "DomainError\nwhile loading In[2], in expression starting on line 1",
     "output_type": "error",
     "traceback": [
      "DomainError\nwhile loading In[2], in expression starting on line 1",
      "",
      " in power_by_squaring at intfuncs.jl:60",
      " in ^ at intfuncs.jl:84"
     ]
    }
   ],
   "source": [
    "typeof(2^-3)"
   ]
  },
  {
   "cell_type": "code",
   "execution_count": 3,
   "metadata": {
    "collapsed": false
   },
   "outputs": [
    {
     "data": {
      "text/plain": [
       "1.0"
      ]
     },
     "execution_count": 3,
     "metadata": {},
     "output_type": "execute_result"
    }
   ],
   "source": [
    "sqrt(1)"
   ]
  },
  {
   "cell_type": "code",
   "execution_count": 4,
   "metadata": {
    "collapsed": false
   },
   "outputs": [
    {
     "ename": "LoadError",
     "evalue": "DomainError\nwhile loading In[4], in expression starting on line 1",
     "output_type": "error",
     "traceback": [
      "DomainError\nwhile loading In[4], in expression starting on line 1",
      "",
      " in sqrt at math.jl:133"
     ]
    }
   ],
   "source": [
    "sqrt(-1)"
   ]
  },
  {
   "cell_type": "code",
   "execution_count": 5,
   "metadata": {
    "collapsed": false
   },
   "outputs": [
    {
     "data": {
      "text/plain": [
       "0.0 + 1.0im"
      ]
     },
     "execution_count": 5,
     "metadata": {},
     "output_type": "execute_result"
    }
   ],
   "source": [
    "sqrt(-1 + 0im)"
   ]
  },
  {
   "cell_type": "markdown",
   "metadata": {},
   "source": [
    "### and with the factorial"
   ]
  },
  {
   "cell_type": "code",
   "execution_count": 6,
   "metadata": {
    "collapsed": false
   },
   "outputs": [
    {
     "data": {
      "text/plain": [
       "2432902008176640000"
      ]
     },
     "execution_count": 6,
     "metadata": {},
     "output_type": "execute_result"
    }
   ],
   "source": [
    "fac(n) = (n < 2) ? 1 : n*fac(n-1);\n",
    "fac(20)"
   ]
  },
  {
   "cell_type": "code",
   "execution_count": 7,
   "metadata": {
    "collapsed": false
   },
   "outputs": [
    {
     "data": {
      "text/plain": [
       "-4249290049419214848"
      ]
     },
     "execution_count": 7,
     "metadata": {},
     "output_type": "execute_result"
    }
   ],
   "source": [
    "fac(21)"
   ]
  },
  {
   "cell_type": "markdown",
   "metadata": {},
   "source": [
    "### but"
   ]
  },
  {
   "cell_type": "code",
   "execution_count": 8,
   "metadata": {
    "collapsed": false
   },
   "outputs": [
    {
     "data": {
      "text/plain": [
       "51090942171709440000"
      ]
     },
     "execution_count": 8,
     "metadata": {},
     "output_type": "execute_result"
    }
   ],
   "source": [
    "fac(big(21))"
   ]
  },
  {
   "cell_type": "code",
   "execution_count": 9,
   "metadata": {
    "collapsed": false
   },
   "outputs": [
    {
     "ename": "LoadError",
     "evalue": "OverflowError()\nwhile loading In[9], in expression starting on line 1",
     "output_type": "error",
     "traceback": [
      "OverflowError()\nwhile loading In[9], in expression starting on line 1",
      "",
      " in factorial_lookup at combinatorics.jl:27",
      " in factorial at combinatorics.jl:35"
     ]
    }
   ],
   "source": [
    "factorial(21)   # in the Base.combinatorics module"
   ]
  },
  {
   "cell_type": "markdown",
   "metadata": {},
   "source": [
    "- Not all mathematical operations on numbers in Julia produce the same _type_ of result.\n",
    "- But Julia is consistant or an exception is raised.\n",
    "- The outcome(s) are not without being the subject of a _great_ deal of debate."
   ]
  },
  {
   "cell_type": "code",
   "execution_count": 10,
   "metadata": {
    "collapsed": false
   },
   "outputs": [
    {
     "data": {
      "text/plain": [
       "0.5"
      ]
     },
     "execution_count": 10,
     "metadata": {},
     "output_type": "execute_result"
    }
   ],
   "source": [
    "2/4"
   ]
  },
  {
   "cell_type": "code",
   "execution_count": 11,
   "metadata": {
    "collapsed": false
   },
   "outputs": [
    {
     "data": {
      "text/plain": [
       "2.0"
      ]
     },
     "execution_count": 11,
     "metadata": {},
     "output_type": "execute_result"
    }
   ],
   "source": [
    "4/2"
   ]
  },
  {
   "cell_type": "code",
   "execution_count": 12,
   "metadata": {
    "collapsed": false
   },
   "outputs": [
    {
     "data": {
      "text/plain": [
       "2"
      ]
     },
     "execution_count": 12,
     "metadata": {},
     "output_type": "execute_result"
    }
   ],
   "source": [
    "4 ÷ 2            # x ÷ y    =>    div(x,y)  or  x div y"
   ]
  },
  {
   "cell_type": "code",
   "execution_count": 13,
   "metadata": {
    "collapsed": false
   },
   "outputs": [
    {
     "data": {
      "text/plain": [
       "14//11"
      ]
     },
     "execution_count": 13,
     "metadata": {},
     "output_type": "execute_result"
    }
   ],
   "source": [
    "4//11 / 2//7     # divide 2 rationals"
   ]
  },
  {
   "cell_type": "code",
   "execution_count": 14,
   "metadata": {
    "collapsed": false
   },
   "outputs": [
    {
     "data": {
      "text/plain": [
       "Rational{Int64} (constructor with 1 method)"
      ]
     },
     "execution_count": 14,
     "metadata": {},
     "output_type": "execute_result"
    }
   ],
   "source": [
    "typeof(4//11 / 2//7)"
   ]
  },
  {
   "cell_type": "code",
   "execution_count": 15,
   "metadata": {
    "collapsed": false
   },
   "outputs": [
    {
     "data": {
      "text/plain": [
       "Int64"
      ]
     },
     "execution_count": 15,
     "metadata": {},
     "output_type": "execute_result"
    }
   ],
   "source": [
    "typeof(4//11 ÷ 2//7)"
   ]
  },
  {
   "cell_type": "code",
   "execution_count": null,
   "metadata": {
    "collapsed": false
   },
   "outputs": [],
   "source": [
    "4//11 ÷ 2//7"
   ]
  },
  {
   "cell_type": "code",
   "execution_count": null,
   "metadata": {
    "collapsed": false
   },
   "outputs": [],
   "source": [
    "typeof(4.0 ÷ 3.0)"
   ]
  },
  {
   "cell_type": "markdown",
   "metadata": {},
   "source": [
    "---"
   ]
  },
  {
   "cell_type": "markdown",
   "metadata": {},
   "source": [
    "### Delegation O-O paradigm, as contrasted with inheritence or association\n",
    "\n",
    "We will look at how this works using one of the original Julia examples: Modular Integers"
   ]
  },
  {
   "cell_type": "code",
   "execution_count": null,
   "metadata": {
    "collapsed": true
   },
   "outputs": [],
   "source": [
    "# We need to be able to import the module by munging the LOAD PATH"
   ]
  },
  {
   "cell_type": "code",
   "execution_count": 1,
   "metadata": {
    "collapsed": false
   },
   "outputs": [],
   "source": [
    "cd(\"/Users/malcolm/notebooks.git/PYD/code\");  # This is dependent on YOUR directory structure"
   ]
  },
  {
   "cell_type": "code",
   "execution_count": 2,
   "metadata": {
    "collapsed": false
   },
   "outputs": [
    {
     "data": {
      "text/plain": [
       "3-element Array{Union(ASCIIString,UTF8String),1}:\n",
       " \"/Applications/Julia-0.3.11.app/Contents/Resources/julia/local/share/julia/site/v0.3\"\n",
       " \"/Applications/Julia-0.3.11.app/Contents/Resources/julia/share/julia/site/v0.3\"      \n",
       " \".\"                                                                                  "
      ]
     },
     "execution_count": 2,
     "metadata": {},
     "output_type": "execute_result"
    }
   ],
   "source": [
    "push!(LOAD_PATH,\".\")"
   ]
  },
  {
   "cell_type": "code",
   "execution_count": 19,
   "metadata": {
    "collapsed": false
   },
   "outputs": [
    {
     "data": {
      "text/plain": [
       "ModInts"
      ]
     },
     "execution_count": 19,
     "metadata": {},
     "output_type": "execute_result"
    }
   ],
   "source": [
    "import ModInts;    # \"import\" does not add functions to the MAIN class  \n",
    "ms = ModInts       # so we need to assign an identifier, in a similar fash to Python's \"as\" statement"
   ]
  },
  {
   "cell_type": "code",
   "execution_count": 20,
   "metadata": {
    "collapsed": false
   },
   "outputs": [
    {
     "name": "stdout",
     "output_type": "stream",
     "text": [
      "# This file is a part of Julia. License is MIT: http://julialang.org/license\n",
      "\n",
      "module ModInts\n",
      "export ModInt\n",
      "\n",
      "immutable ModInt{n} <: Integer\n",
      "    k::Int\n",
      "    ModInt(k) = new(mod(k,n))\n",
      "end\n",
      "\n",
      "import Base.+, Base.-, Base.*\n",
      "\n",
      "-{n}(a::ModInt{n}) = ModInt{n}(-a.k)\n",
      "+{n}(a::ModInt{n}, b::ModInt{n}) = ModInt{n}(a.k+b.k)\n",
      "-{n}(a::ModInt{n}, b::ModInt{n}) = ModInt{n}(a.k-b.k)\n",
      "*{n}(a::ModInt{n}, b::ModInt{n}) = ModInt{n}(a.k*b.k)\n",
      "\n",
      "Base.convert{n}(::Type{ModInt{n}}, i::Int) = ModInt{n}(i)\n",
      "Base.promote_rule{n}(::Type{ModInt{n}}, ::Type{Int}) = ModInt{n}\n",
      "\n",
      "Base.show{n}(io::IO, k::ModInt{n}) = print(io, \"$(k.k) mod $n\")\n",
      "Base.showcompact(io::IO, k::ModInt) = print(io, k.k)\n",
      "\n",
      "Base.inv{n}(a::ModInt{n}) = ModInt{n}(invmod(a.k, n))\n",
      "\n",
      "end # module\n"
     ]
    }
   ],
   "source": [
    "; cat modints.jl"
   ]
  },
  {
   "cell_type": "code",
   "execution_count": 21,
   "metadata": {
    "collapsed": false
   },
   "outputs": [],
   "source": [
    "m1 = ms.ModInt{13}(8);\n",
    "m2 = ms.ModInt{13}(4);\n",
    "m3 = ms.ModInt{13}(3);"
   ]
  },
  {
   "cell_type": "code",
   "execution_count": 22,
   "metadata": {
    "collapsed": false
   },
   "outputs": [
    {
     "data": {
      "text/plain": [
       "7 mod 13"
      ]
     },
     "execution_count": 22,
     "metadata": {},
     "output_type": "execute_result"
    }
   ],
   "source": [
    "m1 + m2*m3"
   ]
  },
  {
   "cell_type": "code",
   "execution_count": 23,
   "metadata": {
    "collapsed": false
   },
   "outputs": [
    {
     "data": {
      "text/plain": [
       "9 mod 13"
      ]
     },
     "execution_count": 23,
     "metadata": {},
     "output_type": "execute_result"
    }
   ],
   "source": [
    "inv(m3)"
   ]
  },
  {
   "cell_type": "code",
   "execution_count": 24,
   "metadata": {
    "collapsed": false
   },
   "outputs": [
    {
     "data": {
      "text/plain": [
       "9 mod 13"
      ]
     },
     "execution_count": 24,
     "metadata": {},
     "output_type": "execute_result"
    }
   ],
   "source": [
    "m1 + 1"
   ]
  },
  {
   "cell_type": "code",
   "execution_count": 25,
   "metadata": {
    "collapsed": false
   },
   "outputs": [
    {
     "ename": "LoadError",
     "evalue": "< not defined for ModInt{13}\nwhile loading In[25], in expression starting on line 1",
     "output_type": "error",
     "traceback": [
      "< not defined for ModInt{13}\nwhile loading In[25], in expression starting on line 1",
      "",
      " in Rational at rational.jl:7",
      " in + at promotion.jl:158"
     ]
    }
   ],
   "source": [
    "m1 + 1//2"
   ]
  },
  {
   "cell_type": "code",
   "execution_count": 26,
   "metadata": {
    "collapsed": false
   },
   "outputs": [
    {
     "ename": "LoadError",
     "evalue": "no promotion exists for ModInt{13} and Float64\nwhile loading In[26], in expression starting on line 1",
     "output_type": "error",
     "traceback": [
      "no promotion exists for ModInt{13} and Float64\nwhile loading In[26], in expression starting on line 1",
      "",
      " in promote_to_super at promotion.jl:155",
      " in + at promotion.jl:158"
     ]
    }
   ],
   "source": [
    "m1 + 2.0"
   ]
  },
  {
   "cell_type": "code",
   "execution_count": 27,
   "metadata": {
    "collapsed": false
   },
   "outputs": [
    {
     "data": {
      "text/plain": [
       "10 mod 13"
      ]
     },
     "execution_count": 27,
     "metadata": {},
     "output_type": "execute_result"
    }
   ],
   "source": [
    "m1 + int(2.0)"
   ]
  },
  {
   "cell_type": "code",
   "execution_count": 28,
   "metadata": {
    "collapsed": false
   },
   "outputs": [
    {
     "data": {
      "text/plain": [
       "100-element Array{Any,1}:\n",
       "  4\n",
       "  6\n",
       "  6\n",
       "  3\n",
       " 12\n",
       "  4\n",
       "  5\n",
       " 11\n",
       "  3\n",
       "  6\n",
       " 10\n",
       " 12\n",
       " 11\n",
       "  ⋮\n",
       "  6\n",
       " 11\n",
       "  1\n",
       " 10\n",
       "  5\n",
       " 11\n",
       "  7\n",
       "  1\n",
       "  6\n",
       "  1\n",
       " 11\n",
       " 11"
      ]
     },
     "execution_count": 28,
     "metadata": {},
     "output_type": "execute_result"
    }
   ],
   "source": [
    "mm = [ms.ModInt{13}(rand(1:13)) for i = 1:100] "
   ]
  },
  {
   "cell_type": "code",
   "execution_count": 29,
   "metadata": {
    "collapsed": false
   },
   "outputs": [
    {
     "data": {
      "text/plain": [
       "10x10 Array{Any,2}:\n",
       "  4  10  0   5   3   7   9   7  11   1\n",
       "  6  12  7   3   2   2   2  11  12  10\n",
       "  6  11  2  11  11   6   8  10   7   5\n",
       "  3   9  8   5  11   9  12  11   1  11\n",
       " 12   8  9  11   4   5   7   8   0   7\n",
       "  4   5  1   9   3   2  11   6  12   1\n",
       "  5   1  2   6   3   5   9  10   5   6\n",
       " 11   1  7  10   5   0  12   8   4   1\n",
       "  3   9  0   8  10   0   1  11   6  11\n",
       "  6  11  6   0   3  11   1   4  11  11"
      ]
     },
     "execution_count": 29,
     "metadata": {},
     "output_type": "execute_result"
    }
   ],
   "source": [
    "ma = reshape(mm,10,10)"
   ]
  },
  {
   "cell_type": "code",
   "execution_count": 30,
   "metadata": {
    "collapsed": false
   },
   "outputs": [
    {
     "data": {
      "text/plain": [
       "10-element Array{Any,1}:\n",
       " 11\n",
       "  1\n",
       "  7\n",
       "  9\n",
       "  7\n",
       "  6\n",
       " 11\n",
       "  2\n",
       "  2\n",
       "  6"
      ]
     },
     "execution_count": 30,
     "metadata": {},
     "output_type": "execute_result"
    }
   ],
   "source": [
    "mx = [ms.ModInt{13}(rand(1:13)) for i = 1:10]"
   ]
  },
  {
   "cell_type": "code",
   "execution_count": 31,
   "metadata": {
    "collapsed": false
   },
   "outputs": [
    {
     "data": {
      "text/plain": [
       "10x10 Array{Any,2}:\n",
       "  3   6   0   1  10   7  10  11   8   1\n",
       "  1  12  10   1   1  12   9   9  11   8\n",
       "  7  12   7   4   6   5   5  10   7   2\n",
       " 11   3  10   2   4   5   5   3   5   9\n",
       "  1   4  12   4   1   2   6   8   0   8\n",
       "  4   4   3   5   9   7  11   7   1  10\n",
       "  7  11  11   9  10   5  10  12   6   6\n",
       "  8   2   7  11   5   0   4   6   3  12\n",
       "  1   5   0   1  10   0   9   5  11   2\n",
       "  6   1   5   0   9   6   1   9   2   6"
      ]
     },
     "execution_count": 31,
     "metadata": {},
     "output_type": "execute_result"
    }
   ],
   "source": [
    "mb = mx' .* ma .* mx "
   ]
  },
  {
   "cell_type": "code",
   "execution_count": 32,
   "metadata": {
    "collapsed": false
   },
   "outputs": [
    {
     "data": {
      "text/plain": [
       "10x10 Array{ModInt{13},2}:\n",
       "  1   8   0   1  12   5  12   5  5   1\n",
       "  1  12  12   1   1  12   1   1  5   5\n",
       "  5  12   5  12   8   8   8  12  5   8\n",
       "  5   1  12   8  12   8   8   1  8   1\n",
       "  1  12  12  12   1   8   8   5  0   5\n",
       " 12  12   1   8   1   5   5   5  1  12\n",
       "  5   5   5   1  12   8  12  12  8   8\n",
       "  5   8   5   5   8   0  12   8  1  12\n",
       "  1   8   0   1  12   0   1   8  5   8\n",
       "  8   1   8   0   1   8   1   1  8   8"
      ]
     },
     "execution_count": 32,
     "metadata": {},
     "output_type": "execute_result"
    }
   ],
   "source": [
    "mc = map(x -> x^3, mb)"
   ]
  },
  {
   "cell_type": "code",
   "execution_count": 33,
   "metadata": {
    "collapsed": false
   },
   "outputs": [
    {
     "data": {
      "text/plain": [
       "5x5 Array{ModInt{13},2}:\n",
       " 1   8   0   1  12\n",
       " 1  12  12   1   1\n",
       " 5  12   5  12   8\n",
       " 5   1  12   8  12\n",
       " 1  12  12  12   1"
      ]
     },
     "execution_count": 33,
     "metadata": {},
     "output_type": "execute_result"
    }
   ],
   "source": [
    "mc[1:5,1:5]"
   ]
  },
  {
   "cell_type": "markdown",
   "metadata": {},
   "source": [
    "## Staged code generation\n",
    "\n",
    "### Parsed code ------> AST ------> AST (typed) ------> LLVM IR ------> [Native code]\n",
    "\n",
    "```julia\n",
    "# 1 == 1 parsed as ==(1,1)\n",
    "\n",
    "# Try some of the following:\n",
    "\n",
    "@code_lowered 1 == 1       # or  ==(1,1)\n",
    "@code_typed   1 == 1\n",
    "@code_llvm    1 == 1  \n",
    "@code_native  1 == 1\n",
    "\n",
    "```"
   ]
  },
  {
   "cell_type": "code",
   "execution_count": 34,
   "metadata": {
    "collapsed": false
   },
   "outputs": [
    {
     "name": "stdout",
     "output_type": "stream",
     "text": [
      "\t.section\t__TEXT,__text,regular,pure_instructions\n",
      "Filename: promotion.jl\n",
      "Source line: 198\n",
      "\tpush\tRBP\n",
      "\tmov\tRBP, RSP\n",
      "\tcmp\tRDI, RSI\n",
      "Source line: 198\n",
      "\tsete\tAL\n",
      "\tpop\tRBP\n",
      "\tret\n"
     ]
    }
   ],
   "source": [
    "@code_native 1 == 1"
   ]
  },
  {
   "cell_type": "code",
   "execution_count": null,
   "metadata": {
    "collapsed": false
   },
   "outputs": [],
   "source": [
    "@code_native 1 == 1.0"
   ]
  },
  {
   "cell_type": "code",
   "execution_count": 3,
   "metadata": {
    "collapsed": false
   },
   "outputs": [
    {
     "data": {
      "text/plain": [
       "true"
      ]
     },
     "execution_count": 3,
     "metadata": {},
     "output_type": "execute_result"
    }
   ],
   "source": [
    "# By the way\n",
    "\n",
    "1 == 1.0"
   ]
  },
  {
   "cell_type": "code",
   "execution_count": 4,
   "metadata": {
    "collapsed": false
   },
   "outputs": [
    {
     "data": {
      "text/plain": [
       "false"
      ]
     },
     "execution_count": 4,
     "metadata": {},
     "output_type": "execute_result"
    }
   ],
   "source": [
    "1 === 1.0"
   ]
  },
  {
   "cell_type": "code",
   "execution_count": 35,
   "metadata": {
    "collapsed": false
   },
   "outputs": [
    {
     "data": {
      "text/plain": [
       "6765"
      ]
     },
     "execution_count": 35,
     "metadata": {},
     "output_type": "execute_result"
    }
   ],
   "source": [
    "# Define a fibonanicci function (recursively)\n",
    "\n",
    "function fib(n :: Integer)\n",
    "  @assert n > 0\n",
    "  return (n < 3) ? 1 : fib(n-1) + fib(n-2)\n",
    "end\n",
    "\n",
    "fib(20)"
   ]
  },
  {
   "cell_type": "code",
   "execution_count": 36,
   "metadata": {
    "collapsed": false
   },
   "outputs": [
    {
     "ename": "LoadError",
     "evalue": "assertion failed: n > 0\nwhile loading In[36], in expression starting on line 1",
     "output_type": "error",
     "traceback": [
      "assertion failed: n > 0\nwhile loading In[36], in expression starting on line 1",
      "",
      " in fib at In[35]:4"
     ]
    }
   ],
   "source": [
    "fib(-20)"
   ]
  },
  {
   "cell_type": "code",
   "execution_count": 37,
   "metadata": {
    "collapsed": false
   },
   "outputs": [
    {
     "ename": "LoadError",
     "evalue": "`fib` has no method matching fib(::Float64)\nwhile loading In[37], in expression starting on line 1",
     "output_type": "error",
     "traceback": [
      "`fib` has no method matching fib(::Float64)\nwhile loading In[37], in expression starting on line 1",
      ""
     ]
    }
   ],
   "source": [
    "fib(2.3)"
   ]
  },
  {
   "cell_type": "code",
   "execution_count": 38,
   "metadata": {
    "collapsed": false
   },
   "outputs": [
    {
     "data": {
      "text/plain": [
       ":(if n > 0\n",
       "        nothing\n",
       "    else \n",
       "        Base.error(\"assertion failed: n > 0\")\n",
       "    end)"
      ]
     },
     "execution_count": 38,
     "metadata": {},
     "output_type": "execute_result"
    }
   ],
   "source": [
    "macroexpand(:(@assert n > 0))"
   ]
  },
  {
   "cell_type": "code",
   "execution_count": 39,
   "metadata": {
    "collapsed": false
   },
   "outputs": [
    {
     "name": "stdout",
     "output_type": "stream",
     "text": [
      "\t.section\t__TEXT,__text,regular,pure_instructions\n",
      "Filename: In[35]\n",
      "Source line: 4\n",
      "\tpush\tRBP\n",
      "\tmov\tRBP, RSP\n",
      "\tpush\tR15\n",
      "\tpush\tR14\n",
      "\tpush\tRBX\n",
      "\tpush\tRAX\n",
      "\tmov\tRBX, RDI\n",
      "\ttest\tRBX, RBX\n",
      "Source line: 4\n",
      "\tjle\t64\n",
      "Source line: 5\n",
      "\tcmp\tRBX, 2\n",
      "\tjle\t38\n",
      "\tlea\tRDI, QWORD PTR [RBX - 1]\n",
      "\tmovabs\tR15, 4399269856\n",
      "\tcall\tR15\n",
      "\tmov\tR14, RAX\n",
      "\tadd\tRBX, -2\n",
      "\tmov\tRDI, RBX\n",
      "\tcall\tR15\n",
      "\tadd\tRAX, R14\n",
      "\tjmpq\t5\n",
      "\tmov\tEAX, 1\n",
      "\tadd\tRSP, 8\n",
      "\tpop\tRBX\n",
      "\tpop\tR14\n",
      "\tpop\tR15\n",
      "\tpop\tRBP\n",
      "\tret\n",
      "Source line: 4\n",
      "\tmovabs\tRAX, 4357696704\n",
      "\tmov\tEDI, 16\n",
      "\tcall\tRAX\n",
      "\tmovabs\tRCX, 140367349538432\n",
      "\tmov\tQWORD PTR [RAX], RCX\n",
      "\tmovabs\tRCX, 140367486918832\n",
      "\tmov\tQWORD PTR [RAX + 8], RCX\n",
      "\tmovabs\tRCX, 4357640544\n",
      "\tmov\tRDI, RAX\n",
      "\tmov\tESI, 4\n",
      "\tcall\tRCX\n"
     ]
    }
   ],
   "source": [
    "@code_native(fib(20))"
   ]
  },
  {
   "cell_type": "code",
   "execution_count": 5,
   "metadata": {
    "collapsed": false
   },
   "outputs": [
    {
     "data": {
      "text/plain": [
       "quote \n",
       "    #220#out = Base.Printf.STDOUT\n",
       "    #221###x#23473 = 20\n",
       "    #222###x#23474 = fib(20)\n",
       "    local #227#neg, #226#pt, #225#len, #219#exp, #223#do_out, #224#args\n",
       "    Base.Printf.write(#220#out,\"The value of fib(\")\n",
       "    if Base.Printf.isfinite(#221###x#23473)\n",
       "        (#223#do_out,#224#args) = Base.Printf.decode_dec(#220#out,#221###x#23473,\"\",0,-1,'d')\n",
       "        if #223#do_out\n",
       "            (#225#len,#226#pt,#227#neg) = #224#args\n",
       "            #227#neg && Base.Printf.write(#220#out,'-')\n",
       "            Base.Printf.write(#220#out,Base.Printf.pointer(Base.Printf.DIGITS),#226#pt)\n",
       "        end\n",
       "    else \n",
       "        Base.Printf.write(#220#out,begin  # printf.jl, line 143:\n",
       "                if Base.Printf.isnan(#221###x#23473)\n",
       "                    \"NaN\"\n",
       "                else \n",
       "                    if (#221###x#23473 Base.Printf.< 0)\n",
       "                        \"-Inf\"\n",
       "                    else \n",
       "                        \"Inf\"\n",
       "                    end\n",
       "                end\n",
       "            end)\n",
       "    end\n",
       "    Base.Printf.write(#220#out,\") is \")\n",
       "    if Base.Printf.isfinite(#222###x#23474)\n",
       "        (#223#do_out,#224#args) = Base.Printf.decode_dec(#220#out,#222###x#23474,\"\",0,-1,'d')\n",
       "        if #223#do_out\n",
       "            (#225#len,#226#pt,#227#neg) = #224#args\n",
       "            #227#neg && Base.Printf.write(#220#out,'-')\n",
       "            Base.Printf.write(#220#out,Base.Printf.pointer(Base.Printf.DIGITS),#226#pt)\n",
       "        end\n",
       "    else \n",
       "        Base.Printf.write(#220#out,begin  # printf.jl, line 143:\n",
       "                if Base.Printf.isnan(#222###x#23474)\n",
       "                    \"NaN\"\n",
       "                else \n",
       "                    if (#222###x#23474 Base.Printf.< 0)\n",
       "                        \"-Inf\"\n",
       "                    else \n",
       "                        \"Inf\"\n",
       "                    end\n",
       "                end\n",
       "            end)\n",
       "    end\n",
       "    Base.Printf.nothing\n",
       "end"
      ]
     },
     "execution_count": 5,
     "metadata": {},
     "output_type": "execute_result"
    }
   ],
   "source": [
    "macroexpand(:(@printf \"The value of fib(%d) is %d\" 20 fib(20)))"
   ]
  },
  {
   "cell_type": "markdown",
   "metadata": {},
   "source": [
    "---"
   ]
  },
  {
   "cell_type": "markdown",
   "metadata": {},
   "source": [
    "### Library calls have zero-overhead"
   ]
  },
  {
   "cell_type": "code",
   "execution_count": 6,
   "metadata": {
    "collapsed": false
   },
   "outputs": [
    {
     "data": {
      "text/plain": [
       "systime (generic function with 1 method)"
      ]
     },
     "execution_count": 6,
     "metadata": {},
     "output_type": "execute_result"
    }
   ],
   "source": [
    "systime() = ccall((:time,(\"libc\")), Int32, ())"
   ]
  },
  {
   "cell_type": "code",
   "execution_count": 7,
   "metadata": {
    "collapsed": false
   },
   "outputs": [
    {
     "data": {
      "text/plain": [
       "1462540994"
      ]
     },
     "execution_count": 7,
     "metadata": {},
     "output_type": "execute_result"
    }
   ],
   "source": [
    "systime()"
   ]
  },
  {
   "cell_type": "code",
   "execution_count": 8,
   "metadata": {
    "collapsed": false
   },
   "outputs": [
    {
     "name": "stdout",
     "output_type": "stream",
     "text": [
      "\t.section\t__TEXT,__text,regular,pure_instructions\n",
      "Filename: In[6]\n",
      "Source line: 1\n",
      "\tpush\tRBP\n",
      "\tmov\tRBP, RSP\n",
      "\tmovabs\tRAX, 140735708865772\n",
      "Source line: 1\n",
      "\tcall\tRAX\n",
      "\tpop\tRBP\n",
      "\tret\n"
     ]
    }
   ],
   "source": [
    "@code_native systime()"
   ]
  },
  {
   "cell_type": "code",
   "execution_count": null,
   "metadata": {
    "collapsed": true
   },
   "outputs": [],
   "source": []
  }
 ],
 "metadata": {
  "kernelspec": {
   "display_name": "Julia 0.3.11",
   "language": "julia",
   "name": "julia-0.3"
  },
  "language_info": {
   "file_extension": ".jl",
   "mimetype": "application/julia",
   "name": "julia",
   "version": "0.3.11"
  }
 },
 "nbformat": 4,
 "nbformat_minor": 0
}
