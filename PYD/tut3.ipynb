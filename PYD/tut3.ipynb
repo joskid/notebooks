{
 "cells": [
  {
   "cell_type": "markdown",
   "metadata": {},
   "source": [
    "# Calling Julia from Python"
   ]
  },
  {
   "cell_type": "markdown",
   "metadata": {
    "collapsed": false
   },
   "source": [
    "Import the Python module that we will need later"
   ]
  },
  {
   "cell_type": "code",
   "execution_count": 1,
   "metadata": {
    "collapsed": true
   },
   "outputs": [],
   "source": [
    "import time as tm\n",
    "import numpy as np\n",
    "import numpy.random as nr\n",
    "import matplotlib.pyplot as plt"
   ]
  },
  {
   "cell_type": "markdown",
   "metadata": {},
   "source": [
    "---"
   ]
  },
  {
   "cell_type": "markdown",
   "metadata": {},
   "source": [
    "## Type inference examples ( _from earlier_ )"
   ]
  },
  {
   "cell_type": "code",
   "execution_count": 2,
   "metadata": {
    "collapsed": false
   },
   "outputs": [
    {
     "data": {
      "text/plain": [
       "int"
      ]
     },
     "execution_count": 2,
     "metadata": {},
     "output_type": "execute_result"
    }
   ],
   "source": [
    "type(2 ** 3)"
   ]
  },
  {
   "cell_type": "code",
   "execution_count": 3,
   "metadata": {
    "collapsed": false
   },
   "outputs": [
    {
     "data": {
      "text/plain": [
       "float"
      ]
     },
     "execution_count": 3,
     "metadata": {},
     "output_type": "execute_result"
    }
   ],
   "source": [
    "type(2 ** -3)"
   ]
  },
  {
   "cell_type": "code",
   "execution_count": 4,
   "metadata": {
    "collapsed": false
   },
   "outputs": [
    {
     "data": {
      "text/plain": [
       "numpy.float64"
      ]
     },
     "execution_count": 4,
     "metadata": {},
     "output_type": "execute_result"
    }
   ],
   "source": [
    "type(np.sqrt(1))"
   ]
  },
  {
   "cell_type": "code",
   "execution_count": 5,
   "metadata": {
    "collapsed": false
   },
   "outputs": [
    {
     "name": "stderr",
     "output_type": "stream",
     "text": [
      "/Users/malcolm/anaconda2/lib/python2.7/site-packages/ipykernel/__main__.py:1: RuntimeWarning: invalid value encountered in sqrt\n",
      "  if __name__ == '__main__':\n"
     ]
    },
    {
     "data": {
      "text/plain": [
       "numpy.float64"
      ]
     },
     "execution_count": 5,
     "metadata": {},
     "output_type": "execute_result"
    }
   ],
   "source": [
    "type(np.sqrt(-1))"
   ]
  },
  {
   "cell_type": "code",
   "execution_count": 6,
   "metadata": {
    "collapsed": false
   },
   "outputs": [
    {
     "data": {
      "text/plain": [
       "numpy.complex128"
      ]
     },
     "execution_count": 6,
     "metadata": {},
     "output_type": "execute_result"
    }
   ],
   "source": [
    "type(np.sqrt(-1 + 0j))"
   ]
  },
  {
   "cell_type": "code",
   "execution_count": 7,
   "metadata": {
    "collapsed": true
   },
   "outputs": [],
   "source": [
    "def fac(n):\n",
    " if n < 2:\n",
    "   return 1\n",
    " else:\n",
    "   return n*fac(n-1)"
   ]
  },
  {
   "cell_type": "code",
   "execution_count": 8,
   "metadata": {
    "collapsed": false
   },
   "outputs": [
    {
     "data": {
      "text/plain": [
       "2432902008176640000"
      ]
     },
     "execution_count": 8,
     "metadata": {},
     "output_type": "execute_result"
    }
   ],
   "source": [
    "fac(20)"
   ]
  },
  {
   "cell_type": "code",
   "execution_count": 9,
   "metadata": {
    "collapsed": false
   },
   "outputs": [
    {
     "data": {
      "text/plain": [
       "51090942171709440000L"
      ]
     },
     "execution_count": 9,
     "metadata": {},
     "output_type": "execute_result"
    }
   ],
   "source": [
    "fac(21)"
   ]
  },
  {
   "cell_type": "markdown",
   "metadata": {},
   "source": [
    "### Bring in the Julia interpretor"
   ]
  },
  {
   "cell_type": "code",
   "execution_count": 10,
   "metadata": {
    "collapsed": false
   },
   "outputs": [],
   "source": [
    "from julia import Julia"
   ]
  },
  {
   "cell_type": "code",
   "execution_count": 11,
   "metadata": {
    "collapsed": false
   },
   "outputs": [],
   "source": [
    "jl = Julia()"
   ]
  },
  {
   "cell_type": "code",
   "execution_count": 12,
   "metadata": {
    "collapsed": false
   },
   "outputs": [
    {
     "data": {
      "text/plain": [
       "0.38149088412038057"
      ]
     },
     "execution_count": 12,
     "metadata": {},
     "output_type": "execute_result"
    }
   ],
   "source": [
    "jl.bessely0(1.5) * np.sin(1.5)"
   ]
  },
  {
   "cell_type": "code",
   "execution_count": 13,
   "metadata": {
    "collapsed": true
   },
   "outputs": [],
   "source": [
    "x = [0.1*i for i in range(300)]"
   ]
  },
  {
   "cell_type": "code",
   "execution_count": 14,
   "metadata": {
    "collapsed": false
   },
   "outputs": [],
   "source": [
    "y = [jl.gamma(0.015*(i+1)) * np.sin(0.15*i)  for i in range(300)]"
   ]
  },
  {
   "cell_type": "code",
   "execution_count": 15,
   "metadata": {
    "collapsed": false
   },
   "outputs": [],
   "source": [
    "plt.plot(x,y)\n",
    "plt.show()"
   ]
  },
  {
   "cell_type": "markdown",
   "metadata": {},
   "source": [
    "---"
   ]
  },
  {
   "cell_type": "markdown",
   "metadata": {},
   "source": [
    "### Series expansion for log(x), |x| < 1.0, is very slow as x -> 1.0\n",
    "\n",
    "log(1+x) = x - x<sup>2</sup>/2 + x<sup>3</sup>/3 - x<sup>4</sup>/4 + x<sup>5</sup>/5 - . . .\n"
   ]
  },
  {
   "cell_type": "code",
   "execution_count": null,
   "metadata": {
    "collapsed": true
   },
   "outputs": [],
   "source": [
    "def slogp(x,n):\n",
    "   if (n > 0 and abs(x) < 1):\n",
    "      s = 0.0\n",
    "      for i in range(n):\n",
    "         j = i + 1\n",
    "         s += ((-1)**i) * (x**j / float(j))\n",
    "      return s\n",
    "   else:\n",
    "      raise ValueError('Illegal parameter values')"
   ]
  },
  {
   "cell_type": "code",
   "execution_count": null,
   "metadata": {
    "collapsed": false
   },
   "outputs": [],
   "source": [
    "slogp(0.99995,1000)"
   ]
  },
  {
   "cell_type": "code",
   "execution_count": null,
   "metadata": {
    "collapsed": false
   },
   "outputs": [],
   "source": [
    "t0 = tm.time(); slogp(0.99995,10000000); print (tm.time() - t0)"
   ]
  },
  {
   "cell_type": "code",
   "execution_count": null,
   "metadata": {
    "collapsed": false
   },
   "outputs": [],
   "source": [
    "slogj = jl.eval(\"\"\"\n",
    "function slog(x::Real,n::Integer)\n",
    "  @assert abs(n) > 0\n",
    "  @assert abs(x) < 1.0\n",
    "  s = 0.0\n",
    "  for i in 1:n\n",
    "    s += (-1)^(i+1) * (x^i / i)\n",
    "  end\n",
    "  return s\n",
    "end\n",
    "\"\"\")"
   ]
  },
  {
   "cell_type": "code",
   "execution_count": null,
   "metadata": {
    "collapsed": false
   },
   "outputs": [],
   "source": [
    "slogj(0.99995,1000)"
   ]
  },
  {
   "cell_type": "code",
   "execution_count": null,
   "metadata": {
    "collapsed": false
   },
   "outputs": [],
   "source": [
    "slogj(0.99995,10000000)"
   ]
  },
  {
   "cell_type": "code",
   "execution_count": null,
   "metadata": {
    "collapsed": false
   },
   "outputs": [],
   "source": [
    "t0 = tm.time(); slogj(0.99995,10000000); print (tm.time() - t0)"
   ]
  },
  {
   "cell_type": "markdown",
   "metadata": {},
   "source": [
    "---"
   ]
  },
  {
   "cell_type": "markdown",
   "metadata": {},
   "source": [
    "### Vander function is difficult to compute as a vectorised process\n",
    "<p>\n",
    "A Vandermonde matrix, named after Alexandre-Théophile Vandermonde, is a matrix with the terms of a geometric progression in each row, i.e., an m × n matrix.</p>\n",
    "<p>\n",
    "1&nbsp;&nbsp;a&nbsp;&nbsp;a<sup>2</sup>&nbsp;a<sup>3</sup> . . . . . . . . . . . . . . . .&nbsp;a<sup>(n-1)</sup><br/>\n",
    "1&nbsp;&nbsp;b&nbsp;&nbsp;b<sup>2</sup>&nbsp;b<sup>3</sup> . . . . . . . . . . . . . . . .&nbsp;b<sup>(n-1)</sup><br/>\n",
    "1&nbsp;&nbsp;c&nbsp;&nbsp;c<sup>2</sup>&nbsp;c<sup>3</sup> . . . . . . . . . . . . . . . .&nbsp;c<sup>(n-1)</sup><br/>\n",
    ". . .<br/>\n",
    ". . .<br/>\n",
    ". . .<br/>\n",
    "1&nbsp;&nbsp;m&nbsp;&nbsp;m<sup>2</sup>&nbsp;m<sup>3</sup> . . . . . . . . . . . . . . . .&nbsp;m<sup>(n-1)</sup><br/>\n",
    "</p>\n",
    "<p>\n",
    "Vandermonde matrices are used in linear algebra (Hermite interpolation), DFT (discrete Fourier transforms) and Group theory.</p>\n",
    "<p>\n",
    "They are also used in some forms of BCH and Reed–Solomon error correction codes.</p>\n",
    "<p>\n",
    "These are an important group of error-correcting codes which have many important applications, which include technologies such as CDs, DVDs, Blu-ray Discs, QR Codes, data transmission technologies such as DSL and WiMAX, broadcast systems such as DVB and ATSC, and storage systems such as RAID 6; they are also used in satellite communication.</p>\n"
   ]
  },
  {
   "cell_type": "markdown",
   "metadata": {},
   "source": [
    "The PYTHON (numpy) code is quite straight forward\n",
    "\n",
    "```python\n",
    "def vander(x,N):\n",
    "  x = np.asarray(x)\n",
    "  if x.ndim != 1:\n",
    "    raise ValueError(\"x must be a 1-D array or sequence\")\n",
    "  v = np.empty((len(x), N), dtype=np.promote_types(x.dtype, int))\n",
    "  if N > 0:\n",
    "    v[:,0] = 1\n",
    "  if N > 1:\n",
    "    v[:, 1:] = x[:, None]\n",
    "    np.multiply.accumulate(v[:, 1:], out=v[:, 1:], axis=1)\n",
    "  return v\n",
    "\n",
    "```\n",
    "\n",
    "But the accumulate function is very complex, written in C and is 347 lines long."
   ]
  },
  {
   "cell_type": "code",
   "execution_count": null,
   "metadata": {
    "collapsed": false
   },
   "outputs": [],
   "source": [
    "x = nr.rand(1000); "
   ]
  },
  {
   "cell_type": "code",
   "execution_count": null,
   "metadata": {
    "collapsed": false
   },
   "outputs": [],
   "source": [
    "np.vander(x,50)"
   ]
  },
  {
   "cell_type": "markdown",
   "metadata": {},
   "source": [
    "The Julia version is much closer to algorithm\n",
    "\n",
    "```\n",
    "function vander(x, N::Int)\n",
    "  x = convert(AbstractVector, x)\n",
    "  M = length(x)\n",
    "  v = Array(promote_type(eltype(x),Int), M, N)\n",
    "  if N > 0 \n",
    "    v[:, 1] = 1\n",
    "  end\n",
    "  if N > 1\n",
    "    for i = 2:N\n",
    "      v[:,i] = x\n",
    "    end\n",
    "    accumulate(*,v,v)\n",
    "  end\n",
    "  return v\n",
    "end\n",
    "\n",
    "function accumulate(op, input, output)\n",
    "  M, N = size(input)\n",
    "  for i = 2:N\n",
    "    for j = 1:M\n",
    "      output[j,i] = op(input[j,i], input[j,i-1])\n",
    "    end\n",
    "  end\n",
    "end\n",
    "\n",
    "```\n",
    "\n",
    "The accumulate function is written in Julia and only 6 lines of code"
   ]
  },
  {
   "cell_type": "code",
   "execution_count": null,
   "metadata": {
    "collapsed": false
   },
   "outputs": [],
   "source": [
    "jl.eval('pwd()')"
   ]
  },
  {
   "cell_type": "code",
   "execution_count": null,
   "metadata": {
    "collapsed": false
   },
   "outputs": [],
   "source": [
    "jl.call('include(\"./code/vander.jl\")')"
   ]
  },
  {
   "cell_type": "code",
   "execution_count": null,
   "metadata": {
    "collapsed": false
   },
   "outputs": [],
   "source": [
    "jl.eval(\"xx = rand(1000);\")\n",
    "jl.eval(\"@timed vander(xx,50)\")"
   ]
  },
  {
   "cell_type": "markdown",
   "metadata": {},
   "source": [
    "---"
   ]
  },
  {
   "cell_type": "markdown",
   "metadata": {},
   "source": [
    "# Using the Cosmology module"
   ]
  },
  {
   "cell_type": "code",
   "execution_count": 8,
   "metadata": {
    "collapsed": false
   },
   "outputs": [],
   "source": [
    "jl.eval('using Cosmology')"
   ]
  },
  {
   "cell_type": "code",
   "execution_count": 9,
   "metadata": {
    "collapsed": false
   },
   "outputs": [
    {
     "data": {
      "text/plain": [
       "<PyCall.jlwrap OpenLCDM(0.69,0.1,0.53,0.26,0.11)>"
      ]
     },
     "execution_count": 9,
     "metadata": {},
     "output_type": "execute_result"
    }
   ],
   "source": [
    "jl.eval('csm = cosmology(OmegaM=0.26, OmegaK=0.1, OmegaR=0.11, Tcmb=3.1)')"
   ]
  },
  {
   "cell_type": "code",
   "execution_count": 10,
   "metadata": {
    "collapsed": false
   },
   "outputs": [
    {
     "data": {
      "text/plain": [
       "1562.4172706124527"
      ]
     },
     "execution_count": 10,
     "metadata": {},
     "output_type": "execute_result"
    }
   ],
   "source": [
    "jl.eval('angular_diameter_dist_mpc(csm, 1.3)')"
   ]
  },
  {
   "cell_type": "code",
   "execution_count": 11,
   "metadata": {
    "collapsed": false
   },
   "outputs": [
    {
     "data": {
      "text/plain": [
       "3.0292101139640337"
      ]
     },
     "execution_count": 11,
     "metadata": {},
     "output_type": "execute_result"
    }
   ],
   "source": [
    "jl.eval('age_gyr(csm, 1.3)')"
   ]
  },
  {
   "cell_type": "code",
   "execution_count": 12,
   "metadata": {
    "collapsed": false
   },
   "outputs": [
    {
     "data": {
      "text/plain": [
       "7.950649088454039"
      ]
     },
     "execution_count": 12,
     "metadata": {},
     "output_type": "execute_result"
    }
   ],
   "source": [
    "jl.eval('lookback_time_gyr(csm, 1.3)')"
   ]
  },
  {
   "cell_type": "markdown",
   "metadata": {},
   "source": [
    "---"
   ]
  },
  {
   "cell_type": "markdown",
   "metadata": {},
   "source": [
    "# Asian option price\n",
    "( Compare with the Python code: _asianOpt.py_ )"
   ]
  },
  {
   "cell_type": "code",
   "execution_count": 13,
   "metadata": {
    "collapsed": false
   },
   "outputs": [
    {
     "data": {
      "text/plain": [
       "<PyCall.jlwrap asianOpt>"
      ]
     },
     "execution_count": 13,
     "metadata": {},
     "output_type": "execute_result"
    }
   ],
   "source": [
    "jl.eval(\"\"\"\n",
    "function asianOpt(N=1000, T=100; S0=100.0, K=100.0, r=0.05, q=0.0, v=0.2, tma=0.25\t) \n",
    "\n",
    "# European Asian option.  \n",
    "# Euler and Milstein discretization for Black-Scholes.\n",
    "\n",
    "  dt = tma/T;      # Time increment\n",
    "\n",
    "  S = zeros(Float64,T);\n",
    "  A = zeros(Float64,N);\n",
    "\n",
    "# Main calculation loop\n",
    "\n",
    "  for n = 1:N\n",
    "    S[1] = S0 \n",
    "    dW = randn(T)*sqrt(dt);\n",
    "    for t = 2:T\n",
    "      z0 = (r - q - 0.5*v*v)*S[t-1]*dt;\n",
    "      z1 = v*S[t-1]*dW[t];\n",
    "      z2 = 0.5*v*v*S[t-1]*dW[t]*dW[t];\n",
    "      S[t] = S[t-1] + z0 + z1 + z2;\n",
    "    end\n",
    "    A[n] = mean(S);\n",
    "  end\n",
    "\n",
    "# Define the payoff and calculate price\n",
    "\n",
    "  P = zeros(Float64,N);\n",
    "  [ P[n] = max(A[n] - K, 0) for n = 1:N ];\n",
    "  price = exp(-r*tma)*mean(P);\n",
    "\n",
    "end\n",
    "\"\"\")"
   ]
  },
  {
   "cell_type": "code",
   "execution_count": 14,
   "metadata": {
    "collapsed": false
   },
   "outputs": [
    {
     "data": {
      "text/plain": [
       "(1.676897861724939, 3.245925463, 1823036520, 1.061756212)"
      ]
     },
     "execution_count": 14,
     "metadata": {},
     "output_type": "execute_result"
    }
   ],
   "source": [
    "rts = jl.eval('@timed asianOpt(1000000,100; K=102.0)')\n",
    "rts"
   ]
  },
  {
   "cell_type": "code",
   "execution_count": 15,
   "metadata": {
    "collapsed": false
   },
   "outputs": [
    {
     "name": "stdout",
     "output_type": "stream",
     "text": [
      "Option price is  1.67689786172\n",
      "Time taken was   3.245925463 sec.\n"
     ]
    }
   ],
   "source": [
    "print \"Option price is \", rts[0]\n",
    "print \"Time taken was  \", rts[1], \"sec.\""
   ]
  },
  {
   "cell_type": "code",
   "execution_count": null,
   "metadata": {
    "collapsed": true
   },
   "outputs": [],
   "source": []
  }
 ],
 "metadata": {
  "kernelspec": {
   "display_name": "Python 2",
   "language": "python",
   "name": "python2"
  },
  "language_info": {
   "codemirror_mode": {
    "name": "ipython",
    "version": 2
   },
   "file_extension": ".py",
   "mimetype": "text/x-python",
   "name": "python",
   "nbconvert_exporter": "python",
   "pygments_lexer": "ipython2",
   "version": "2.7.11"
  }
 },
 "nbformat": 4,
 "nbformat_minor": 0
}
