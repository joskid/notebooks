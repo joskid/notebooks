{
 "cells": [
  {
   "cell_type": "markdown",
   "metadata": {},
   "source": [
    "This workbook requires PyCall, PyPlot, Interact and SymPy.\n",
    "\n",
    "For the database example the Chinook database needs to be installed in a MySQL database.<br/>\n",
    "The MySQL daemon must be running and _mysql.connector_ installed on the Python side.<br/>\n",
    "The SciPy library should be already available.<br/><br/>"
   ]
  },
  {
   "cell_type": "markdown",
   "metadata": {},
   "source": [
    "# Accessing in Python via Julia\n",
    "\n",
    "## Graphics using PyPlot"
   ]
  },
  {
   "cell_type": "code",
   "execution_count": 3,
   "metadata": {
    "collapsed": false
   },
   "outputs": [
    {
     "name": "stderr",
     "output_type": "stream",
     "text": [
      "INFO: Loading help data...\n"
     ]
    }
   ],
   "source": [
    "using PyCall, PyPlot"
   ]
  },
  {
   "cell_type": "code",
   "execution_count": null,
   "metadata": {
    "collapsed": false
   },
   "outputs": [],
   "source": [
    "x = linspace(0,2pi,1001);\n",
    "y = sin(3*x + 4*cos(2*x));\n",
    "plot(x,y,color=\"red\",linewidth=2.0, linestyle=\"--\")"
   ]
  },
  {
   "cell_type": "code",
   "execution_count": null,
   "metadata": {
    "collapsed": false
   },
   "outputs": [],
   "source": [
    "z = linspace(0, 3π, 250);\n",
    "surf(z, z, z.*sin(z).*cos(z)'.*exp(-0.4z))"
   ]
  },
  {
   "cell_type": "markdown",
   "metadata": {},
   "source": [
    "---"
   ]
  },
  {
   "cell_type": "markdown",
   "metadata": {},
   "source": [
    "## MySQL database access"
   ]
  },
  {
   "cell_type": "markdown",
   "metadata": {},
   "source": [
    "[Chinook](https://chinookdatabase.codeplex.com) is a sample database available for SQL Server, Oracle, MySQL, etc.\n",
    "\n",
    "The Chinook data model represents a digital media store, including tables for artists, albums, media tracks, invoices and customers.<br/>You can see the Chinook data model [here](https://chinookdatabase.codeplex.com/wikipage?title=Chinook_Schema).\n",
    "\n",
    "- Media related data was created using real data from an iTunes Library. \n",
    "\n",
    "- Customer and employee information was manually created using fictitious names, addresses that can be located on Google maps, and other well formatted data (phone, fax, email, etc.).\n",
    "\n",
    "- Sales information is auto generated using random data for a four year period.\n"
   ]
  },
  {
   "cell_type": "markdown",
   "metadata": {},
   "source": [
    "### Query the Chinook database\n",
    "[Get the database files from here](https://chinookdatabase.codeplex.com)"
   ]
  },
  {
   "cell_type": "markdown",
   "metadata": {},
   "source": [
    "### Python code\n",
    "\n",
    "```python\n",
    "import mysql.connector as mc\n",
    "cnx = mc.connect(user=\"malcolm\", password=\"mypasswd\", database=\"Chinook\")\n",
    "csr = cnx.cursor()\n",
    "qry = \"select a.title, b.name from Album a, Artist b where a.ArtistId = b.ArtistId limit 10;\"\n",
    "csr.execute(qry)\n",
    "for vals in csr:\n",
    "    print(vals)\n",
    "    \n",
    "csr.close()\n",
    "cnx.close()\n",
    "```"
   ]
  },
  {
   "cell_type": "markdown",
   "metadata": {},
   "source": [
    "For this code to work the MySQL daemon must be running and the Chinook data loaded.<br/>If is sensible to test this from the _mysql_ client before executing this code.\n",
    "\n",
    "The _&lt;user&gt;_ chosen must be granted access rights to the data (at least SELECT privilige ).\n",
    "\n",
    "THe connection string needs to be amended to reflect the specific: **user/password/database**.  "
   ]
  },
  {
   "cell_type": "code",
   "execution_count": null,
   "metadata": {
    "collapsed": false
   },
   "outputs": [],
   "source": [
    "# Julia version\n",
    "\n",
    "@pyimport mysql.connector as mc\n",
    "cnx = mc.connect(user=\"malcolm\", password=\"mypasswd\", database=\"Chinook\")"
   ]
  },
  {
   "cell_type": "code",
   "execution_count": null,
   "metadata": {
    "collapsed": false
   },
   "outputs": [],
   "source": [
    "macroexpand(:(@pyimport mysql.connector as mc))"
   ]
  },
  {
   "cell_type": "code",
   "execution_count": null,
   "metadata": {
    "collapsed": false
   },
   "outputs": [],
   "source": [
    "qry = \"select a.title, b.name from Album a, Artist b \";\n",
    "qry *= \"where a.ArtistId = b.ArtistId limit 10;\";\n",
    "csr = cnx[:cursor]();\n",
    "csr[:execute](qry);"
   ]
  },
  {
   "cell_type": "code",
   "execution_count": null,
   "metadata": {
    "collapsed": false
   },
   "outputs": [],
   "source": [
    "for vals in csr\n",
    "  album  = vals[1]\n",
    "  artist = vals[2]\n",
    "    @printf \"%s by %s\\n\" album artist\n",
    "end"
   ]
  },
  {
   "cell_type": "code",
   "execution_count": null,
   "metadata": {
    "collapsed": false
   },
   "outputs": [],
   "source": [
    "csr[:close]();\n",
    "cnx[:close]();"
   ]
  },
  {
   "cell_type": "markdown",
   "metadata": {},
   "source": [
    "---"
   ]
  },
  {
   "cell_type": "markdown",
   "metadata": {},
   "source": [
    "## Using SciPy"
   ]
  },
  {
   "cell_type": "markdown",
   "metadata": {},
   "source": [
    "### Nelder-Mead Simplex algorithm\n",
    "[Description of the problem](http://docs.scipy.org/doc/scipy/reference/tutorial/optimize.html)"
   ]
  },
  {
   "cell_type": "markdown",
   "metadata": {},
   "source": [
    "The simplex algorithm is probably the simplest way to minimize a fairly well-behaved function. \n",
    "\n",
    "It requires only function evaluations and is a good choice for simple minimization problems. \n",
    "\n",
    "However, because it does not use any gradient evaluations, it may take longer to find the minimum."
   ]
  },
  {
   "cell_type": "code",
   "execution_count": null,
   "metadata": {
    "collapsed": true
   },
   "outputs": [],
   "source": [
    "@pyimport scipy.optimize as so"
   ]
  },
  {
   "cell_type": "code",
   "execution_count": null,
   "metadata": {
    "collapsed": true
   },
   "outputs": [],
   "source": [
    "x0 = [1.3, 0.7, 0.8, 1.9, 1.2, 1.1];\n",
    "opts = Dict();\n",
    "opts[\"xtol\"] = 1e-8; opts[\"disp\"] =  true;"
   ]
  },
  {
   "cell_type": "code",
   "execution_count": null,
   "metadata": {
    "collapsed": true
   },
   "outputs": [],
   "source": [
    "rosen(x) = sum(100.0*(x[2:end] - x[1:end-1].^2.0).^2.0 + (1 - x[1:end-1]).^2.0);"
   ]
  },
  {
   "cell_type": "code",
   "execution_count": null,
   "metadata": {
    "collapsed": false
   },
   "outputs": [],
   "source": [
    "so.minimize(rosen, x0, method=\"nelder-mead\",options=opts);"
   ]
  },
  {
   "cell_type": "markdown",
   "metadata": {},
   "source": [
    "---"
   ]
  },
  {
   "cell_type": "markdown",
   "metadata": {},
   "source": [
    "### Least Squares Fit"
   ]
  },
  {
   "cell_type": "markdown",
   "metadata": {},
   "source": [
    "The least square algorithm is a well tried and tested technique.\n",
    "\n",
    "It minimises the sum of the residuals of a _fitted_ curve with its data points in order to estimate the parameters.\n",
    "\n",
    "Here we create a sinusoid and add some noise, fit the LSQ curve and compare it with the original and the data points."
   ]
  },
  {
   "cell_type": "code",
   "execution_count": null,
   "metadata": {
    "collapsed": true
   },
   "outputs": [],
   "source": [
    "(A, k, θ) = (10.0, 1.0/0.03, π/6.0);\n",
    "x = collect(0.0:0.002:0.058);\n",
    "y_true = A * sin(2π*k*x + θ);\n",
    "y_meas = y_true + 2*randn(length(x));"
   ]
  },
  {
   "cell_type": "code",
   "execution_count": null,
   "metadata": {
    "collapsed": true
   },
   "outputs": [],
   "source": [
    "function residuals(p, y, x)\n",
    "  (A, k, θ) = p\n",
    "  return y - A * sin(2π*k*x + θ)\n",
    "end;\n",
    "peval(x, p) =  p[1] * sin(2π*p[2]*x + p[3]);"
   ]
  },
  {
   "cell_type": "code",
   "execution_count": null,
   "metadata": {
    "collapsed": true
   },
   "outputs": [],
   "source": [
    "p0 = [8, 1/2.3e-2, pi/3];\n",
    "plsq = so.leastsq(residuals, p0, args=(y_meas, x));"
   ]
  },
  {
   "cell_type": "code",
   "execution_count": null,
   "metadata": {
    "collapsed": false
   },
   "outputs": [],
   "source": [
    "p = plot(x, y_true);\n",
    "p = plot(x, y_meas, marker=\"o\", linestyle=\" \");\n",
    "p = plot(x, peval(x, plsq[1]), linestyle=\"--\");\n",
    "\n",
    "p"
   ]
  },
  {
   "cell_type": "markdown",
   "metadata": {},
   "source": [
    "---"
   ]
  },
  {
   "cell_type": "markdown",
   "metadata": {},
   "source": [
    "## Interactive Widgets in IJulia"
   ]
  },
  {
   "cell_type": "markdown",
   "metadata": {},
   "source": [
    "IPython 2.0 introduced interactive widgets, which are basically:\n",
    "\n",
    "* Javascript widgets (sliders, buttons, etc.)\n",
    "* A communications protocol for the widgets to talk to the kernel\n",
    "* A Python interface to create and manipulate these.\n",
    "\n",
    "Thanks to [Shashi Gowda](https://github.com/shashi/), these are accessible from a Julia interface."
   ]
  },
  {
   "cell_type": "code",
   "execution_count": null,
   "metadata": {
    "collapsed": false
   },
   "outputs": [],
   "source": [
    "using Interact"
   ]
  },
  {
   "cell_type": "code",
   "execution_count": null,
   "metadata": {
    "collapsed": false
   },
   "outputs": [],
   "source": [
    "@manipulate for n in 1:100\n",
    "    rand(n,n)\n",
    "end"
   ]
  },
  {
   "cell_type": "markdown",
   "metadata": {},
   "source": [
    "### Interactive graphics"
   ]
  },
  {
   "cell_type": "code",
   "execution_count": null,
   "metadata": {
    "collapsed": false
   },
   "outputs": [],
   "source": [
    "using PyPlot"
   ]
  },
  {
   "cell_type": "code",
   "execution_count": null,
   "metadata": {
    "collapsed": false
   },
   "outputs": [],
   "source": [
    "x = linspace(0,10,1000)\n",
    "f = figure()\n",
    "@manipulate for α = 1:0.1:4, β = 1:0.1:4, title=\"an interactive plot\"\n",
    "    withfig(f) do\n",
    "        plot(x, cos(α*x + sin(β*x)))\n",
    "        legend([title])\n",
    "    end\n",
    "end"
   ]
  },
  {
   "cell_type": "markdown",
   "metadata": {
    "collapsed": false
   },
   "source": [
    "### Automating SymPy"
   ]
  },
  {
   "cell_type": "code",
   "execution_count": null,
   "metadata": {
    "collapsed": false
   },
   "outputs": [],
   "source": [
    "using SymPy\n",
    "x = symbols(\"x\")\n",
    "@manipulate for n=0:20\n",
    "    latex(SymPy.diff(sin(x^2), x, n))\n",
    "end"
   ]
  },
  {
   "cell_type": "markdown",
   "metadata": {
    "collapsed": true
   },
   "source": [
    "### FX market ticker"
   ]
  },
  {
   "cell_type": "markdown",
   "metadata": {
    "collapsed": false
   },
   "source": [
    "_**Run this from a julia command prompt**_\n",
    "\n",
    "```julia\n",
    "using PyCall\n",
    "@pyimport myfinx as fx\n",
    "fx.run(\"MSFT\")\n",
    "```"
   ]
  },
  {
   "cell_type": "code",
   "execution_count": null,
   "metadata": {
    "collapsed": true
   },
   "outputs": [],
   "source": []
  }
 ],
 "metadata": {
  "kernelspec": {
   "display_name": "Julia 0.3.11",
   "language": "julia",
   "name": "julia-0.3"
  },
  "language_info": {
   "file_extension": ".jl",
   "mimetype": "application/julia",
   "name": "julia",
   "version": "0.3.11"
  }
 },
 "nbformat": 4,
 "nbformat_minor": 0
}
