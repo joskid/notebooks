{
 "cells": [
  {
   "cell_type": "code",
   "execution_count": null,
   "metadata": {
    "collapsed": true
   },
   "outputs": [],
   "source": [
    "using PyPlot\n"
   ]
  },
  {
   "cell_type": "code",
   "execution_count": null,
   "metadata": {
    "collapsed": true
   },
   "outputs": [],
   "source": [
    "x = linspace(0,2pi,1001);\n",
    "y = sin(3*x + 4*cos(2*x));"
   ]
  },
  {
   "cell_type": "code",
   "execution_count": null,
   "metadata": {
    "collapsed": false
   },
   "outputs": [],
   "source": [
    "xkcd();\n",
    "fig = figure(figsize=(10,5));\n",
    "ax = axes();\n",
    "annotate(\"A little\\nsketchy\", \n",
    "         xy = [0.98,0.001],arrowprops = [\"arrowstyle\" => \"->\"],\n",
    "         xytext = [1.3, -0.3]);\n",
    "xticks(); xlabel(\"TIME\");\n",
    "yticks(); ylabel(\"PRODUCTIVITY\");\n",
    "title(\"An xkcd-style plot in Julia\");\n",
    "ax[:spines][\"top\"][:set_color](\"none\");\n",
    "ax[:spines][\"right\"][:set_color](\"none\");\n",
    "plot(x,sin(3x + cos(5x)))"
   ]
  },
  {
   "cell_type": "code",
   "execution_count": null,
   "metadata": {
    "collapsed": false
   },
   "outputs": [],
   "source": [
    "p = plot(x,sin(3x + cos(5x)))\n"
   ]
  },
  {
   "cell_type": "code",
   "execution_count": null,
   "metadata": {
    "collapsed": true
   },
   "outputs": [],
   "source": []
  }
 ],
 "metadata": {
  "kernelspec": {
   "display_name": "Julia 0.4.2",
   "language": "julia",
   "name": "julia-0.4"
  },
  "language_info": {
   "file_extension": ".jl",
   "mimetype": "application/julia",
   "name": "julia",
   "version": "0.4.2"
  }
 },
 "nbformat": 4,
 "nbformat_minor": 0
}
