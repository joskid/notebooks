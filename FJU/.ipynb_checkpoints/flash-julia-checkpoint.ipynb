{
 "cells": [
  {
   "cell_type": "markdown",
   "metadata": {
    "slideshow": {
     "slide_type": "slide"
    }
   },
   "source": [
    "![](./Image3a.png)"
   ]
  },
  {
   "cell_type": "markdown",
   "metadata": {
    "slideshow": {
     "slide_type": "subslide"
    }
   },
   "source": [
    "<hr size='3' />"
   ]
  },
  {
   "cell_type": "code",
   "execution_count": 1,
   "metadata": {
    "collapsed": false,
    "slideshow": {
     "slide_type": "subslide"
    }
   },
   "outputs": [
    {
     "data": {
      "text/plain": [
       "1-element Array{Any,1}:\n",
       " :($(Expr(:lambda, {:x}, {{},{{:x,:Any,0}},{}}, :(begin  # In[1], line 1:\n",
       "        return x + 1\n",
       "    end))))"
      ]
     },
     "execution_count": 1,
     "metadata": {},
     "output_type": "execute_result"
    }
   ],
   "source": [
    "incr(x) = x + 1\n",
    "code_lowered(incr,(Int64,))"
   ]
  },
  {
   "cell_type": "code",
   "execution_count": 2,
   "metadata": {
    "collapsed": false,
    "slideshow": {
     "slide_type": "subslide"
    }
   },
   "outputs": [
    {
     "name": "stdout",
     "output_type": "stream",
     "text": [
      "\n",
      "define i64 @julia_incr_20928(i64) {\n",
      "top:\n",
      "  %1 = add i64 %0, 1, !dbg !2523\n",
      "  ret i64 %1, !dbg !2523\n",
      "}\n"
     ]
    }
   ],
   "source": [
    "code_llvm(incr,(Int64,))"
   ]
  },
  {
   "cell_type": "markdown",
   "metadata": {
    "slideshow": {
     "slide_type": "slide"
    }
   },
   "source": [
    "![](./gamma-fn.png)"
   ]
  },
  {
   "cell_type": "code",
   "execution_count": 3,
   "metadata": {
    "collapsed": false,
    "slideshow": {
     "slide_type": "subslide"
    }
   },
   "outputs": [
    {
     "name": "stdout",
     "output_type": "stream",
     "text": [
      "\t.section\t__TEXT,__text,regular,pure_instructions\n",
      "Filename: In[1]\n",
      "Source line: 1\n",
      "\tpush\tRBP\n",
      "\tmov\tRBP, RSP\n",
      "Source line: 1\n",
      "\tlea\tRAX, QWORD PTR [RDI + 1]\n",
      "\tpop\tRBP\n",
      "\tret\n"
     ]
    }
   ],
   "source": [
    "code_native(incr,(Int64,))"
   ]
  },
  {
   "cell_type": "code",
   "execution_count": 4,
   "metadata": {
    "collapsed": false,
    "slideshow": {
     "slide_type": "subslide"
    }
   },
   "outputs": [
    {
     "name": "stdout",
     "output_type": "stream",
     "text": [
      "\n",
      "define double @julia_incr_20953(double) {\n",
      "top:\n",
      "  %1 = fadd double %0, 1.000000e+00, !dbg !2593\n",
      "  ret double %1, !dbg !2593\n",
      "}\n"
     ]
    }
   ],
   "source": [
    "code_llvm(incr,(Float64,))"
   ]
  },
  {
   "cell_type": "code",
   "execution_count": 5,
   "metadata": {
    "collapsed": false,
    "slideshow": {
     "slide_type": "subslide"
    }
   },
   "outputs": [
    {
     "name": "stdout",
     "output_type": "stream",
     "text": [
      "\t.section\t__TEXT,__text,regular,pure_instructions\n",
      "Filename: In[1]\n",
      "Source line: 1\n",
      "\tpush\tRBP\n",
      "\tmov\tRBP, RSP\n",
      "\tmovabs\tRAX, 4547374144\n",
      "Source line: 1\n",
      "\taddsd\tXMM0, QWORD PTR [RAX]\n",
      "\tpop\tRBP\n",
      "\tret\n"
     ]
    }
   ],
   "source": [
    "code_native(incr,(Float64,))"
   ]
  },
  {
   "cell_type": "code",
   "execution_count": 6,
   "metadata": {
    "collapsed": false,
    "slideshow": {
     "slide_type": "subslide"
    }
   },
   "outputs": [
    {
     "name": "stderr",
     "output_type": "stream",
     "text": [
      "Warning: Returned code may not match what actually runs.\n"
     ]
    },
    {
     "name": "stdout",
     "output_type": "stream",
     "text": [
      "\t.section\t__TEXT,__text,regular,pure_instructions\n",
      "Filename: In[1]\n",
      "Source line: 1\n",
      "\tpush\tRBP\n",
      "\tmov\tRBP, RSP\n",
      "\tpush\tRBX\n",
      "\tsub\tRSP, 40\n",
      "\tmov\tQWORD PTR [RBP - 40], 4\n",
      "Source line: 1\n",
      "\tmovabs\tRBX, 4390181840\n",
      "\tmov\tRAX, QWORD PTR [RBX]\n",
      "\tmov\tQWORD PTR [RBP - 32], RAX\n",
      "\tlea\tRAX, QWORD PTR [RBP - 40]\n",
      "\tmov\tQWORD PTR [RBX], RAX\n",
      "\txorps\tXMM0, XMM0\n",
      "\tmovups\tXMMWORD PTR [RBP - 24], XMM0\n",
      "\tcmp\tEDX, 1\n",
      "\tjne\t69\n",
      "\tlea\tRAX, QWORD PTR [RBP - 24]\n",
      "\tmov\tRCX, QWORD PTR [RSI]\n",
      "Source line: 1\n",
      "\tmov\tQWORD PTR [RBP - 24], RCX\n",
      "\tmovabs\tRCX, 140407883367008\n",
      "\tmov\tQWORD PTR [RBP - 16], RCX\n",
      "\tmovabs\tRCX, 4376625920\n",
      "\tmovabs\tRDI, 140407912469344\n",
      "\tmov\tRSI, RAX\n",
      "\tmov\tEDX, 2\n",
      "\tcall\tRCX\n",
      "\tmov\tRCX, QWORD PTR [RBP - 32]\n",
      "\tmov\tQWORD PTR [RBX], RCX\n",
      "\tadd\tRSP, 40\n",
      "\tpop\tRBX\n",
      "\tpop\tRBP\n",
      "\tret\n",
      "Source line: 1\n",
      "\tmovabs\tRAX, 4376643568\n",
      "\tmovabs\tRDI, 4416958480\n",
      "\tcall\tRAX\n"
     ]
    }
   ],
   "source": [
    "code_native(incr,(Rational,))"
   ]
  },
  {
   "cell_type": "markdown",
   "metadata": {},
   "source": [
    "<hr size='3' />"
   ]
  },
  {
   "cell_type": "code",
   "execution_count": null,
   "metadata": {
    "collapsed": false,
    "slideshow": {
     "slide_type": "subslide"
    }
   },
   "outputs": [],
   "source": [
    "function fac(k::Integer)\n",
    "  @assert k >= 0\n",
    "  (k == 0) ? 1 : k*fac(k-1)\n",
    "end\n",
    "\n",
    "fac(10)"
   ]
  },
  {
   "cell_type": "code",
   "execution_count": null,
   "metadata": {
    "collapsed": false,
    "slideshow": {
     "slide_type": "subslide"
    }
   },
   "outputs": [],
   "source": [
    "macroexpand(:(@assert k > 0))"
   ]
  },
  {
   "cell_type": "code",
   "execution_count": null,
   "metadata": {
    "collapsed": false,
    "slideshow": {
     "slide_type": "subslide"
    }
   },
   "outputs": [],
   "source": [
    "macroexpand(:(@printf \"The value of %s is %d\\n\" \"factorial(10)\" fac(10)))"
   ]
  },
  {
   "cell_type": "code",
   "execution_count": null,
   "metadata": {
    "collapsed": false,
    "slideshow": {
     "slide_type": "subslide"
    }
   },
   "outputs": [],
   "source": [
    "fac(40)"
   ]
  },
  {
   "cell_type": "code",
   "execution_count": null,
   "metadata": {
    "collapsed": false,
    "slideshow": {
     "slide_type": "subslide"
    }
   },
   "outputs": [],
   "source": [
    "fac(big(40))"
   ]
  },
  {
   "cell_type": "code",
   "execution_count": null,
   "metadata": {
    "collapsed": false,
    "slideshow": {
     "slide_type": "subslide"
    }
   },
   "outputs": [],
   "source": [
    "gamma(41)     # Γ(n+1)  <=>  n!"
   ]
  },
  {
   "cell_type": "markdown",
   "metadata": {
    "slideshow": {
     "slide_type": "slide"
    }
   },
   "source": [
    "```\n",
    "# gmp.jl\n",
    "#\n",
    "type BigInt <: Integer\n",
    "    alloc::Cint\n",
    "    size::Cint\n",
    "    d::Ptr{Culong}\n",
    "    function BigInt()\n",
    "        b = new(zero(Cint), zero(Cint), C_NULL)\n",
    "        ccall((:__gmpz_init,:libgmp), Void, (Ptr{BigInt},), &b)\n",
    "        finalizer(b, _gmp_clear_func)\n",
    "        return b\n",
    "    end\n",
    "end\n",
    "\n",
    "# sysimg.jl\n",
    "#               \n",
    "big(n::Integer) = convert(BigInt,n)\n",
    "big(x::FloatingPoint) = convert(BigFloat,x)\n",
    "big(q::Rational) = big(num(q))//big(den(q))\n",
    "big(z::Complex) = complex(big(real(z)),big(imag(z)))\n",
    "```"
   ]
  },
  {
   "cell_type": "code",
   "execution_count": null,
   "metadata": {
    "collapsed": false,
    "slideshow": {
     "slide_type": "subslide"
    }
   },
   "outputs": [],
   "source": [
    "code_llvm(fac,(BigInt,))"
   ]
  },
  {
   "cell_type": "code",
   "execution_count": null,
   "metadata": {
    "collapsed": false,
    "slideshow": {
     "slide_type": "subslide"
    }
   },
   "outputs": [],
   "source": [
    "code_native(fac,(BigInt,))"
   ]
  },
  {
   "cell_type": "markdown",
   "metadata": {
    "slideshow": {
     "slide_type": "slide"
    }
   },
   "source": [
    "## Julia uses Native Arithmetic\n",
    "1. Feature of LLVM compilation\n",
    "  * Will be true in V8, LuaJIT, Rust, Numba\n",
    "<br/><br/>\n",
    "2. Julia can do big arithmetic by means of the **big( )** function\n",
    "<br/><br/>\n",
    "3. In Julia it is possible to change the code\n",
    "  * Permanently\n",
    "  * Temporarily\n",
    "  * Encapsulate in function definitions\n",
    "<br/><br/>\n",
    "4. Discussed in the Julia FAQ\n",
    "  * http://julia.readthedocs.org/en/latest/manual/faq/\n",
    "<br/><br/>"
   ]
  },
  {
   "cell_type": "markdown",
   "metadata": {
    "slideshow": {
     "slide_type": "slide"
    }
   },
   "source": [
    "![](./LLVM-A.png)"
   ]
  },
  {
   "cell_type": "markdown",
   "metadata": {
    "slideshow": {
     "slide_type": "slide"
    }
   },
   "source": [
    "```\n",
    ">>> from numba import jit\n",
    ">>> import numpy as np\n",
    ">>> \n",
    ">>> def fac(n):\n",
    "...     x0 = 1L\n",
    "...     for t in range(n):\n",
    "...         x = (t + 1) * x0\n",
    "...         x0 = x\n",
    "...     return x0\n",
    "... \n",
    ">>> fac_numba = jit(fac)\n",
    "\n",
    ">>> fac(40)\n",
    "815915283247897734345611269596115894272000000000L\n",
    "\n",
    ">>> fac_numba(40)\n",
    "-70609262346240000\n",
    "```"
   ]
  },
  {
   "cell_type": "markdown",
   "metadata": {
    "slideshow": {
     "slide_type": "slide"
    }
   },
   "source": [
    "## What about PyPy?\n",
    "\n",
    "https://bitbucket.org/pypy/numpy\n",
    "\n",
    "```\n",
    "NumPyPy only works with Python 2, and is not complete. \n",
    "\n",
    "You may get warnings or NotImplemented errors. \n",
    "Please let us know if you get crashes or wrong results.\n",
    "```\n"
   ]
  },
  {
   "cell_type": "markdown",
   "metadata": {
    "slideshow": {
     "slide_type": "subslide"
    }
   },
   "source": [
    "<hr size='3' />"
   ]
  },
  {
   "cell_type": "markdown",
   "metadata": {
    "slideshow": {
     "slide_type": "slide"
    }
   },
   "source": [
    "![](./fibimages.png)\n",
    "<br/>\n",
    "<hr size='3'/>\n",
    "<br/>"
   ]
  },
  {
   "cell_type": "markdown",
   "metadata": {
    "slideshow": {
     "slide_type": "slide"
    }
   },
   "source": [
    "![](./fibunnies.gif)"
   ]
  },
  {
   "cell_type": "code",
   "execution_count": null,
   "metadata": {
    "collapsed": false,
    "slideshow": {
     "slide_type": "subslide"
    }
   },
   "outputs": [],
   "source": [
    "function fib(k::Integer)\n",
    "  @assert k > 0\n",
    "  (k < 3) ? 1 : fib(k-1) + fib(k-2)\n",
    "end\n",
    "\n",
    "@time fib(10)"
   ]
  },
  {
   "cell_type": "code",
   "execution_count": null,
   "metadata": {
    "collapsed": false,
    "slideshow": {
     "slide_type": "subslide"
    }
   },
   "outputs": [],
   "source": [
    "@time fib(42)"
   ]
  },
  {
   "cell_type": "code",
   "execution_count": null,
   "metadata": {
    "collapsed": false,
    "slideshow": {
     "slide_type": "subslide"
    }
   },
   "outputs": [],
   "source": [
    "function fib(n::Integer)\n",
    "  @assert n > 2\n",
    "  a = Array(typeof(n),n)\n",
    "  a[1] = 1\n",
    "  a[2] = 1\n",
    "  for i = 3:n\n",
    "    a[i] = a[i-1] + a[i-2]\n",
    "  end\n",
    "  a[n]\n",
    "end\n",
    "\n",
    "@time fib(big(402))"
   ]
  },
  {
   "cell_type": "code",
   "execution_count": null,
   "metadata": {
    "collapsed": false,
    "slideshow": {
     "slide_type": "subslide"
    }
   },
   "outputs": [],
   "source": [
    "fib_tail(a,b,n) = (n > 1) ? fib_tail(b, a+b, n-1) : a\n",
    "fib(n) = fib_tail(1, 1, n)\n",
    "\n",
    "@time fib(big(402))"
   ]
  },
  {
   "cell_type": "code",
   "execution_count": null,
   "metadata": {
    "collapsed": false,
    "slideshow": {
     "slide_type": "subslide"
    }
   },
   "outputs": [],
   "source": [
    "function fib(n::Integer)\n",
    "  @assert n > 2\n",
    "  a = b = big(1)\n",
    "  while n > 1\n",
    "    (a, b) = (b, a+b)\n",
    "    n -= 1\n",
    "  end\n",
    "  return a\n",
    "end\n",
    "\n",
    "@time fib(402)"
   ]
  },
  {
   "cell_type": "markdown",
   "metadata": {
    "slideshow": {
     "slide_type": "slide"
    }
   },
   "source": [
    "## Golden Ratio\n",
    "\n",
    "<p>\n",
    "Two quantities (a,b, a>b) are in the golden ratio if&nbsp;&nbsp;&nbsp;a/b = (a+b)/a\n",
    "<br/><br/>\n",
    "i.e.&nbsp;&nbsp;&nbsp;ψ = (1 + sqrt(5))/2  ~=  1.618034 \n",
    "</p>\n",
    "<p>\n",
    "Some twentieth-century artists and architects, including Le Corbusier and Dalí, have proportioned their works to approximate the golden ratio—especially in the form of the golden rectangle, in which the ratio of the longer  sideto the shorter is the golden ratio—believing this proportion to be aesthetically pleasing.\n",
    "<br/><br/>\n",
    "Mathematicians since Euclid have studied the properties of the golden ratio, including its appearance in the dimensions of a regular pentagon and in a golden rectangle, which may be cut into a square and a smaller rectanglewith the same aspect ratio. The golden ratio has also been used to analyze the proportions of natural objects as well as man-made systems such as financial markets, in some cases based on dubious fits to data.\n",
    "</p>\n"
   ]
  },
  {
   "cell_type": "code",
   "execution_count": null,
   "metadata": {
    "collapsed": false,
    "slideshow": {
     "slide_type": "subslide"
    }
   },
   "outputs": [],
   "source": [
    "ψ = fib(402)/fib(401)"
   ]
  },
  {
   "cell_type": "markdown",
   "metadata": {
    "slideshow": {
     "slide_type": "subslide"
    }
   },
   "source": [
    "<hr size='3' />"
   ]
  },
  {
   "cell_type": "markdown",
   "metadata": {
    "slideshow": {
     "slide_type": "slide"
    }
   },
   "source": [
    "## Benchmarking\n",
    "\n",
    "Because of LLVM/JIT we need to disregard the first \"compilation\" run.<br/>\n",
    "Also it's a good idea to perform several runs and use the mean (or median) timing.\n",
    "1. Benchmark.jl<br/>\n",
    "https://github.com/johnmyleswhite/Benchmark.jl<br/>\n",
    "A package for computing simple benchmarks and comparing functions.\n",
    "<br/><br/>\n",
    "2. BenchmarkLite.jl<br/>\n",
    "https://github.com/lindahua/BenchmarkLite.jl<br/>\n",
    "A lightweight Julia package for simple performance benchmarking.\n",
    "<br/><br/>"
   ]
  },
  {
   "cell_type": "code",
   "execution_count": null,
   "metadata": {
    "collapsed": false,
    "slideshow": {
     "slide_type": "subslide"
    }
   },
   "outputs": [],
   "source": [
    "macro benchmark(fex, n::Integer)\n",
    "  local i, t0, val, s \n",
    "  quote\n",
    "    if $n > 0\n",
    "      s = 0.0\n",
    "      val = $fex\n",
    "      for i = 1:$n\n",
    "        t0 = Base.time_ns()\n",
    "        val = $fex\n",
    "        s += Base.time_ns() - t0\n",
    "      end\n",
    "      Base.mean(s)/(1.0e9 * $n)\n",
    "    else\n",
    "        Base.error(\"Number of trials must be positive\")\n",
    "    end\n",
    "  end\n",
    "end"
   ]
  },
  {
   "cell_type": "code",
   "execution_count": null,
   "metadata": {
    "collapsed": false,
    "slideshow": {
     "slide_type": "subslide"
    }
   },
   "outputs": [],
   "source": [
    "@benchmark fib(402) 100"
   ]
  },
  {
   "cell_type": "markdown",
   "metadata": {},
   "source": [
    "<hr size='3' />"
   ]
  },
  {
   "cell_type": "markdown",
   "metadata": {
    "slideshow": {
     "slide_type": "slide"
    }
   },
   "source": [
    "![](./ParallelJulia.png)\n"
   ]
  },
  {
   "cell_type": "markdown",
   "metadata": {
    "slideshow": {
     "slide_type": "slide"
    }
   },
   "source": [
    "![](./mcpi.png)"
   ]
  },
  {
   "cell_type": "code",
   "execution_count": null,
   "metadata": {
    "collapsed": false,
    "slideshow": {
     "slide_type": "slide"
    }
   },
   "outputs": [],
   "source": [
    "function mcpi(N::Integer)\n",
    "    @assert N > 0\n",
    "    k = 0\n",
    "    for i in 1:N\n",
    "      x = rand()\n",
    "      y = rand()\n",
    "      s = x*x + y*y\n",
    "      if s < 1.0 k += 1 end\n",
    "    end\n",
    "    4*(k/N)\n",
    "  end\n",
    "\n",
    "@time mcpi(1000000000)"
   ]
  },
  {
   "cell_type": "code",
   "execution_count": null,
   "metadata": {
    "collapsed": false,
    "slideshow": {
     "slide_type": "subslide"
    }
   },
   "outputs": [],
   "source": [
    "# CPU_CORES defined by:\n",
    "\n",
    "ccall(:jl_cpu_cores, Int32, ())   # Julia API in sys.c\n"
   ]
  },
  {
   "cell_type": "code",
   "execution_count": null,
   "metadata": {
    "collapsed": false,
    "slideshow": {
     "slide_type": "subslide"
    }
   },
   "outputs": [],
   "source": [
    "addprocs(CPU_CORES - 1);"
   ]
  },
  {
   "cell_type": "code",
   "execution_count": null,
   "metadata": {
    "collapsed": false,
    "slideshow": {
     "slide_type": "subslide"
    }
   },
   "outputs": [],
   "source": [
    "@everywhere function mcpi(N::Integer)\n",
    "    @assert N > 0\n",
    "    k = 0\n",
    "    for i in 1:N\n",
    "      x = rand()\n",
    "      y = rand()\n",
    "      s = x*x + y*y\n",
    "      if s < 1.0 k += 1 end\n",
    "    end\n",
    "    4*(k/N)\n",
    "  end"
   ]
  },
  {
   "cell_type": "code",
   "execution_count": null,
   "metadata": {
    "collapsed": false,
    "slideshow": {
     "slide_type": "subslide"
    }
   },
   "outputs": [],
   "source": [
    "tic(); \n",
    "@everywhere m_pi = mcpi(250000000);\n",
    "\n",
    "n = nprocs();\n",
    "my_pi = 0.0;\n",
    "for i = 1:n\n",
    "  my_pi += remotecall_fetch(i,()->m_pi)\n",
    "end\n",
    "my_pi = my_pi/n;\n",
    "toc()\n",
    "\n",
    "@printf \"Estimate of PI is %10.7f\\n\" my_pi"
   ]
  },
  {
   "cell_type": "code",
   "execution_count": null,
   "metadata": {
    "collapsed": false,
    "slideshow": {
     "slide_type": "subslide"
    }
   },
   "outputs": [],
   "source": [
    "macroexpand(:@everywhere mcpi(250000000))"
   ]
  },
  {
   "cell_type": "markdown",
   "metadata": {
    "slideshow": {
     "slide_type": "slide"
    }
   },
   "source": [
    "```\n",
    "import numpy as np\n",
    "import numpy.random as nr\n",
    "import time\n",
    "\n",
    "N = 10000000\n",
    "K = 0\n",
    "\n",
    "t0 = time.time()\n",
    "for i in range(N):\n",
    "  x = nr.random()\n",
    "  y = nr.random()\n",
    "  z = x*x + y*y\n",
    "  if (z < 1.0):\n",
    "    K += 1\n",
    "\n",
    "mypi = 4.0*float(K)/float(N)\n",
    "t1 =   time.time() - t0\n",
    "print \"pi ~ %f after %d trials, took %f sec.\" % (mypi, N, t1)\n",
    "\n",
    "$ python ./mypi.py                                   \n",
    "pi ~ 3.140801 after 10000000 trials, took 6.594619 sec.\n",
    "```"
   ]
  },
  {
   "cell_type": "code",
   "execution_count": null,
   "metadata": {
    "collapsed": true
   },
   "outputs": [],
   "source": []
  }
 ],
 "metadata": {
  "kernelspec": {
   "display_name": "Julia 0.3.10",
   "language": "julia",
   "name": "julia-0.3"
  },
  "language_info": {
   "file_extension": ".jl",
   "mimetype": "application/julia",
   "name": "julia",
   "version": "0.3.10"
  }
 },
 "nbformat": 4,
 "nbformat_minor": 0
}
