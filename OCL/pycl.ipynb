{
 "cells": [
  {
   "cell_type": "markdown",
   "metadata": {},
   "source": [
    "![](Images/OCL-Khronos.png)"
   ]
  },
  {
   "cell_type": "markdown",
   "metadata": {
    "collapsed": true
   },
   "source": [
    "---"
   ]
  },
  {
   "cell_type": "raw",
   "metadata": {},
   "source": [
    "# Various strategies for HPC (in Python)\n",
    "\n",
    "- Soft-core HPC\n",
    "    - Extensions in C\n",
    "    - Cython\n",
    "    - PyPy\n",
    "    - Numba, Parakeet, Pyston   \n",
    "- Hard-core HPC\n",
    "    - Multiprocessor\n",
    "    - Parallelism (AWS, Hadoop, MPI)\n",
    "    - Specialist Hardware (GPU, FPGA)\n",
    "\n"
   ]
  },
  {
   "cell_type": "markdown",
   "metadata": {
    "collapsed": true
   },
   "source": [
    "<img src='Images/HP-Python-X.png' align='left' style='margin:10px 30px'>\n",
    "<div style='margin:30px 0px 0px 10px'>\n",
    "<h2>High Performance Python</h2>\n",
    "<p>Practical Performant Programming for Humans</p>\n",
    "<p>Micha Gorelick and Ian Ozsvald \n",
    "<br/>O'Reilly (2014)</p>\n",
    "</div>"
   ]
  },
  {
   "cell_type": "markdown",
   "metadata": {},
   "source": [
    "<h2>OpenCL Books</h2>\n",
    "<div style='margin:30px 0px 0px 10px'>\n",
    "<h3>OpenCL Programming by Example</h3>\n",
    "<p>Ravishekhar Banger and Koushik Bhattacharyya, Packt (2013)</p>\n",
    "</div>\n",
    "\n",
    "<div style='margin:30px 0px 0px 10px'>\n",
    "<h3>OpenCL Parallel Programming Development Cookbook</h3>\n",
    "<p>Raymond Tay, Packt (2013)</p>\n",
    "</div>\n",
    "\n",
    "<div style='margin:30px 0px 0px 10px'>\n",
    "<h3>OpenCL in Action</h3>\n",
    "<p>Matthew Scarpino, Manning (2012)</p>\n",
    "</div>\n",
    "\n",
    "<hr/>\n",
    "\n",
    "<h2>CUDA Books</h2>\n",
    "<div style='margin:30px 0px 0px 10px'>\n",
    "<h3>CUDA Programming</h3>\n",
    "<p>Shane Cook, Elsevier (2013)</p>\n",
    "</div>\n",
    "\n",
    "<div style='margin:30px 0px 0px 10px'>\n",
    "<h3>CUDA for Engineers</h3>\n",
    "<p>Duane Storti and Mete Yurtoglu, Addison-Wesley (2015)</p>\n",
    "</div>\n",
    "\n",
    "<hr/>"
   ]
  },
  {
   "cell_type": "markdown",
   "metadata": {
    "collapsed": true
   },
   "source": [
    "![](Images/APsX.png)"
   ]
  },
  {
   "cell_type": "markdown",
   "metadata": {},
   "source": [
    "## GPU Timeline\n",
    "\n",
    "- 1992 OpenGL (SGI / Khronos)\n",
    "- 1995 DirectX (Microsoft)\n",
    "- 2003 OpenGL ES (Khronos)\n",
    "- 2007 CUDA (NVidia)\n",
    "- 2009 OpenCL (Apple / Khronos)\n",
    "<br/><br/>\n",
    "- 2011 WebGL (Khronos)\n",
    "- 2014 SPIR (Khronos)\n",
    "- 2016 Vulkan (Khronos)\n",
    "\n",
    "---"
   ]
  },
  {
   "cell_type": "markdown",
   "metadata": {},
   "source": [
    "<img src='Images/ak-pic.png' align='left'>\n",
    "<h2>&nbsp;&nbsp;&nbsp;Andreas Kl&#246;ckner</h2>\n",
    "<h3>&nbsp;&nbsp;&nbsp;&nbsp;University of Illinois Urbana-Champaign</h3>\n",
    "<br/><br/>\n",
    "- [Andreas Klöckner - Software Page](https://mathema.tician.de/software/)\n",
    "- [Andreas Klöckner - Wiki](https://wiki.tiker.net)\n",
    "- [Andreas Klöckner - Github](https://github.com/inducer)\n",
    "<br/><br/>\n",
    "- [PyCUDA documentation](https://documen.tician.de/pycuda/)\n",
    "- [PyOpenCL documentation](https://documen.tician.de/pyopencl/)\n"
   ]
  },
  {
   "cell_type": "markdown",
   "metadata": {},
   "source": [
    "![](Images/ak-software.png)"
   ]
  },
  {
   "cell_type": "markdown",
   "metadata": {},
   "source": [
    "![](Images/Demo-Time.png)"
   ]
  },
  {
   "cell_type": "code",
   "execution_count": 2,
   "metadata": {
    "collapsed": true
   },
   "outputs": [],
   "source": [
    "#\n",
    "# Import PyOpenCL and Numpy\n",
    "#\n",
    "import time as tm\n",
    "\n",
    "import numpy as np\n",
    "import numpy.random as nr\n",
    "\n",
    "import pyopencl as cl\n",
    "import pyopencl.array as cla"
   ]
  },
  {
   "cell_type": "code",
   "execution_count": 4,
   "metadata": {
    "collapsed": false
   },
   "outputs": [
    {
     "name": "stdout",
     "output_type": "stream",
     "text": [
      "\n",
      "Platform: Apple\n",
      "Device: Intel(R) Core(TM) i5-4258U CPU @ 2.40GHz\n",
      "Device: Iris\n"
     ]
    }
   ],
   "source": [
    "# Importing PyOpenCL populates some data structures \n",
    "#\n",
    "plat = cl.get_platforms()\n",
    "print \"\\nPlatform: %s\" % plat[0].name\n",
    "\n",
    "for dev in plat[0].get_devices():\n",
    "    print \"Device: %s\" % dev.name\n",
    "        "
   ]
  },
  {
   "cell_type": "markdown",
   "metadata": {},
   "source": [
    "---\n",
    "\n",
    "## Lenovo IdeaPad Z50-70: \n",
    "<img src='Images/Lenovo5070X.png' align='right' />\n",
    "\n",
    "### Intel(R) OpenCL\n",
    "    - Intel(R) Core(TM) i7-4510U CPU @ 2.00GHz\n",
    "    - Intel(R) HD Graphics 4400\n",
    "\t\n",
    "### NVIDIA Cuda\n",
    "\t- GeForce 840M\n",
    "\t\n",
    "### Experimental OpenCL 2.0 CPU Only Plaform\n",
    "\t- Intel(R) Core(TM) i7-4510U CPU @ 2.00GHz"
   ]
  },
  {
   "cell_type": "markdown",
   "metadata": {},
   "source": [
    "---"
   ]
  },
  {
   "cell_type": "markdown",
   "metadata": {},
   "source": [
    "## Hello World ( SAXPY )\n",
    "<p style=\"font-size:150%\">W[i] = a &#183; X[i] + Y[i] &nbsp;&nbsp; where X, Y ~ $\\mathcal{N}$(0.0,1.0)</p>\n",
    "<p style=\"font-size:150%\">mean(W) = 0 &nbsp; &amp; &nbsp; var(W) = a<sup>2</sup></p>\n",
    "<br/>\n"
   ]
  },
  {
   "cell_type": "markdown",
   "metadata": {},
   "source": [
    "## Benchmark ( SGEMM )\n",
    "<p style=\"font-size:150%\">W[i] = a &#183; X[i] &#183; Y[i] + b &#183; Z[i] &nbsp;&nbsp; where X, Y, Z ~ $\\mathcal{N}$(0.0,1.0)</p>\n",
    "\n",
    "<p style=\"font-size:150%\">mean(W) = 0 &nbsp; &amp; &nbsp; var(W) = a<sup>2</sup> + b<sup>2</sup></p>\n",
    "\n",
    "<br/>\n"
   ]
  },
  {
   "cell_type": "code",
   "execution_count": 3,
   "metadata": {
    "collapsed": false
   },
   "outputs": [
    {
     "name": "stdout",
     "output_type": "stream",
     "text": [
      "\n",
      "Actual variance is  8.50000\n",
      "\n"
     ]
    }
   ],
   "source": [
    "# \n",
    "# Set parameters and generate some random numbers\n",
    "#\n",
    "n = 1000000\n",
    "a = 1.5\n",
    "b = 2.5\n",
    "\n",
    "x = nr.randn(n)\n",
    "y = nr.randn(n)\n",
    "z = nr.randn(n)\n",
    "w = np.zeros(n)\n",
    "\n",
    "print \"\\nActual variance is %8.5f\\n\" % (a*a + b*b)"
   ]
  },
  {
   "cell_type": "code",
   "execution_count": 4,
   "metadata": {
    "collapsed": false
   },
   "outputs": [
    {
     "name": "stdout",
     "output_type": "stream",
     "text": [
      "DGEMM : Native Python\n",
      "-----\n",
      "Time taken:  0.86476 sec.\n",
      "Mean      = -0.00333\n",
      "Variance  =  8.46704\n"
     ]
    }
   ],
   "source": [
    "# Compute using 'native' Python\n",
    "#\n",
    "tic = tm.time()\n",
    "for i in range(n):\n",
    "    w[i] = a*x[i]*y[i] + b*z[i]\n",
    "\n",
    "toc = tm.time()\n",
    "\n",
    "print \"DGEMM : Native Python\\n-----\"\n",
    "print \"Time taken: %8.5f sec.\" % (toc - tic)\n",
    "print \"Mean      = %8.5f\" % np.mean(w)\n",
    "print \"Variance  = %8.5f\" % np.var(w)\n"
   ]
  },
  {
   "cell_type": "markdown",
   "metadata": {},
   "source": [
    "---"
   ]
  },
  {
   "cell_type": "code",
   "execution_count": 5,
   "metadata": {
    "collapsed": true
   },
   "outputs": [],
   "source": [
    "# Compute using the Gpu\n",
    "# First create a 'context' and start a queue\n",
    "#\n",
    "ctx = cl.create_some_context(interactive=True)\n",
    "queue = cl.CommandQueue(ctx)\n",
    "\n",
    "# Compile the OpenCL Kernel\n",
    "#\n",
    "prg = cl.Program(ctx, \"\"\"\n",
    "    __kernel void dgemm(const float a,\n",
    "                        const float b,\n",
    "                        __global const float *x,\n",
    "                        __global const float *y,\n",
    "                        __global const float *z,\n",
    "                        __global float *w)\n",
    "    {\n",
    "       int gid = get_global_id(0);\n",
    "       w[gid] = a*x[gid]*y[gid] + b*z[gid];\n",
    "    }\n",
    "\"\"\").build()"
   ]
  },
  {
   "cell_type": "code",
   "execution_count": 8,
   "metadata": {
    "collapsed": true
   },
   "outputs": [],
   "source": [
    "# Generate (32-bit) random numbers and transfer hots -> device.\n",
    "# Also create space on the device for the results.\n",
    "#\n",
    "aa = np.float32(a)\n",
    "bb = np.float32(b)\n",
    "\n",
    "x_host = np.random.randn(n).astype(np.float32)\n",
    "x = cla.to_device(queue, x_host)\n",
    "\n",
    "y_host = np.random.randn(n).astype(np.float32)\n",
    "y = cla.to_device(queue, y_host)\n",
    "\n",
    "z_host = np.random.randn(n).astype(np.float32)\n",
    "z = cla.to_device(queue, z_host)\n",
    "\n",
    "w = cla.empty_like(x)"
   ]
  },
  {
   "cell_type": "code",
   "execution_count": 9,
   "metadata": {
    "collapsed": false
   },
   "outputs": [
    {
     "name": "stdout",
     "output_type": "stream",
     "text": [
      "DGEMM : PyOpenCL\n",
      "-----\n",
      "Time taken:  0.00277 sec.\n",
      "Mean      = -0.00157\n",
      "Variance  =  8.47222\n",
      "\n",
      "\n",
      "\n"
     ]
    }
   ],
   "source": [
    "# Run the kernel and return stats.\n",
    "tic = tm.time()\n",
    "event = prg.dgemm(queue, (n,), None, aa, bb, x.data, y.data, z.data, w.data)\n",
    "event.wait()\n",
    "toc = tm.time()\n",
    "\n",
    "print \"DGEMM : PyOpenCL\\n-----\"\n",
    "print \"Time taken: %8.5f sec.\" % (toc - tic)\n",
    "print \"Mean      = %8.5f\" % np.mean(w.get())\n",
    "print \"Variance  = %8.5f\" % np.var(w.get())\n",
    "print \"\\n\\n\""
   ]
  },
  {
   "cell_type": "raw",
   "metadata": {},
   "source": [
    "# Mandelbrot set\n",
    "\n",
    "<p style=\"font-size:150%\">Z<sub>o</sub> = c, &nbsp;&nbsp;&nbsp;&nbsp;&nbsp;&nbsp; Z &amp; c are complex numbers</p>\n",
    "<p style=\"font-size:150%\">Z<sub>n+1</sub> = Z<sub>n</sub><sup>2</sup> + c</p>\n",
    "<p style=\"font-size:150%\">Z becomes unbounded if |Z| > 2</p>\n",
    "<p>&nbsp;</p>\n",
    "\n",
    "<hr/>\n",
    "![](Images/mbset115.gif)"
   ]
  },
  {
   "cell_type": "code",
   "execution_count": null,
   "metadata": {
    "collapsed": true
   },
   "outputs": [],
   "source": [
    "# Three procedures for the Mandelbrotset\n",
    "# Serial (native) Python\n",
    "#\n",
    "def calc_fractal_serial(q, maxiter):\n",
    "    z = np.zeros(q.shape, complex)\n",
    "    output = np.resize(np.array(0,), q.shape)\n",
    "    for i in range(len(q)):\n",
    "        for iter in range(maxiter):\n",
    "            z[i] = z[i]*z[i] + q[i]\n",
    "            if abs(z[i]) > 2.0:\n",
    "                output[i] = iter\n",
    "                break\n",
    "    return output\n",
    "    \n",
    "# Using Numpy (for the calcs)\n",
    "#\n",
    "def calc_fractal_numpy(q, maxiter):\n",
    "    output = np.resize(np.array(0,), q.shape)\n",
    "    z = np.zeros(q.shape, np.complex64)\n",
    "    for it in range(maxiter):\n",
    "        z = z*z + q\n",
    "        done = np.greater(abs(z), 2.0)\n",
    "        q = np.where(done, 0+0j, q)\n",
    "        z = np.where(done, 0+0j, z)\n",
    "        output = np.where(done, it, output)\n",
    "    return output\n",
    "    "
   ]
  },
  {
   "cell_type": "code",
   "execution_count": 1,
   "metadata": {
    "collapsed": true
   },
   "outputs": [],
   "source": [
    "# Using OpenCL\n",
    "#\n",
    "def calc_fractal_opencl(q, maxiter):\n",
    "    ctx = cl.create_some_context()\n",
    "    queue = cl.CommandQueue(ctx)\n",
    "    output = np.empty(q.shape, dtype=np.uint16)\n",
    "    mf = cl.mem_flags\n",
    "    q_opencl = cl.Buffer(ctx, mf.READ_ONLY | mf.COPY_HOST_PTR, hostbuf=q)\n",
    "    output_opencl = cl.Buffer(ctx, mf.WRITE_ONLY, output.nbytes)\n",
    "    prg = cl.Program(ctx, \"\"\"\n",
    "    #pragma OPENCL EXTENSION cl_khr_byte_addressable_store : enable\n",
    "    __kernel void mandelbrot(__global float2 *q,\n",
    "                     \t\t __global ushort *output, \n",
    "                     \t\t ushort const maxiter)\n",
    "    {\n",
    "        int gid = get_global_id(0);\n",
    "        float nreal, real = 0;\n",
    "        float imag = 0;\n",
    "        output[gid] = 0;\n",
    "        for(int curiter = 0; curiter < maxiter; curiter++) {\n",
    "            nreal = real*real - imag*imag + q[gid].x;\n",
    "            imag = 2* real*imag + q[gid].y;\n",
    "            real = nreal;\n",
    "            if (real*real + imag*imag > 4.0f) output[gid] = curiter;\n",
    "        }\n",
    "    }\n",
    "    \"\"\").build()\n",
    "    prg.mandelbrot(queue, output.shape, None, q_opencl,\n",
    "                   output_opencl, np.uint16(maxiter))\n",
    "    cl.enqueue_copy(queue, output, output_opencl).wait()\n",
    "    return output"
   ]
  },
  {
   "cell_type": "code",
   "execution_count": 4,
   "metadata": {
    "collapsed": false
   },
   "outputs": [
    {
     "name": "stdout",
     "output_type": "stream",
     "text": [
      "Serial took:  9.54314\n"
     ]
    }
   ],
   "source": [
    "# Run the serial procedure\n",
    "#\n",
    "w = 1024; h = 1024;\n",
    "x1 = -2.13; x2 = 0.77; y1 = -1.3; y2 = 1.3;\n",
    "\n",
    "xx = np.arange(x1, x2, (x2-x1)/w);\n",
    "yy = np.arange(y2, y1, (y1-y2)/h) * 1j;\n",
    "q = np.ravel(xx+yy[:, np.newaxis]).astype(np.complex64);\n",
    "\n",
    "tic = tm.time();\n",
    "mb1 = calc_fractal_serial(q, 30);\n",
    "toc = tm.time();\n",
    "print\"Serial took: %8.5f\" % (toc - tic)\n"
   ]
  },
  {
   "cell_type": "code",
   "execution_count": 7,
   "metadata": {
    "collapsed": false
   },
   "outputs": [
    {
     "name": "stdout",
     "output_type": "stream",
     "text": [
      "Numpy took:  0.86844\n"
     ]
    }
   ],
   "source": [
    "# Run the numpy procedure\n",
    "#\n",
    "tic = tm.time();\n",
    "mb2 = calc_fractal_numpy(q, 30);\n",
    "toc = tm.time();\n",
    "print\"Numpy took: %8.5f\" % (toc - tic)\n"
   ]
  },
  {
   "cell_type": "code",
   "execution_count": 11,
   "metadata": {
    "collapsed": false
   },
   "outputs": [
    {
     "name": "stdout",
     "output_type": "stream",
     "text": [
      "OpenCL took:  0.01811\n"
     ]
    }
   ],
   "source": [
    "# Run the opencl procedure\n",
    "#\n",
    "tic = tm.time();\n",
    "mb3 = calc_fractal_opencl(q, 30);\n",
    "toc = tm.time();\n",
    "print \"OpenCL took: %8.5f\" % (toc - tic)"
   ]
  },
  {
   "cell_type": "markdown",
   "metadata": {},
   "source": [
    "---"
   ]
  },
  {
   "cell_type": "code",
   "execution_count": 12,
   "metadata": {
    "collapsed": false
   },
   "outputs": [
    {
     "data": {
      "text/plain": [
       "<matplotlib.image.AxesImage at 0x109093e50>"
      ]
     },
     "execution_count": 12,
     "metadata": {},
     "output_type": "execute_result"
    },
    {
     "data": {
      "image/png": "[encoded data removed]",
      "text/plain": [
       "<matplotlib.figure.Figure at 0x103f0b410>"
      ]
     },
     "metadata": {},
     "output_type": "display_data"
    }
   ],
   "source": [
    "# Plot (one of) the Mandelbrot sets.\n",
    "#\n",
    "%matplotlib inline\n",
    "import matplotlib.pyplot as plt\n",
    "mandel = (mb3.reshape((h, w)) / float(mb3.max()) * 255.0).astype(np.uint8);\n",
    "plt.imshow(mandel)\n"
   ]
  },
  {
   "cell_type": "markdown",
   "metadata": {},
   "source": [
    "---"
   ]
  },
  {
   "cell_type": "markdown",
   "metadata": {},
   "source": [
    "## CUDA vs OpenCL ?\n",
    "\n",
    "### CUDA\n",
    "\n",
    "- Likely to be working with NVidia kit in Enterprise\n",
    "- OpenCL will be slower than CUDA on NVidia GPUs\n",
    "- Large set of online resources / developers area\n",
    "- Wide variety of CUDA libraries\n",
    "- C++ templates using \"Thrust\"\n",
    "- OpenACC directives\n",
    "\n",
    "[NVidia Developer's Zone](https://developer.nvidia.com/cuda-zone)<br/>\n",
    "\n",
    "\n",
    "### OpenCL\n",
    "\n",
    "- Works with wide variety of hardware\n",
    "- Can get started with standard kit\n",
    "- Work in progress on JIT support (POCL)\n",
    "- Khronos have ambitious roadmap\n",
    "- Code can be executed on CPU, GPU, DSP, FPGA\n",
    "\n",
    "[Khronos OpenCL Page](https://www.khronos.org/opencl)<br/>\n",
    "<p>&nbsp;</p>"
   ]
  },
  {
   "cell_type": "markdown",
   "metadata": {},
   "source": [
    "[CUDA vs OpenCL](https://wiki.tiker.net/CudaVsOpenCL)\n",
    "\n",
    "![](images/AK-cuda-opencl.png)"
   ]
  },
  {
   "cell_type": "markdown",
   "metadata": {
    "collapsed": true
   },
   "source": [
    "---"
   ]
  },
  {
   "cell_type": "markdown",
   "metadata": {},
   "source": [
    "![](Images/khronos-timeline.png)\n"
   ]
  },
  {
   "cell_type": "markdown",
   "metadata": {},
   "source": [
    "---"
   ]
  },
  {
   "cell_type": "markdown",
   "metadata": {},
   "source": [
    "![](Images/khronos-connections.png)"
   ]
  },
  {
   "cell_type": "code",
   "execution_count": null,
   "metadata": {
    "collapsed": true
   },
   "outputs": [],
   "source": []
  }
 ],
 "metadata": {
  "kernelspec": {
   "display_name": "Python 2",
   "language": "python",
   "name": "python2"
  },
  "language_info": {
   "codemirror_mode": {
    "name": "ipython",
    "version": 2
   },
   "file_extension": ".py",
   "mimetype": "text/x-python",
   "name": "python",
   "nbconvert_exporter": "python",
   "pygments_lexer": "ipython2",
   "version": "2.7.11"
  }
 },
 "nbformat": 4,
 "nbformat_minor": 0
}
