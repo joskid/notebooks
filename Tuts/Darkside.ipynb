{
 "cells": [
  {
   "cell_type": "markdown",
   "metadata": {},
   "source": [
    "---\n",
    "\n",
    "![](Images/SS27.png)\n",
    "\n",
    "---"
   ]
  },
  {
   "cell_type": "code",
   "execution_count": 1,
   "metadata": {},
   "outputs": [
    {
     "data": {
      "text/html": [
       "<link href='http://fonts.googleapis.com/css?family=Alegreya+Sans:100,300,400,500,700,800,900,100italic,300italic,400italic,500italic,700italic,800italic,900italic' rel='stylesheet' type='text/css'>\r\n",
       "<link href='http://fonts.googleapis.com/css?family=Arvo:400,700,400italic' rel='stylesheet' type='text/css'>\r\n",
       "<link href='http://fonts.googleapis.com/css?family=PT+Mono' rel='stylesheet' type='text/css'>\r\n",
       "<link href='http://fonts.googleapis.com/css?family=Shadows+Into+Light' rel='stylesheet' type='text/css'>\r\n",
       "<link href='http://fonts.googleapis.com/css?family=Philosopher:400,700,400italic,700italic' rel='stylesheet' type='text/css'>\r\n",
       "\r\n",
       "<style>\r\n",
       "\r\n",
       "@font-face {\r\n",
       "    font-family: \"Computer Modern\";\r\n",
       "    src: url('http://mirrors.ctan.org/fonts/cm-unicode/fonts/otf/cmunss.otf');\r\n",
       "}\r\n",
       "\r\n",
       "\r\n",
       "\r\n",
       "/* Formatting for header cells */\r\n",
       ".text_cell_render h1 {\r\n",
       "    font-family: 'Philosopher', sans-serif;\r\n",
       "    font-weight: 400;\r\n",
       "    font-size: 2.2em;\r\n",
       "    line-height: 100%;\r\n",
       "    color: rgb(0, 80, 120);\r\n",
       "    margin-bottom: 0.1em;\r\n",
       "    margin-top: 0.1em;\r\n",
       "    display: block;\r\n",
       "}\t\r\n",
       ".text_cell_render h2 {\r\n",
       "    font-family: 'Philosopher', serif;\r\n",
       "    font-weight: 400;\r\n",
       "    font-size: 1.9em;\r\n",
       "    line-height: 100%;\r\n",
       "    color: rgb(200,100,0);\r\n",
       "    margin-bottom: 0.1em;\r\n",
       "    margin-top: 0.1em;\r\n",
       "    display: block;\r\n",
       "}\t\r\n",
       "\r\n",
       ".text_cell_render h3 {\r\n",
       "    font-family: 'Philosopher', serif;\r\n",
       "    margin-top:12px;\r\n",
       "    margin-bottom: 3px;\r\n",
       "    font-style: italic;\r\n",
       "    color: rgb(94,127,192);\r\n",
       "}\r\n",
       "\r\n",
       ".text_cell_render h4 {\r\n",
       "    font-family: 'Philosopher', serif;\r\n",
       "}\r\n",
       "\r\n",
       ".text_cell_render h5 {\r\n",
       "    font-family: 'Alegreya Sans', sans-serif;\r\n",
       "    font-weight: 300;\r\n",
       "    font-size: 16pt;\r\n",
       "    color: grey;\r\n",
       "    font-style: italic;\r\n",
       "    margin-bottom: .1em;\r\n",
       "    margin-top: 0.1em;\r\n",
       "    display: block;\r\n",
       "}\r\n",
       "\r\n",
       ".text_cell_render h6 {\r\n",
       "    font-family: 'PT Mono', sans-serif;\r\n",
       "    font-weight: 300;\r\n",
       "    font-size: 10pt;\r\n",
       "    color: grey;\r\n",
       "    margin-bottom: 1px;\r\n",
       "    margin-top: 1px;\r\n",
       "}\r\n",
       "\r\n",
       ".CodeMirror{\r\n",
       "        font-family: \"PT Mono\";\r\n",
       "        font-size: 100%;\r\n",
       "}\r\n",
       "\r\n",
       "</style>\r\n",
       "\r\n"
      ],
      "text/plain": [
       "HTML{String}(\"<link href='http://fonts.googleapis.com/css?family=Alegreya+Sans:100,300,400,500,700,800,900,100italic,300italic,400italic,500italic,700italic,800italic,900italic' rel='stylesheet' type='text/css'>\\r\\n<link href='http://fonts.googleapis.com/css?family=Arvo:400,700,400italic' rel='stylesheet' type='text/css'>\\r\\n<link href='http://fonts.googleapis.com/css?family=PT+Mono' rel='stylesheet' type='text/css'>\\r\\n<link href='http://fonts.googleapis.com/css?family=Shadows+Into+Light' rel='stylesheet' type='text/css'>\\r\\n<link href='http://fonts.googleapis.com/css?family=Philosopher:400,700,400italic,700italic' rel='stylesheet' type='text/css'>\\r\\n\\r\\n<style>\\r\\n\\r\\n@font-face {\\r\\n    font-family: \\\"Computer Modern\\\";\\r\\n    src: url('http://mirrors.ctan.org/fonts/cm-unicode/fonts/otf/cmunss.otf');\\r\\n}\\r\\n\\r\\n\\r\\n\\r\\n/* Formatting for header cells */\\r\\n.text_cell_render h1 {\\r\\n    font-family: 'Philosopher', sans-serif;\\r\\n    font-weight: 400;\\r\\n    font-size: 2.2em;\\r\\n    line-height: 100%;\\r\\n    color: rgb(0, 80, 120);\\r\\n    margin-bottom: 0.1em;\\r\\n    margin-top: 0.1em;\\r\\n    display: block;\\r\\n}\\t\\r\\n.text_cell_render h2 {\\r\\n    font-family: 'Philosopher', serif;\\r\\n    font-weight: 400;\\r\\n    font-size: 1.9em;\\r\\n    line-height: 100%;\\r\\n    color: rgb(200,100,0);\\r\\n    margin-bottom: 0.1em;\\r\\n    margin-top: 0.1em;\\r\\n    display: block;\\r\\n}\\t\\r\\n\\r\\n.text_cell_render h3 {\\r\\n    font-family: 'Philosopher', serif;\\r\\n    margin-top:12px;\\r\\n    margin-bottom: 3px;\\r\\n    font-style: italic;\\r\\n    color: rgb(94,127,192);\\r\\n}\\r\\n\\r\\n.text_cell_render h4 {\\r\\n    font-family: 'Philosopher', serif;\\r\\n}\\r\\n\\r\\n.text_cell_render h5 {\\r\\n    font-family: 'Alegreya Sans', sans-serif;\\r\\n    font-weight: 300;\\r\\n    font-size: 16pt;\\r\\n    color: grey;\\r\\n    font-style: italic;\\r\\n    margin-bottom: .1em;\\r\\n    margin-top: 0.1em;\\r\\n    display: block;\\r\\n}\\r\\n\\r\\n.text_cell_render h6 {\\r\\n    font-family: 'PT Mono', sans-serif;\\r\\n    font-weight: 300;\\r\\n    font-size: 10pt;\\r\\n    color: grey;\\r\\n    margin-bottom: 1px;\\r\\n    margin-top: 1px;\\r\\n}\\r\\n\\r\\n.CodeMirror{\\r\\n        font-family: \\\"PT Mono\\\";\\r\\n        font-size: 100%;\\r\\n}\\r\\n\\r\\n</style>\\r\\n\\r\\n\")"
      ]
     },
     "execution_count": 1,
     "metadata": {},
     "output_type": "execute_result"
    }
   ],
   "source": [
    "# Setting up a custom stylesheet in IJulia\n",
    "# New in 0.6\n",
    "file = open(\"style.css\") # A .css file in the same folder as this notebook file\n",
    "styl = readstring(file) # Read the file\n",
    "HTML(\"$styl\") # Output as HTML"
   ]
  },
  {
   "cell_type": "code",
   "execution_count": null,
   "metadata": {
    "collapsed": true
   },
   "outputs": [],
   "source": [
    "for p in (\"BenchmarkTools\",\"PyCall\", \"PyPlot\")\n",
    "    Pkg.installed(p) == nothing && Pkg.add(p)\n",
    "end\n",
    "\n",
    "using BenchmarkTools, PyCall, PyPlot"
   ]
  },
  {
   "cell_type": "markdown",
   "metadata": {},
   "source": [
    "---\n",
    "\n",
    "![](Images/SS01.png)"
   ]
  },
  {
   "cell_type": "markdown",
   "metadata": {},
   "source": [
    "---\n",
    "\n",
    "# Getting started with Julia\n",
    "\n",
    "* JuliaBox&nbsp;&nbsp;:- [http://juliabox.com](http://juliabox.com)\n",
    "* JuliaPro&nbsp;&nbsp;&nbsp;:- [http://juliacomputing.com](http://juliacomputing.com)\n",
    "* JuliaLang&nbsp;:- [http://julialang.org](http://juliacomputing.org)\n",
    "\n",
    "---\n"
   ]
  },
  {
   "cell_type": "markdown",
   "metadata": {},
   "source": [
    "## Julia code is *just what you would expect* "
   ]
  },
  {
   "cell_type": "code",
   "execution_count": null,
   "metadata": {
    "collapsed": true
   },
   "outputs": [],
   "source": [
    "# Functions can be defined in a single line or as a block\n",
    "# They can restrict the types passed \n",
    "\n",
    "f1(x::Real) = sin(x.^2)./x;\n",
    "\n",
    "# Should be f1(x::Real) = (abs(x) < 10.0E-7) ? 0.0 : sin(x.^2)./x;\n",
    "# To allow for x == 0.0\n",
    "\n",
    "f1(1.3)"
   ]
  },
  {
   "cell_type": "code",
   "execution_count": null,
   "metadata": {
    "collapsed": true
   },
   "outputs": [],
   "source": [
    "f1(1.3 + 2.2im)  # This will FAIL as we have defined the function above"
   ]
  },
  {
   "cell_type": "code",
   "execution_count": null,
   "metadata": {
    "collapsed": true
   },
   "outputs": [],
   "source": [
    "# This one works with compelx numbers too\n",
    "\n",
    "f2(x::Number) = sin(x.^2)./x;\n",
    "\n",
    "f2(1.3 + 2.2im)"
   ]
  },
  {
   "cell_type": "code",
   "execution_count": null,
   "metadata": {
    "collapsed": true,
    "scrolled": true
   },
   "outputs": [],
   "source": [
    "# We can use f() to plot a graph\n",
    "\n",
    "using PyPlot\n",
    "t = -2π:0.02:2π; \n",
    "y = [f1(u) for u in t];\n",
    "\n",
    "plot(t, y)"
   ]
  },
  {
   "cell_type": "markdown",
   "metadata": {},
   "source": [
    "![](Images/SS10a.png)\n",
    "\n",
    "### Dispatch: A simple function"
   ]
  },
  {
   "cell_type": "code",
   "execution_count": null,
   "metadata": {
    "collapsed": true
   },
   "outputs": [],
   "source": [
    "incr(x) = x + 1;"
   ]
  },
  {
   "cell_type": "code",
   "execution_count": null,
   "metadata": {
    "collapsed": true
   },
   "outputs": [],
   "source": [
    "incr(1)"
   ]
  },
  {
   "cell_type": "code",
   "execution_count": null,
   "metadata": {
    "collapsed": true
   },
   "outputs": [],
   "source": [
    "incr(2.1)"
   ]
  },
  {
   "cell_type": "code",
   "execution_count": null,
   "metadata": {
    "collapsed": true
   },
   "outputs": [],
   "source": [
    "incr(5//7)"
   ]
  },
  {
   "cell_type": "code",
   "execution_count": null,
   "metadata": {
    "collapsed": true
   },
   "outputs": [],
   "source": [
    "@code_native incr(1)"
   ]
  },
  {
   "cell_type": "code",
   "execution_count": null,
   "metadata": {
    "collapsed": true
   },
   "outputs": [],
   "source": [
    "@code_native incr(2.1)"
   ]
  },
  {
   "cell_type": "code",
   "execution_count": null,
   "metadata": {
    "collapsed": true
   },
   "outputs": [],
   "source": [
    "@code_native incr(5//7)"
   ]
  },
  {
   "cell_type": "code",
   "execution_count": null,
   "metadata": {
    "collapsed": true
   },
   "outputs": [],
   "source": [
    "@code_typed incr(2.1)"
   ]
  },
  {
   "cell_type": "markdown",
   "metadata": {},
   "source": [
    "---\n",
    "\n",
    "### More on Multiple Dispatch\n"
   ]
  },
  {
   "cell_type": "code",
   "execution_count": null,
   "metadata": {
    "collapsed": true
   },
   "outputs": [],
   "source": [
    "# Julia can use alternative characters.\n",
    "\n",
    "(€)(x::T,c::T) where T<:Number = x^2 + c"
   ]
  },
  {
   "cell_type": "code",
   "execution_count": null,
   "metadata": {
    "collapsed": true
   },
   "outputs": [],
   "source": [
    "€(2.7,3.8)"
   ]
  },
  {
   "cell_type": "code",
   "execution_count": null,
   "metadata": {
    "collapsed": true
   },
   "outputs": [],
   "source": [
    "€(2//7,3//8)"
   ]
  },
  {
   "cell_type": "code",
   "execution_count": null,
   "metadata": {
    "collapsed": true
   },
   "outputs": [],
   "source": [
    "z = [€(Complex(rand(),rand()),Complex(rand(),rand())) for i in 1:25]\n",
    "zz = reshape(z,5,5)"
   ]
  },
  {
   "cell_type": "code",
   "execution_count": null,
   "metadata": {
    "collapsed": true
   },
   "outputs": [],
   "source": [
    "det(zz)"
   ]
  },
  {
   "cell_type": "code",
   "execution_count": null,
   "metadata": {
    "collapsed": true
   },
   "outputs": [],
   "source": [
    "ww = zz.*conj(zz)"
   ]
  },
  {
   "cell_type": "code",
   "execution_count": null,
   "metadata": {
    "collapsed": true
   },
   "outputs": [],
   "source": [
    "norm.(zz)   # 'dot' is a shortcut for the map function:  map(z -> norm(z), zz)"
   ]
  },
  {
   "cell_type": "markdown",
   "metadata": {},
   "source": [
    "### Mandelbrot set"
   ]
  },
  {
   "cell_type": "code",
   "execution_count": null,
   "metadata": {
    "collapsed": true
   },
   "outputs": [],
   "source": [
    "function mandel(z::Complex, N::Integer)\n",
    "  c = z\n",
    "  for n = 1:N\n",
    "    (norm(z) > 2) && return false\n",
    "    z = €(z, c)\n",
    "  end\n",
    "  return true\n",
    "end"
   ]
  },
  {
   "cell_type": "code",
   "execution_count": null,
   "metadata": {
    "collapsed": true
   },
   "outputs": [],
   "source": [
    "mandel(0.1+0.1*im, 30)"
   ]
  },
  {
   "cell_type": "code",
   "execution_count": null,
   "metadata": {
    "collapsed": true
   },
   "outputs": [],
   "source": [
    "m0 = [mandel(u + v*im, 30) for u in -1.5:0.005:0.5, v in -1.0:0.005:1.0];\n",
    "(mx,my) = size(m0)"
   ]
  },
  {
   "cell_type": "code",
   "execution_count": null,
   "metadata": {
    "collapsed": true
   },
   "outputs": [],
   "source": [
    "m1 = Array{Int32,2}(mx,my)\n",
    "for i in 1:mx, j in 1:my\n",
    "  m1[i,j] = m0[i,j] ? 0 : 255\n",
    "end"
   ]
  },
  {
   "cell_type": "code",
   "execution_count": null,
   "metadata": {
    "collapsed": true
   },
   "outputs": [],
   "source": [
    "function create_pgmfile(img, outf::String)\n",
    "    s = open(outf, \"w\")\n",
    "    write(s, \"P5\\n\")    \n",
    "    n, m = size(img)\n",
    "    write(s, \"$m $n 255\\n\")\n",
    "    for i=1:n, j=1:m\n",
    "      write(s, UInt8(img[j,i]))\n",
    "    end\n",
    "    close(s)\n",
    "end\n",
    "\n",
    "create_pgmfile(m1,\"./mandelbrot.pgm\")"
   ]
  },
  {
   "cell_type": "code",
   "execution_count": null,
   "metadata": {
    "collapsed": true
   },
   "outputs": [],
   "source": [
    "run(`display ./mandelbrot.pgm`)  # This executes an external task"
   ]
  },
  {
   "cell_type": "markdown",
   "metadata": {},
   "source": [
    "---\n",
    "\n",
    "### Let's investigate a function to evaluate PI\n",
    "\n",
    "![](Images/eval-pi.png)"
   ]
  },
  {
   "cell_type": "code",
   "execution_count": null,
   "metadata": {
    "collapsed": true
   },
   "outputs": [],
   "source": [
    "function mypi(n::Integer)\n",
    "  @assert n > 0\n",
    "  k = 0\n",
    "  for i = 1:n\n",
    "    if (rand()^2 + rand()^2 <= 1)\n",
    "       k +=1\n",
    "    end\n",
    "  end\n",
    "  4.0 * (k / n)\n",
    "end"
   ]
  },
  {
   "cell_type": "code",
   "execution_count": null,
   "metadata": {
    "collapsed": true
   },
   "outputs": [],
   "source": [
    "macroexpand(:(@assert n > 0))"
   ]
  },
  {
   "cell_type": "code",
   "execution_count": null,
   "metadata": {
    "collapsed": true
   },
   "outputs": [],
   "source": [
    "N = 10_000_000;\n",
    "pi2 = mypi(N)"
   ]
  },
  {
   "cell_type": "code",
   "execution_count": null,
   "metadata": {
    "collapsed": true
   },
   "outputs": [],
   "source": [
    "@printf \"My value for PI is %.5f\\n\" pi2"
   ]
  },
  {
   "cell_type": "code",
   "execution_count": null,
   "metadata": {
    "collapsed": true
   },
   "outputs": [],
   "source": [
    "# Look at how the work-horse line is parsed\n",
    "\n",
    "dump(:(rand()^2 + rand()^2 < 1))"
   ]
  },
  {
   "cell_type": "code",
   "execution_count": null,
   "metadata": {
    "collapsed": true
   },
   "outputs": [],
   "source": [
    "# In a more compact form\n",
    "\n",
    "Meta.show_sexpr(:(rand()^2 + rand()^2 < 1))"
   ]
  },
  {
   "cell_type": "code",
   "execution_count": null,
   "metadata": {
    "collapsed": true
   },
   "outputs": [],
   "source": [
    "# ... and the lowered code\n",
    "\n",
    "@code_lowered mypi(10000000)"
   ]
  },
  {
   "cell_type": "code",
   "execution_count": null,
   "metadata": {
    "collapsed": true
   },
   "outputs": [],
   "source": [
    "# ... and the typed code\n",
    "\n",
    "@code_typed mypi(10000000)"
   ]
  },
  {
   "cell_type": "code",
   "execution_count": null,
   "metadata": {
    "collapsed": true
   },
   "outputs": [],
   "source": [
    "# ... and the native (x86) CODE\n",
    "\n",
    "@code_native mypi(10000000)"
   ]
  },
  {
   "cell_type": "markdown",
   "metadata": {},
   "source": [
    "#### Timing the function"
   ]
  },
  {
   "cell_type": "code",
   "execution_count": null,
   "metadata": {
    "collapsed": true
   },
   "outputs": [],
   "source": [
    "# Using a macro\n",
    "\n",
    "@time mypi(N)"
   ]
  },
  {
   "cell_type": "code",
   "execution_count": null,
   "metadata": {
    "collapsed": true
   },
   "outputs": [],
   "source": [
    "macroexpand(:(@time pi2 = mypi(N)))"
   ]
  },
  {
   "cell_type": "code",
   "execution_count": null,
   "metadata": {
    "collapsed": true
   },
   "outputs": [],
   "source": [
    "# Alternatively with teh BenchmarkTools package\n",
    "\n",
    "@benchmark mypi(N) samples=10"
   ]
  },
  {
   "cell_type": "markdown",
   "metadata": {},
   "source": [
    "---\n",
    "\n",
    "## Number type hierarchy in Julia\n",
    "\n",
    "![](Images/type-hierarchy-numbers.png)\n",
    "\n",
    "---"
   ]
  },
  {
   "cell_type": "markdown",
   "metadata": {
    "collapsed": true
   },
   "source": [
    "### Define a \"Natural\" *( i.e. non-negative integer )*"
   ]
  },
  {
   "cell_type": "code",
   "execution_count": null,
   "metadata": {
    "collapsed": true
   },
   "outputs": [],
   "source": [
    "# Need a simple constructor to check n >= 0\n",
    "\n",
    "struct Natural\n",
    "  n::Integer\n",
    "  function Natural(n::Integer)\n",
    "    n < zero(Integer) && throw(ArgumentError(\"Invalid Natural: not non-negative\"))\n",
    "    new(n)\n",
    "  end\n",
    "end\n",
    "\n",
    "n0 = Natural(3)"
   ]
  },
  {
   "cell_type": "code",
   "execution_count": null,
   "metadata": {
    "collapsed": true
   },
   "outputs": [],
   "source": [
    "# With just a type definition we can NOT do any arithmetic operations\n",
    "# ... unless we define how to perform them\n",
    "\n",
    "n1 = Natural(2)\n",
    "n2 = Natural(5)\n",
    "\n",
    "n1 + n2"
   ]
  },
  {
   "cell_type": "code",
   "execution_count": null,
   "metadata": {
    "collapsed": true
   },
   "outputs": [],
   "source": [
    "# However this is not to difficult\n",
    "\n",
    "import Base.+\n",
    "+(n1::Natural, n2::Natural) = Natural(n1.n + n2.n)"
   ]
  },
  {
   "cell_type": "code",
   "execution_count": null,
   "metadata": {
    "collapsed": true
   },
   "outputs": [],
   "source": [
    "n1 + n2"
   ]
  },
  {
   "cell_type": "code",
   "execution_count": null,
   "metadata": {
    "collapsed": true
   },
   "outputs": [],
   "source": [
    "# This is an ugly way to display the value of the natural\n",
    "# but we can also redefine how this is presented\n",
    "\n",
    "import Base.show\n",
    "\n",
    "function show(io::IO, k::Natural)\n",
    "    show(io, k.n)\n",
    "end"
   ]
  },
  {
   "cell_type": "code",
   "execution_count": null,
   "metadata": {
    "collapsed": true
   },
   "outputs": [],
   "source": [
    "n1 + n2"
   ]
  },
  {
   "cell_type": "markdown",
   "metadata": {
    "collapsed": true
   },
   "source": [
    "### A Simple Type in 4-D space"
   ]
  },
  {
   "cell_type": "code",
   "execution_count": null,
   "metadata": {
    "collapsed": true
   },
   "outputs": [],
   "source": [
    "struct Vec4D\n",
    "  w::Float64\n",
    "  x::Float64\n",
    "  y::Float64\n",
    "  z::Float64\n",
    "end"
   ]
  },
  {
   "cell_type": "code",
   "execution_count": null,
   "metadata": {
    "collapsed": true
   },
   "outputs": [],
   "source": [
    "import Base: +, -, *, /\n",
    "import Base: ==, <, >\n",
    "import Base: zero, one"
   ]
  },
  {
   "cell_type": "code",
   "execution_count": null,
   "metadata": {
    "collapsed": true
   },
   "outputs": [],
   "source": [
    "zero(::Type{Vec4D}) = Vec4D(zero(Float64), zero(Float64), zero(Float64), zero(Float64))\n",
    "one(::Type{Vec4D}) = Vec4D(one(Float64), one(Float64), one(Float64), one(Float64))"
   ]
  },
  {
   "cell_type": "code",
   "execution_count": null,
   "metadata": {
    "collapsed": true
   },
   "outputs": [],
   "source": [
    "methods(one)"
   ]
  },
  {
   "cell_type": "code",
   "execution_count": null,
   "metadata": {
    "collapsed": true
   },
   "outputs": [],
   "source": [
    "? one"
   ]
  },
  {
   "cell_type": "code",
   "execution_count": null,
   "metadata": {
    "collapsed": true
   },
   "outputs": [],
   "source": [
    "+(u::Vec4D, v::Vec4D) = Vec4D(u.w + v.w, u.x + v.x, u.y + v.y, u.z + v.z)\n",
    "\n",
    "-(u::Vec4D) = Vec4D(-u.w, -u.x, -u.y, -u.z)\n",
    "-(u::Vec4D, v::Vec4D) = u + (-v)\n",
    "\n",
    "*(u::Vec4D, v::Vec4D)   = Vec4D(u.w*v.w, u.x*v.x, u.y*v.y, u*z*v.z)\n",
    "\n",
    "*(a::Float64, u::Vec4D) = Vec4D(a*u.w, a*u.x, a*u.y, a*u.z)\n",
    "*(u::Vec4D, a::Float64) = a*u\n",
    "\n",
    "/(u::Vec4D, a::Float64) = (1.0/a)*u;"
   ]
  },
  {
   "cell_type": "code",
   "execution_count": null,
   "metadata": {
    "collapsed": true
   },
   "outputs": [],
   "source": [
    "import Base:norm"
   ]
  },
  {
   "cell_type": "code",
   "execution_count": null,
   "metadata": {
    "collapsed": true
   },
   "outputs": [],
   "source": [
    "dist(u::Vec4D, v::Vec4D) = ((u.w - v.w)^2 + (u.x - v.x)^2 + (u.y - v.y)^2 + (u.z - v.z)^2)^0.5\n",
    "norm(u::Vec4D) = (u.w^2 + u.x^2 + u.y^2 + u.z^2)^0.5\n",
    "\n",
    "# We could also define norm as:  norm(u::Vec4D) = dist(u, zero(Vec4D))\n",
    "\n",
    "convert(::Type{Vec4D}, a::Real) = Vec4D(a,zero(a))\n",
    "promote_rule(::Type{Vec4D}, ::Type{<:Number}) = Vec4D;"
   ]
  },
  {
   "cell_type": "code",
   "execution_count": null,
   "metadata": {
    "collapsed": true
   },
   "outputs": [],
   "source": [
    "p = Vec4D(1.2,3.2,2.7,3.9)"
   ]
  },
  {
   "cell_type": "code",
   "execution_count": null,
   "metadata": {
    "collapsed": true
   },
   "outputs": [],
   "source": [
    "u = Vec4D(rand(), rand(), rand(), rand())"
   ]
  },
  {
   "cell_type": "code",
   "execution_count": null,
   "metadata": {
    "collapsed": true
   },
   "outputs": [],
   "source": [
    "norm(u)"
   ]
  },
  {
   "cell_type": "code",
   "execution_count": null,
   "metadata": {
    "collapsed": true
   },
   "outputs": [],
   "source": [
    "vv = [Vec4D(rand(), rand(), rand(), rand()) for i = 1:1000000];"
   ]
  },
  {
   "cell_type": "code",
   "execution_count": null,
   "metadata": {
    "collapsed": true
   },
   "outputs": [],
   "source": [
    "# Volume of the unit 4-ball is 2*π*π\n",
    "# The count is 1/16th of the volume\n",
    "# see: https://en.wikipedia.org/wiki/Volume_of_an_n-ball\n",
    "\n",
    "k = 0\n",
    "for i in 1:length(vv)\n",
    "  if norm(vv[i]) < 1.0 k +=1 end\n",
    "end\n",
    "\n",
    "@printf \"Estimate of PI is %9.5f\\n\" sqrt(32.0*k/length(vv))"
   ]
  },
  {
   "cell_type": "code",
   "execution_count": null,
   "metadata": {
    "collapsed": true
   },
   "outputs": [],
   "source": [
    "# Rather than specifying the type of component as Float64 \n",
    "# We can use a general parameter {T}\n",
    "# Constraining this to be an number\n",
    "\n",
    "struct Vec4T{T<:Number} \n",
    "  w::T\n",
    "  x::T\n",
    "  y::T\n",
    "  z::T\n",
    "end"
   ]
  },
  {
   "cell_type": "code",
   "execution_count": null,
   "metadata": {
    "collapsed": true
   },
   "outputs": [],
   "source": [
    "# More generally we can pass the number of components {N}\n",
    "# The operations now will need to be in terms of arrays\n",
    "\n",
    " struct VecN{T, N}\n",
    "   x::Array{T,N}\n",
    "end"
   ]
  },
  {
   "cell_type": "code",
   "execution_count": null,
   "metadata": {
    "collapsed": true
   },
   "outputs": [],
   "source": [
    "vv = VecN([1.2, 3.7, 5.1, 4.0, 2.2])"
   ]
  },
  {
   "cell_type": "code",
   "execution_count": null,
   "metadata": {
    "collapsed": true
   },
   "outputs": [],
   "source": [
    "fieldnames(vv)"
   ]
  },
  {
   "cell_type": "code",
   "execution_count": null,
   "metadata": {
    "collapsed": true
   },
   "outputs": [],
   "source": [
    "vv.x[2]   # Recall that like many scientific programming languages, Julia is 1-based"
   ]
  },
  {
   "cell_type": "markdown",
   "metadata": {
    "collapsed": true
   },
   "source": [
    "\n",
    "---\n"
   ]
  },
  {
   "cell_type": "markdown",
   "metadata": {},
   "source": [
    "## A _(little)_ bit on macros"
   ]
  },
  {
   "cell_type": "code",
   "execution_count": null,
   "metadata": {
    "collapsed": true
   },
   "outputs": [],
   "source": [
    "using BenchmarkTools"
   ]
  },
  {
   "cell_type": "markdown",
   "metadata": {},
   "source": [
    "### Horner's Method\n",
    "\n",
    "<h4>y = a + bx + cx<sup>2</sup> +dx<sup>3</sup> + e<sup>4</sup></h4>"
   ]
  },
  {
   "cell_type": "code",
   "execution_count": null,
   "metadata": {
    "collapsed": true
   },
   "outputs": [],
   "source": [
    "# Evaluate a polynomial with a function\n",
    "# This is NOT a macro\n",
    "\n",
    "function poly_native(x, a...)\n",
    "  p=zero(x)\n",
    "  for i = 1:length(a)\n",
    "    p = p + a[i] *  x^(i-1)\n",
    "  end\n",
    "  return p\n",
    "end\n",
    "\n",
    "f_native(x) = poly_native(x,1,2,3,4,5)\n",
    "f_native(2.1)"
   ]
  },
  {
   "cell_type": "code",
   "execution_count": null,
   "metadata": {
    "collapsed": true
   },
   "outputs": [],
   "source": [
    "t = @benchmark f_native(2.1)\n",
    "fieldnames(t)"
   ]
  },
  {
   "cell_type": "code",
   "execution_count": null,
   "metadata": {
    "collapsed": true
   },
   "outputs": [],
   "source": [
    "median(t)"
   ]
  },
  {
   "cell_type": "code",
   "execution_count": null,
   "metadata": {
    "collapsed": true
   },
   "outputs": [],
   "source": [
    "# Horners method\n",
    "# Neither IS this!\n",
    "\n",
    "function poly_horner(x, a...)\n",
    "  b=zero(x)\n",
    "  for i = length(a):-1:1\n",
    "    b = a[i] + b * x\n",
    "  end\n",
    "  return b\n",
    "end\n",
    "\n",
    "# f -> (((5*x + 4)*x + 3)*x + 2)*x + 1\n",
    "#\n",
    "f_horner(x) = poly_horner(x,1,2,3,4,5)\n",
    "f_horner(2.1)"
   ]
  },
  {
   "cell_type": "code",
   "execution_count": null,
   "metadata": {
    "collapsed": true
   },
   "outputs": [],
   "source": [
    "t = @benchmark f_horner(2.1)\n",
    "median(t)"
   ]
  },
  {
   "cell_type": "code",
   "execution_count": null,
   "metadata": {
    "collapsed": true
   },
   "outputs": [],
   "source": [
    "# Define mad(x,a,b)\n",
    "# [Julia has this function too :- muladd(x,a,b)]\n",
    "\n",
    "mad(x,a,b) = a*x + b\n",
    "mad(2.1,5,4)"
   ]
  },
  {
   "cell_type": "code",
   "execution_count": null,
   "metadata": {
    "collapsed": true
   },
   "outputs": [],
   "source": [
    "# And NOW use horner's method in a macro\n",
    "# [ p... is a variable list of arguments passed as an array]\n",
    "\n",
    "macro horner(x, p...)\n",
    "    ex = esc(p[end])\n",
    "    for i = length(p)-1:-1:1\n",
    "        ex = :(mad(t, $ex, $(esc(p[i]))))\n",
    "    end\n",
    "    Expr(:block, :(t = $(esc(x))), ex)\n",
    "end"
   ]
  },
  {
   "cell_type": "code",
   "execution_count": null,
   "metadata": {
    "collapsed": true
   },
   "outputs": [],
   "source": [
    "@horner 2.1 1 2 3 4 5   # => This can also be invoked as: @horner(2.1, 1, 2, 3, 4, 5)"
   ]
  },
  {
   "cell_type": "code",
   "execution_count": null,
   "metadata": {
    "collapsed": true
   },
   "outputs": [],
   "source": [
    "macroexpand(:(@horner 2.1 1 2 3 4 5))"
   ]
  },
  {
   "cell_type": "code",
   "execution_count": null,
   "metadata": {
    "collapsed": true
   },
   "outputs": [],
   "source": [
    "t = @benchmark @horner 2.1 1 2 3 4 5\n",
    "median(t)"
   ]
  },
  {
   "cell_type": "markdown",
   "metadata": {},
   "source": [
    "---\n",
    "\n",
    "## Interoperability\n",
    "\n",
    "- #### Julia can connect to Python *(PyCall)*, R *(RCall)*, Java *(JavaCall)* etc.\n",
    "- #### C++ is harder but now possible\n",
    "- #### The basis of all of these is the built-in C interface *(ccall)*\n",
    "- #### Because of this Julia has no need of a formal API\n",
    "- #### If a interop-package has NOT yet been written, it is possible to use the O/S\n",
    "- #### Julia can run *pipes* and capture *standard output*\n"
   ]
  },
  {
   "cell_type": "code",
   "execution_count": null,
   "metadata": {
    "collapsed": true
   },
   "outputs": [],
   "source": [
    "# Simple call to a C-routine\n",
    "# Can be used to set the random number seed\n",
    "\n",
    "systime()   = ccall((:clock,\"libc\"),Int32,())\n",
    "randomize() = srand(systime())"
   ]
  },
  {
   "cell_type": "code",
   "execution_count": null,
   "metadata": {
    "collapsed": true
   },
   "outputs": [],
   "source": [
    "systime()"
   ]
  },
  {
   "cell_type": "code",
   "execution_count": null,
   "metadata": {
    "collapsed": true
   },
   "outputs": [],
   "source": [
    "#= Link to a C routine\n",
    "\n",
    "#include<math.h>\n",
    "\n",
    "double horner(double x, double aa[], long n) {\n",
    "  long i;\n",
    "  double s = aa[n-1];\n",
    "  if (n > 1) { \n",
    "    for (i = n-2; i >= 0; i--) {\n",
    "      s = s*x + aa[i];\n",
    "    }\n",
    "  }\n",
    "  return s;\n",
    "}\n",
    "\n",
    "// Build a dynamic library (on OSX) as:\n",
    "\n",
    "// clang -c horner.c\n",
    "// libtool -dynamic horner.o -o libmyfuns.dylib  -lSystem -macosx_version_min 10.13\n",
    "// sudo cp libmyfuns.dylib /usr/local/lib\n",
    "\n",
    "=#\n",
    "\n",
    "run(`nm /usr/local/lib/libmyfuns.dylib`)"
   ]
  },
  {
   "cell_type": "code",
   "execution_count": null,
   "metadata": {
    "collapsed": true
   },
   "outputs": [],
   "source": [
    "x = 2.1;\n",
    "aa = [1.0, 2.0, 3.0, 4.0, 5.0];\n",
    "\n",
    "ccall((:horner,\"libmyfuns.dylib\"),Cdouble,(Cdouble,Ptr{Cdouble},Clong),x,aa,length(aa))"
   ]
  },
  {
   "cell_type": "markdown",
   "metadata": {},
   "source": [
    "---\n",
    "\n",
    "### Return to computing PI"
   ]
  },
  {
   "cell_type": "code",
   "execution_count": null,
   "metadata": {
    "collapsed": true
   },
   "outputs": [],
   "source": [
    "# Compute PI in 'C\"\n",
    "\n",
    "C_code = \"\"\"\n",
    "#include <stddef.h>\n",
    "#include <stdlib.h>\n",
    "\n",
    "double c_pi(long n) {\n",
    "    long k = 0L;\n",
    "    float rmax = (float) RAND_MAX;\n",
    "\n",
    "    for (long i = 0L; i < n; i++) {\n",
    "        float x = ((float) rand())/rmax;\n",
    "        float y = ((float) rand())/rmax;\n",
    "        if ((x*x + y*y) < 1.0) {\n",
    "          k++;\n",
    "        }\n",
    "    }\n",
    "    return 4.0*((double) k)/((double) n);\n",
    "}\n",
    "\n",
    "\"\"\"\n",
    "\n",
    "const Clib = tempname()   # ... make a temporary file\n"
   ]
  },
  {
   "cell_type": "code",
   "execution_count": null,
   "metadata": {
    "collapsed": true
   },
   "outputs": [],
   "source": [
    "# compile to a shared library by piping C_code to gcc\n",
    "# (works only if you have gcc installed):\n",
    "open(`gcc -fPIC -O3 -msse3 -xc -shared -o $(Clib * \".\" * Libdl.dlext) -`, \"w\") do f\n",
    "    print(f, C_code) \n",
    "end\n",
    "\n",
    "# define a Julia function that calls the C function:\n",
    "c_pi(N::Int64) = ccall((\"c_pi\", Clib), Float64, (Clong,), N)"
   ]
  },
  {
   "cell_type": "code",
   "execution_count": null,
   "metadata": {
    "collapsed": true
   },
   "outputs": [],
   "source": [
    "randomize();\n",
    "c_pi(1000000)"
   ]
  },
  {
   "cell_type": "code",
   "execution_count": null,
   "metadata": {
    "collapsed": true
   },
   "outputs": [],
   "source": [
    "using BenchmarkTools\n",
    "@benchmark c_pi(1000000)"
   ]
  },
  {
   "cell_type": "code",
   "execution_count": null,
   "metadata": {
    "collapsed": true
   },
   "outputs": [],
   "source": [
    "# Same can be done in Python\n",
    "\n",
    "using PyCall"
   ]
  },
  {
   "cell_type": "code",
   "execution_count": null,
   "metadata": {
    "collapsed": true
   },
   "outputs": [],
   "source": [
    "py\"\"\"\n",
    "import random\n",
    "def py_pi(n):\n",
    "  k = 0\n",
    "  for i in range(n):\n",
    "    x = random.uniform(0.0,1.0)\n",
    "    y = random.uniform(0.0,1.0)\n",
    "    if (x*x + y*y) < 1.0:\n",
    "      k = k + 1\n",
    "  return (4.0*k)/n\n",
    "\"\"\"\n",
    "\n",
    "py_PI = py\"py_pi\""
   ]
  },
  {
   "cell_type": "code",
   "execution_count": null,
   "metadata": {
    "collapsed": true
   },
   "outputs": [],
   "source": [
    "pycall(py_PI,PyAny,1000000)"
   ]
  },
  {
   "cell_type": "code",
   "execution_count": null,
   "metadata": {
    "collapsed": true
   },
   "outputs": [],
   "source": [
    "@benchmark pycall(py_PI,PyAny,1000000)"
   ]
  },
  {
   "cell_type": "code",
   "execution_count": null,
   "metadata": {
    "collapsed": true
   },
   "outputs": [],
   "source": [
    "### Reprise the Julia function\n",
    "\n",
    "normsq(a,b) = a*a + b*b;\n",
    "\n",
    "function ju_pi(n::Integer)\n",
    "  @assert n > 0\n",
    "  k = 0\n",
    "  for i = 1:n\n",
    "    if normsq(rand(),rand()) < 1\n",
    "       k += 1\n",
    "    end\n",
    "  end\n",
    "  4.0 * (k / n)\n",
    "end"
   ]
  },
  {
   "cell_type": "code",
   "execution_count": null,
   "metadata": {
    "collapsed": true
   },
   "outputs": [],
   "source": [
    "@benchmark ju_pi(1000000) samples=100"
   ]
  },
  {
   "cell_type": "markdown",
   "metadata": {},
   "source": [
    "---\n",
    "\n",
    "# Factorial Fun\n"
   ]
  },
  {
   "cell_type": "code",
   "execution_count": null,
   "metadata": {
    "collapsed": true
   },
   "outputs": [],
   "source": [
    "# The 'usual' defintion of factorial function\n",
    "# A simple loop is much quicker\n",
    "\n",
    "function fac(n::Integer)\n",
    "  @assert n > 0\n",
    "  (n == 1) ? 1 : n*fac(n-1)\n",
    "end"
   ]
  },
  {
   "cell_type": "code",
   "execution_count": null,
   "metadata": {
    "collapsed": true
   },
   "outputs": [],
   "source": [
    "dump(:(n*fac(n-1)))"
   ]
  },
  {
   "cell_type": "code",
   "execution_count": null,
   "metadata": {
    "collapsed": true
   },
   "outputs": [],
   "source": [
    "for i = 1:30\n",
    "  @printf \"%3d : %d \\n\" i fac(i)\n",
    "end"
   ]
  },
  {
   "cell_type": "code",
   "execution_count": null,
   "metadata": {
    "collapsed": true
   },
   "outputs": [],
   "source": [
    "# Passing a big integer returns a BIG integer\n",
    "\n",
    "fac(big(40))"
   ]
  },
  {
   "cell_type": "code",
   "execution_count": null,
   "metadata": {
    "collapsed": true
   },
   "outputs": [],
   "source": [
    "gamma(41)     # Γ(n+1)  <=>  n!"
   ]
  },
  {
   "cell_type": "code",
   "execution_count": null,
   "metadata": {
    "collapsed": true
   },
   "outputs": [],
   "source": [
    "for i = 1:30\n",
    "  @printf \"%3d : %d \\n\" i fac(big(i))\n",
    "end"
   ]
  },
  {
   "cell_type": "code",
   "execution_count": null,
   "metadata": {
    "collapsed": true
   },
   "outputs": [],
   "source": [
    "macroexpand(:(@printf \"%3d : %d \\n\" i fac(big(i))))"
   ]
  },
  {
   "cell_type": "code",
   "execution_count": null,
   "metadata": {
    "collapsed": true
   },
   "outputs": [],
   "source": [
    "# A non-recursive one liner\n",
    "#\n",
    "facA(N::Integer) = N < 1 ? throw(ArgumentError(\"N must be positive\")) : reduce(*,1,collect(big.(1:N)))\n",
    "\n",
    "@time facA(40)"
   ]
  },
  {
   "cell_type": "markdown",
   "metadata": {},
   "source": [
    "---\n",
    "\n",
    "## Fibonacci Series\n",
    "\n",
    "![](Images/fibimages.png)\n",
    "\n",
    "![](Images/fibunnies.gif)\n"
   ]
  },
  {
   "cell_type": "code",
   "execution_count": null,
   "metadata": {
    "collapsed": true
   },
   "outputs": [],
   "source": [
    "# The 'standard' definition\n",
    "\n",
    "function fib(k::Integer)\n",
    "  @assert k > 0\n",
    "  (k < 3) ? 1 : fib(k-1) + fib(k-2)\n",
    "end\n",
    "\n",
    "@time fib(10)"
   ]
  },
  {
   "cell_type": "code",
   "execution_count": null,
   "metadata": {
    "collapsed": true
   },
   "outputs": [],
   "source": [
    "# But this runs into problems (why?)\n",
    "\n",
    "@time fib(42)"
   ]
  },
  {
   "cell_type": "code",
   "execution_count": null,
   "metadata": {
    "collapsed": true
   },
   "outputs": [],
   "source": [
    "# A better version\n",
    "\n",
    "function fibA(n::Integer)\n",
    "  @assert n > 0\n",
    "  a = Array{typeof(n)}(n)\n",
    "  a[1] = 0\n",
    "  a[2] = 1\n",
    "  for i = 3:n\n",
    "    a[i] = a[i-1] + a[i-2]\n",
    "  end\n",
    "  return a[n]\n",
    "end"
   ]
  },
  {
   "cell_type": "markdown",
   "metadata": {},
   "source": [
    "![](Images/julia1a.gif)"
   ]
  },
  {
   "cell_type": "code",
   "execution_count": null,
   "metadata": {
    "collapsed": true
   },
   "outputs": [],
   "source": [
    "@time fibA(big(402))"
   ]
  },
  {
   "cell_type": "code",
   "execution_count": null,
   "metadata": {
    "collapsed": true
   },
   "outputs": [],
   "source": [
    "# Tail recursive version\n",
    "\n",
    "fib_tail(a,b,n) = (n > 1) ? fib_tail(b, a+b, n-1) : a\n",
    "fibB(n) = fib_tail(1, 1, n)\n",
    "\n",
    "@time fibB(big(402))"
   ]
  },
  {
   "cell_type": "code",
   "execution_count": null,
   "metadata": {
    "collapsed": true
   },
   "outputs": [],
   "source": [
    "# Non-recursive, no memory usage\n",
    "# It wiil return a BIG, so no typed instability\n",
    "\n",
    "function fibC(n::Integer)\n",
    "  @assert n > 2\n",
    "  a = b = big(1)\n",
    "  while n > 1\n",
    "    (a, b) = (b, a+b)\n",
    "    n -= 1\n",
    "  end\n",
    "  return a\n",
    "end\n",
    "\n",
    "@time fibC(402)"
   ]
  },
  {
   "cell_type": "markdown",
   "metadata": {},
   "source": [
    "# Golden Ratio\n",
    "\n",
    "Two quantities (a,b, a>b) are in the golden ratio if   a/b = (a+b)/a \n",
    "\n",
    "i.e.   ψ = (1 + sqrt(5))/2 ~= 1.618034\n",
    "\n",
    "Some twentieth-century artists and architects, including Le Corbusier and Dalí, have proportioned their works to approximate the golden ratio—especially in the form of the golden rectangle, in which the ratio of the longer sideto the shorter is the golden ratio—believing this proportion to be aesthetically pleasing. \n",
    "\n",
    "Mathematicians since Euclid have studied the properties of the golden ratio, including its appearance in the dimensions of a regular pentagon and in a golden rectangle, which may be cut into a square and a smaller rectanglewith the same aspect ratio. The golden ratio has also been used to analyze the proportions of natural objects as well as man-made systems such as financial markets, in some cases based on dubious fits to data.\n",
    "\n",
    "![](Images/GR-3.jpg)\n"
   ]
  },
  {
   "cell_type": "code",
   "execution_count": null,
   "metadata": {
    "collapsed": true
   },
   "outputs": [],
   "source": [
    "# ψ = (1 + sqrt(5))/2 ~= 1.618034\n",
    "#\n",
    "ψ = fibC(402)/fibC(401)"
   ]
  },
  {
   "cell_type": "code",
   "execution_count": null,
   "metadata": {
    "collapsed": true
   },
   "outputs": [],
   "source": [
    "# This is a Julia built-in constant\n",
    "\n",
    "golden"
   ]
  },
  {
   "cell_type": "code",
   "execution_count": null,
   "metadata": {
    "collapsed": true
   },
   "outputs": [],
   "source": []
  },
  {
   "cell_type": "markdown",
   "metadata": {},
   "source": [
    "\n",
    "---\n",
    "\n",
    "# The Basel problem\n",
    "\n",
    "The Basel problem is a problem in mathematical analysis with relevance to number theory, \n",
    "first posed by Pietro Mengoli in 1644 and solved by Leonhard Euler in 1734\n",
    "\n",
    "It asks for the precise summation of the reciprocals of the squares of the natural numbers\n",
    "<br/><br/>\n",
    "\n",
    "## $\\sum_{i=1}^\\infty \\frac{1}{i^2} = \\frac{\\pi^2}{6}$\n",
    "\n",
    "---\n"
   ]
  },
  {
   "cell_type": "code",
   "execution_count": null,
   "metadata": {
    "collapsed": true
   },
   "outputs": [],
   "source": [
    "function basel(N::Integer)\n",
    "  @assert N > 0\n",
    "  s = 0.0\n",
    "  for i = 1:N\n",
    "    s += 1.0/float(i)^2     \n",
    "  end \n",
    "  return s\n",
    "end\n",
    "\n",
    "basel(10000)"
   ]
  },
  {
   "cell_type": "code",
   "execution_count": null,
   "metadata": {
    "collapsed": true
   },
   "outputs": [],
   "source": [
    "abs(π - sqrt(6.0*basel(10000)))"
   ]
  },
  {
   "cell_type": "code",
   "execution_count": null,
   "metadata": {
    "collapsed": true
   },
   "outputs": [],
   "source": [
    "@time basel(10^4)"
   ]
  },
  {
   "cell_type": "code",
   "execution_count": null,
   "metadata": {
    "collapsed": true
   },
   "outputs": [],
   "source": [
    "push!(LOAD_PATH,pwd())"
   ]
  },
  {
   "cell_type": "code",
   "execution_count": null,
   "metadata": {
    "collapsed": true
   },
   "outputs": [],
   "source": [
    "N = 100_000_000\n",
    "ccall((:basel, \"libmyfuns.dylib\"), Cdouble, (Clong,), N)"
   ]
  },
  {
   "cell_type": "code",
   "execution_count": null,
   "metadata": {
    "collapsed": true
   },
   "outputs": [],
   "source": []
  },
  {
   "cell_type": "markdown",
   "metadata": {},
   "source": [
    "---"
   ]
  },
  {
   "cell_type": "markdown",
   "metadata": {
    "collapsed": true
   },
   "source": [
    "<a href='https://julialang.org/ecosystems' target='_blank()'>\n",
    "<img src='Images/SS12.png'/>\n",
    "</a>"
   ]
  },
  {
   "cell_type": "markdown",
   "metadata": {
    "collapsed": true
   },
   "source": [
    "<a href='https://juliastats.github.io/' target='_blank()'><img src='Images/SS43.png'></a>\n",
    "<a href='https://juliaml.github.io/'    target='_blank()'><img src='Images/SS45.png'></a>\n",
    "<a href='https://github.com/JuliaMath'  target='_blank()'><img src='Images/SS44.png'></a>\n",
    "<a href='https://github.com/JuliaGPU'   target='_blank()'><img src='Images/SS46.png'></a>\n"
   ]
  },
  {
   "cell_type": "markdown",
   "metadata": {
    "collapsed": true
   },
   "source": [
    "---\n",
    "\n",
    "![](Images/SS37.png)\n",
    "\n",
    "# Useful *(but not complete)* packages\n",
    "## Statistics\n",
    "- Distributions\n",
    "- DataFrames\n",
    "- GLM\n",
    "- Loess\n",
    "- TimeSeries\n",
    "- Klara\n",
    "- RMath\n",
    "- Clustering\n",
    "- Mamba\n",
    "\n",
    "## Machine Learning &amp; GPUs\n",
    "- Mocha\n",
    "- MXNet\n",
    "- Knet\n",
    "- Flex\n",
    "- DecisionTree\n",
    "- ScikitLearn\n",
    "- TensorFlow\n",
    "- NaiveBayes\n",
    "- BayesNets\n",
    "<br/><br/>\n",
    "- CUDA(\\*), CU(\\*)\n",
    "- OpenCL, CL(\\*)\n",
    "- GPUBenchmarks\n"
   ]
  },
  {
   "cell_type": "markdown",
   "metadata": {},
   "source": [
    " ---"
   ]
  },
  {
   "cell_type": "markdown",
   "metadata": {},
   "source": [
    "![](Images/SS90.png)"
   ]
  }
 ],
 "metadata": {
  "kernelspec": {
   "display_name": "Julia 0.6.2",
   "language": "julia",
   "name": "julia-0.6"
  },
  "language_info": {
   "file_extension": ".jl",
   "mimetype": "application/julia",
   "name": "julia",
   "version": "0.6.2"
  }
 },
 "nbformat": 4,
 "nbformat_minor": 2
}
