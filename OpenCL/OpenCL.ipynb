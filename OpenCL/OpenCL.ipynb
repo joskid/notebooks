{
 "cells": [
  {
   "cell_type": "code",
   "execution_count": 1,
   "metadata": {},
   "outputs": [
    {
     "data": {
      "text/html": [
       "<link href='http://fonts.googleapis.com/css?family=Alegreya+Sans:100,300,400,500,700,800,900,100italic,300italic,400italic,500italic,700italic,800italic,900italic' rel='stylesheet' type='text/css'>\r\n",
       "<link href='http://fonts.googleapis.com/css?family=Arvo:400,700,400italic' rel='stylesheet' type='text/css'>\r\n",
       "<link href='http://fonts.googleapis.com/css?family=PT+Mono' rel='stylesheet' type='text/css'>\r\n",
       "<link href='http://fonts.googleapis.com/css?family=Shadows+Into+Light' rel='stylesheet' type='text/css'>\r\n",
       "<link href='http://fonts.googleapis.com/css?family=Philosopher:400,700,400italic,700italic' rel='stylesheet' type='text/css'>\r\n",
       "\r\n",
       "<style>\r\n",
       "\r\n",
       "@font-face {\r\n",
       "    font-family: \"Computer Modern\";\r\n",
       "    src: url('http://mirrors.ctan.org/fonts/cm-unicode/fonts/otf/cmunss.otf');\r\n",
       "}\r\n",
       "\r\n",
       "\r\n",
       "\r\n",
       "/* Formatting for header cells */\r\n",
       ".text_cell_render h1 {\r\n",
       "    font-family: 'Philosopher', sans-serif;\r\n",
       "    font-weight: 400;\r\n",
       "    font-size: 2.7em;\r\n",
       "    line-height: 100%;\r\n",
       "    color: rgb(160, 20 80);\r\n",
       "    margin-bottom: 0.1em;\r\n",
       "    margin-top: 0.1em;\r\n",
       "    display: block;\r\n",
       "}\t\r\n",
       ".text_cell_render h2 {\r\n",
       "    font-family: 'Philosopher', serif;\r\n",
       "    font-weight: 400;\r\n",
       "    font-size: 2.1em;\r\n",
       "    line-height: 100%;\r\n",
       "    color: rgb(200,100,0);\r\n",
       "    margin-bottom: 0.1em;\r\n",
       "    margin-top: 0.1em;\r\n",
       "    display: block;\r\n",
       "}\t\r\n",
       "\r\n",
       ".text_cell_render h3 {\r\n",
       "    font-family: 'Philosopher', serif;\r\n",
       "    margin-top:12px;\r\n",
       "    margin-bottom: 3px;\r\n",
       "    font-size: 1.6em;\r\n",
       "    font-style: italic;\r\n",
       "    color: rgb(94,127,192);\r\n",
       "}\r\n",
       "\r\n",
       ".text_cell_render h4 {\r\n",
       "    font-family: 'Philosopher', serif;\r\n",
       "}\r\n",
       "\r\n",
       ".text_cell_render h5 {\r\n",
       "    font-family: 'Alegreya Sans', sans-serif;\r\n",
       "    font-weight: 300;\r\n",
       "    font-size: 16pt;\r\n",
       "    color: grey;\r\n",
       "    font-style: italic;\r\n",
       "    margin-bottom: .1em;\r\n",
       "    margin-top: 0.1em;\r\n",
       "    display: block;\r\n",
       "}\r\n",
       "\r\n",
       ".text_cell_render h6 {\r\n",
       "    font-family: 'PT Mono', sans-serif;\r\n",
       "    font-weight: 300;\r\n",
       "    font-size: 10pt;\r\n",
       "    color: grey;\r\n",
       "    margin-bottom: 1px;\r\n",
       "    margin-top: 1px;\r\n",
       "}\r\n",
       "\r\n",
       ".CodeMirror{\r\n",
       "        font-family: \"PT Mono\";\r\n",
       "        font-size: 100%;\r\n",
       "}\r\n",
       "\r\n",
       "body, p, li {\r\n",
       "    font-size: 1.3em;\r\n",
       "  }\r\n",
       "</style>\r\n",
       "\r\n"
      ],
      "text/plain": [
       "HTML{String}(\"<link href='http://fonts.googleapis.com/css?family=Alegreya+Sans:100,300,400,500,700,800,900,100italic,300italic,400italic,500italic,700italic,800italic,900italic' rel='stylesheet' type='text/css'>\\r\\n<link href='http://fonts.googleapis.com/css?family=Arvo:400,700,400italic' rel='stylesheet' type='text/css'>\\r\\n<link href='http://fonts.googleapis.com/css?family=PT+Mono' rel='stylesheet' type='text/css'>\\r\\n<link href='http://fonts.googleapis.com/css?family=Shadows+Into+Light' rel='stylesheet' type='text/css'>\\r\\n<link href='http://fonts.googleapis.com/css?family=Philosopher:400,700,400italic,700italic' rel='stylesheet' type='text/css'>\\r\\n\\r\\n<style>\\r\\n\\r\\n@font-face {\\r\\n    font-family: \\\"Computer Modern\\\";\\r\\n    src: url('http://mirrors.ctan.org/fonts/cm-unicode/fonts/otf/cmunss.otf');\\r\\n}\\r\\n\\r\\n\\r\\n\\r\\n/* Formatting for header cells */\\r\\n.text_cell_render h1 {\\r\\n    font-family: 'Philosopher', sans-serif;\\r\\n    font-weight: 400;\\r\\n    font-size: 2.7em;\\r\\n    line-height: 100%;\\r\\n    color: rgb(160, 20 80);\\r\\n    margin-bottom: 0.1em;\\r\\n    margin-top: 0.1em;\\r\\n    display: block;\\r\\n}\\t\\r\\n.text_cell_render h2 {\\r\\n    font-family: 'Philosopher', serif;\\r\\n    font-weight: 400;\\r\\n    font-size: 2.1em;\\r\\n    line-height: 100%;\\r\\n    color: rgb(200,100,0);\\r\\n    margin-bottom: 0.1em;\\r\\n    margin-top: 0.1em;\\r\\n    display: block;\\r\\n}\\t\\r\\n\\r\\n.text_cell_render h3 {\\r\\n    font-family: 'Philosopher', serif;\\r\\n    margin-top:12px;\\r\\n    margin-bottom: 3px;\\r\\n    font-size: 1.6em;\\r\\n    font-style: italic;\\r\\n    color: rgb(94,127,192);\\r\\n}\\r\\n\\r\\n.text_cell_render h4 {\\r\\n    font-family: 'Philosopher', serif;\\r\\n}\\r\\n\\r\\n.text_cell_render h5 {\\r\\n    font-family: 'Alegreya Sans', sans-serif;\\r\\n    font-weight: 300;\\r\\n    font-size: 16pt;\\r\\n    color: grey;\\r\\n    font-style: italic;\\r\\n    margin-bottom: .1em;\\r\\n    margin-top: 0.1em;\\r\\n    display: block;\\r\\n}\\r\\n\\r\\n.text_cell_render h6 {\\r\\n    font-family: 'PT Mono', sans-serif;\\r\\n    font-weight: 300;\\r\\n    font-size: 10pt;\\r\\n    color: grey;\\r\\n    margin-bottom: 1px;\\r\\n    margin-top: 1px;\\r\\n}\\r\\n\\r\\n.CodeMirror{\\r\\n        font-family: \\\"PT Mono\\\";\\r\\n        font-size: 100%;\\r\\n}\\r\\n\\r\\nbody, p, li {\\r\\n    font-size: 1.3em;\\r\\n  }\\r\\n</style>\\r\\n\\r\\n\")"
      ]
     },
     "execution_count": 1,
     "metadata": {},
     "output_type": "execute_result"
    }
   ],
   "source": [
    "styl = String(read(\"style.css\"))\n",
    "HTML(\"$styl\")"
   ]
  },
  {
   "cell_type": "code",
   "execution_count": 2,
   "metadata": {},
   "outputs": [],
   "source": [
    "using Printf, Statistics\n",
    "using OpenCL, PyPlot, BenchmarkTools, StatsBase"
   ]
  },
  {
   "cell_type": "markdown",
   "metadata": {},
   "source": [
    "---\n",
    "\n",
    "# OpenCL\n",
    "\n",
    "![](Images/OCL-Splash.png)\n",
    "\n",
    "---"
   ]
  },
  {
   "cell_type": "markdown",
   "metadata": {},
   "source": [
    "---\n",
    "\n",
    "## Some Array Processors I have struggled with :\n",
    "\n",
    "![](Images/array-processors.png)\n",
    "\n",
    "---"
   ]
  },
  {
   "cell_type": "markdown",
   "metadata": {},
   "source": [
    "---\n",
    "\n",
    "![](Images/OCL-Timeline.png)\n",
    "\n",
    "---"
   ]
  },
  {
   "cell_type": "markdown",
   "metadata": {},
   "source": [
    "---\n",
    "\n",
    "![](Images/OCL-Foundation.png)\n",
    "\n",
    "---"
   ]
  },
  {
   "cell_type": "markdown",
   "metadata": {},
   "source": [
    "\n",
    "## Some Benchmarks <br/>\n",
    "\n",
    "* FFT   :\tFast Fourier Transform <br/><br/><br/>\n",
    "\n",
    "* MD    : Molecular Dynanmics <br/><br/><br/>\n",
    "\n",
    "* SGEMM : α\\*[A]\\*[B] + β\\*[C] <br/><br/>\n",
    "\n",
    "![](Images/Benchmarks-C1060.png)\n",
    "\n",
    "---"
   ]
  },
  {
   "cell_type": "markdown",
   "metadata": {},
   "source": [
    "---\n",
    "\n",
    "## Features of CUDA vs OpenCL:<br/>\n",
    "\n",
    "* Toolsets <br/><br/><br/>\n",
    "\n",
    "* Libraries <br/><br/><br/>\n",
    "\n",
    "* (_Heterogeneous_) Programming <br/><br/><br/>\n",
    "\n",
    "* Performance <br/><br/><br/>\n",
    "\n",
    "* Bang-For-Buck <br/>\n",
    "\n",
    "---"
   ]
  },
  {
   "cell_type": "markdown",
   "metadata": {},
   "source": [
    "\n",
    "## CUDA has support for templates, and a wealth of libraries:<br/>\n",
    "\n",
    "* cuFFT    – Fast Fourier Transforms Library <br/><br/>\n",
    "* cuBLAS   – Complete BLAS Library <br/><br/>\n",
    "* cuSPARSE – Sparse Matrix Library <br/><br/>\n",
    "* cuRAND   – Random Number Generation (RNG) Library <br/><br/>\n",
    "* cuDNN    - Deep Neural Network library <br/><br/>\n",
    "* NPP      – Performance Primitives for Image & Video Processing <br/><br/>\n",
    "* Thrust   – Templated Parallel Algorithms & Data Structures <br/><br/>\n",
    "\n",
    "---\n"
   ]
  },
  {
   "cell_type": "code",
   "execution_count": 3,
   "metadata": {},
   "outputs": [
    {
     "data": {
      "text/plain": [
       "3-element Array{OpenCL.cl.Device,1}:\n",
       " OpenCL.Device(Intel(R) HD Graphics 620 on Intel(R) OpenCL @0x0000000023d8e250)                \n",
       " OpenCL.Device(Intel(R) Core(TM) i7-7500U CPU @ 2.70GHz on Intel(R) OpenCL @0x000000001d4521c0)\n",
       " OpenCL.Device(GeForce MX150 on NVIDIA CUDA @0x0000000023da0900)                               "
      ]
     },
     "execution_count": 3,
     "metadata": {},
     "output_type": "execute_result"
    }
   ],
   "source": [
    "# Check on the number of OCL devices\n",
    "using OpenCL\n",
    "devices = cl.devices()"
   ]
  },
  {
   "cell_type": "code",
   "execution_count": 4,
   "metadata": {},
   "outputs": [
    {
     "data": {
      "text/plain": [
       "3"
      ]
     },
     "execution_count": 4,
     "metadata": {},
     "output_type": "execute_result"
    }
   ],
   "source": [
    "const ND = length(devices)"
   ]
  },
  {
   "cell_type": "code",
   "execution_count": 3,
   "metadata": {},
   "outputs": [
    {
     "data": {
      "text/plain": [
       "\"C:\\\\Users\\\\malco\\\\.julia\\\\packages\\\\OpenCL\\\\vsBez\\\\src\\\\OpenCL.jl\""
      ]
     },
     "execution_count": 3,
     "metadata": {},
     "output_type": "execute_result"
    }
   ],
   "source": [
    "oclfile = pathof(OpenCL)"
   ]
  },
  {
   "cell_type": "code",
   "execution_count": 4,
   "metadata": {},
   "outputs": [
    {
     "name": "stdout",
     "output_type": "stream",
     "text": [
      "module OpenCL\n",
      "\n",
      "export cl\n",
      "module cl\n",
      "\n",
      "abstract type CLObject end\n",
      "\n",
      "Base.hash(x::CLObject) = hash(pointer(x))\n",
      "Base.isequal(x :: T, y :: T) where {T <: CLObject} = Base.hash(x) == Base.hash(y)\n",
      "Base.:(==)(x :: T, y :: T) where {T <: CLObject} = Base.hash(x) == Base.hash(y)\n",
      "\n",
      "# OpenCL Types\n",
      "include(\"types.jl\")\n",
      "\n"
     ]
    },
    {
     "data": {
      "text/plain": [
       "Process(`\u001b[4mhead\u001b[24m \u001b[4m-14\u001b[24m \u001b[4m'C:\\Users\\malco\\.julia\\packages\\OpenCL\\vsBez\\src\\OpenCL.jl'\u001b[24m`, ProcessExited(0))"
      ]
     },
     "execution_count": 4,
     "metadata": {},
     "output_type": "execute_result"
    }
   ],
   "source": [
    "run(`head -14 $oclfile`)"
   ]
  },
  {
   "cell_type": "code",
   "execution_count": 5,
   "metadata": {},
   "outputs": [
    {
     "name": "stdout",
     "output_type": "stream",
     "text": [
      "OpenCL.jl\n",
      "api/\n",
      "api.jl\n",
      "array.jl\n",
      "buffer.jl\n",
      "constants.jl\n",
      "context.jl\n",
      "device.jl\n",
      "error.jl\n",
      "event.jl\n",
      "kernel.jl\n",
      "kernels/\n",
      "macros.jl\n",
      "memory.jl\n",
      "platform.jl\n",
      "program.jl\n",
      "queue.jl\n",
      "types.jl\n",
      "util.jl\n"
     ]
    },
    {
     "data": {
      "text/plain": [
       "Process(`\u001b[4mls\u001b[24m \u001b[4m-F\u001b[24m \u001b[4m'C:\\Users\\malco\\.julia\\packages\\OpenCL\\vsBez\\src'\u001b[24m`, ProcessExited(0))"
      ]
     },
     "execution_count": 5,
     "metadata": {},
     "output_type": "execute_result"
    }
   ],
   "source": [
    "oclsrc  = oclfile[1:end-10]\n",
    "\n",
    "run(`ls -F $oclsrc`)"
   ]
  },
  {
   "cell_type": "markdown",
   "metadata": {},
   "source": [
    "---\n",
    "\n",
    "### Mad computation"
   ]
  },
  {
   "cell_type": "code",
   "execution_count": 7,
   "metadata": {},
   "outputs": [],
   "source": [
    "const mad2_kernel_src = \"\"\"\n",
    "__kernel void mad2(__global const float *a,\n",
    "                   __global const float *b,\n",
    "                   __global const float *c,\n",
    "                   __global float *d)\n",
    "{\n",
    "  int gid = get_global_id(0);\n",
    "  d[gid] = a[gid]*b[gid] + c[gid];\n",
    "}\n",
    "\"\"\";"
   ]
  },
  {
   "cell_type": "markdown",
   "metadata": {},
   "source": [
    "\n",
    "---\n",
    "\n",
    "![](Images/OCL-MemoryModel.png)\n",
    "\n",
    "---\n"
   ]
  },
  {
   "cell_type": "code",
   "execution_count": 8,
   "metadata": {},
   "outputs": [],
   "source": [
    "a = randn(Float32, 100_000)\n",
    "b = randn(Float32, 100_000)\n",
    "c = randn(Float32, 100_000)\n",
    ";"
   ]
  },
  {
   "cell_type": "code",
   "execution_count": 9,
   "metadata": {},
   "outputs": [
    {
     "name": "stdout",
     "output_type": "stream",
     "text": [
      "Device  : OpenCL.Device(Intel(R) HD Graphics 620 on Intel(R) OpenCL @0x0000000023d8e250)\n",
      "Context : OpenCL.Context(@0x0000000023da42e0 on Intel(R) HD Graphics 620)\n",
      "Queue   : OpenCL.CmdQueue(@0x0000000026ea07c0)"
     ]
    }
   ],
   "source": [
    "device, ctx, queue = cl.create_compute_context()\n",
    "@printf \"Device  : %s\\nContext : %s\\nQueue   : %s\" device ctx queue"
   ]
  },
  {
   "cell_type": "markdown",
   "metadata": {},
   "source": [
    "\n",
    "---\n",
    "\n",
    "![](Images/OCL-Context.png)\n",
    "\n",
    "---\n"
   ]
  },
  {
   "cell_type": "code",
   "execution_count": 10,
   "metadata": {},
   "outputs": [
    {
     "data": {
      "text/plain": [
       "OpenCL.Device(Intel(R) HD Graphics 620 on Intel(R) OpenCL @0x0000000023d8e250)"
      ]
     },
     "execution_count": 10,
     "metadata": {},
     "output_type": "execute_result"
    }
   ],
   "source": [
    "# default device returned is the first GPU\n",
    "\n",
    "first(cl.devices(:gpu))"
   ]
  },
  {
   "cell_type": "code",
   "execution_count": 11,
   "metadata": {},
   "outputs": [],
   "source": [
    "# create opencl buffer objects\n",
    "# copies to the device initiated when the kernel function is called\n",
    "\n",
    "a_buff = cl.Buffer(Float32, ctx, (:r, :copy), hostbuf=a)\n",
    "b_buff = cl.Buffer(Float32, ctx, (:r, :copy), hostbuf=b)\n",
    "c_buff = cl.Buffer(Float32, ctx, (:r, :copy), hostbuf=c)\n",
    "d_buff = cl.Buffer(Float32, ctx, :w, length(a))\n",
    ";"
   ]
  },
  {
   "cell_type": "code",
   "execution_count": 12,
   "metadata": {},
   "outputs": [
    {
     "data": {
      "text/plain": [
       "OpenCL.Program(@0x0000000026ea0700)"
      ]
     },
     "execution_count": 12,
     "metadata": {},
     "output_type": "execute_result"
    }
   ],
   "source": [
    "# build the program \n",
    "p = cl.Program(ctx, source=mad2_kernel_src) |> cl.build!"
   ]
  },
  {
   "cell_type": "code",
   "execution_count": 13,
   "metadata": {},
   "outputs": [
    {
     "data": {
      "text/plain": [
       "OpenCL.Kernel(\"mad2\" nargs=4)"
      ]
     },
     "execution_count": 13,
     "metadata": {},
     "output_type": "execute_result"
    }
   ],
   "source": [
    "# construct a kernel object\n",
    "mad2_kernel = cl.Kernel(p, \"mad2\")"
   ]
  },
  {
   "cell_type": "code",
   "execution_count": 14,
   "metadata": {},
   "outputs": [
    {
     "data": {
      "text/plain": [
       "OpenCL.Event(@0x00000000275ea510)"
      ]
     },
     "execution_count": 14,
     "metadata": {},
     "output_type": "execute_result"
    }
   ],
   "source": [
    "# call the kernel object with global size \n",
    "# set to the size our arrays\n",
    "mad2_kernel[queue, size(a)](a_buff, b_buff, c_buff, d_buff)"
   ]
  },
  {
   "cell_type": "code",
   "execution_count": 15,
   "metadata": {},
   "outputs": [],
   "source": [
    "# perform a blocking read of the result from the device\n",
    "r = cl.read(queue, d_buff);"
   ]
  },
  {
   "cell_type": "code",
   "execution_count": 16,
   "metadata": {},
   "outputs": [
    {
     "data": {
      "text/plain": [
       "4-element Array{Float64,1}:\n",
       " -0.0036519253626465797\n",
       "  1.4125667810440063   \n",
       "  0.04322536735037751  \n",
       "  1.5306015500615677   "
      ]
     },
     "execution_count": 16,
     "metadata": {},
     "output_type": "execute_result"
    }
   ],
   "source": [
    "# check to see if our result is what we expect!\n",
    "[mean(r), std(r), skewness(r), kurtosis(r)]"
   ]
  },
  {
   "cell_type": "code",
   "execution_count": 17,
   "metadata": {},
   "outputs": [
    {
     "name": "stdout",
     "output_type": "stream",
     "text": [
      "Summary Stats:\n",
      "Length:         100000\n",
      "Missing Count:  0\n",
      "Mean:           -0.003652\n",
      "Minimum:        -12.112815\n",
      "1st Quartile:   -0.871394\n",
      "Median:         -0.002928\n",
      "3rd Quartile:   0.850893\n",
      "Maximum:        10.668225\n",
      "Type:           Float32\n"
     ]
    }
   ],
   "source": [
    "describe(r)"
   ]
  },
  {
   "cell_type": "markdown",
   "metadata": {},
   "source": [
    "---"
   ]
  },
  {
   "cell_type": "code",
   "execution_count": null,
   "metadata": {},
   "outputs": [],
   "source": [
    "run(`less ./RNGkernel.cl`);"
   ]
  },
  {
   "cell_type": "markdown",
   "metadata": {},
   "source": [
    "---"
   ]
  },
  {
   "cell_type": "markdown",
   "metadata": {},
   "source": [
    "---\n",
    "\n",
    "### Mandelbrot Set"
   ]
  },
  {
   "cell_type": "markdown",
   "metadata": {},
   "source": [
    "\n",
    "![](Images/MBrot-Alg.jpg)\n"
   ]
  },
  {
   "cell_type": "code",
   "execution_count": 18,
   "metadata": {},
   "outputs": [],
   "source": [
    "mandel_source = \"\"\"\n",
    "    __kernel void mandelbrot(__global float2 *q,\n",
    "                             __global ushort *output, \n",
    "                             ushort const maxiter)\n",
    "{\n",
    "  int gid = get_global_id(0);\n",
    "  float nreal, real = 0;\n",
    "  float imag = 0;\n",
    "  output[gid] = 0;\n",
    "  for(int curiter = 0; curiter < maxiter; curiter++) {\n",
    "    nreal = real*real - imag*imag + q[gid].x;\n",
    "    imag = 2*real*imag + q[gid].y;\n",
    "    real = nreal;\n",
    "    if (real*real + imag*imag > 4.0f)\n",
    "      output[gid] = curiter;\n",
    "  }\n",
    "}\"\"\";"
   ]
  },
  {
   "cell_type": "code",
   "execution_count": 19,
   "metadata": {},
   "outputs": [
    {
     "name": "stdout",
     "output_type": "stream",
     "text": [
      "Size 512 MB\n"
     ]
    }
   ],
   "source": [
    "w = 4096 * 2;\n",
    "h = 4096 * 2;\n",
    "@printf(\"Size %i MB\\n\", sizeof(ComplexF32) * w * h / 1024 / 1024)"
   ]
  },
  {
   "cell_type": "code",
   "execution_count": 20,
   "metadata": {},
   "outputs": [],
   "source": [
    "## q = [ComplexF32(r,i) for i=1:-(2.0/w):-1, r=-1.5:(3.0/h):1.5];\n",
    "\n",
    "function build_q(w, h)\n",
    "  y1 = -1.0\n",
    "  y2 = 1.0\n",
    "  x1 = -1.5\n",
    "  x2 = 0.5\n",
    "  q = Array{ComplexF32}(undef, h, w)\n",
    "  for x in 1:w\n",
    "    for y in 1:h\n",
    "      xx = x1 + x * ((x2 - x1) / w)\n",
    "      yy = y1 + y * ((y2 - y1) / h)\n",
    "      @inbounds q[y, x] = ComplexF32(xx, yy)\n",
    "    end\n",
    "  end\n",
    "  return q\n",
    "end\n",
    "\n",
    "q = build_q(w, h);"
   ]
  },
  {
   "cell_type": "code",
   "execution_count": 21,
   "metadata": {},
   "outputs": [
    {
     "data": {
      "text/plain": [
       "mandel_opencl (generic function with 1 method)"
      ]
     },
     "execution_count": 21,
     "metadata": {},
     "output_type": "execute_result"
    }
   ],
   "source": [
    "function mandel_opencl(q::Array{ComplexF32}, maxiter::Int64, device)\n",
    "  ctx   = cl.Context(device)\n",
    "  queue = cl.CmdQueue(ctx)\n",
    "  out = Array{UInt16}(undef,size(q))\n",
    "  q_buff = cl.Buffer(ComplexF32, ctx, (:r, :copy), hostbuf=q)\n",
    "  o_buff = cl.Buffer(UInt16, ctx, :w, length(out))\n",
    "  prg = cl.Program(ctx, source=mandel_source) |> cl.build!\n",
    "  k = cl.Kernel(prg, \"mandelbrot\")\n",
    "  queue(k, length(q), nothing, q_buff, o_buff, UInt16(maxiter))\n",
    "  cl.copy!(queue, out, o_buff)\n",
    "  return out\n",
    "end"
   ]
  },
  {
   "cell_type": "code",
   "execution_count": 22,
   "metadata": {},
   "outputs": [
    {
     "data": {
      "image/png": "[encoded data removed]",
      "text/plain": [
       "Figure(PyObject <Figure size 640x480 with 1 Axes>)"
      ]
     },
     "metadata": {},
     "output_type": "display_data"
    },
    {
     "data": {
      "text/plain": [
       "PyObject <matplotlib.image.AxesImage object at 0x0000000001F8E048>"
      ]
     },
     "execution_count": 22,
     "metadata": {},
     "output_type": "execute_result"
    }
   ],
   "source": [
    "m = mandel_opencl(q, 150, device)\n",
    "imshow(m, cmap=\"RdGy\")"
   ]
  },
  {
   "cell_type": "markdown",
   "metadata": {},
   "source": [
    "---\n",
    "\n",
    "### OpenCL Arrays "
   ]
  },
  {
   "cell_type": "code",
   "execution_count": 23,
   "metadata": {},
   "outputs": [],
   "source": [
    "import OpenCL.cl.CLArray\n",
    "## device, ctx, queue = cl.create_compute_context()"
   ]
  },
  {
   "cell_type": "code",
   "execution_count": 24,
   "metadata": {},
   "outputs": [
    {
     "name": "stdout",
     "output_type": "stream",
     "text": [
      "  1.358857 seconds (3.04 M allocations: 152.820 MiB, 3.18% gc time)\n"
     ]
    },
    {
     "data": {
      "text/plain": [
       "OpenCL.Event(@0x0000000001603bf0)"
      ]
     },
     "execution_count": 24,
     "metadata": {},
     "output_type": "execute_result"
    }
   ],
   "source": [
    "using LinearAlgebra\n",
    "\n",
    "@time begin\n",
    "    A = CLArray(queue, rand(Float32, 256, 128))\n",
    "    B = cl.zeros(Float32, queue, 128, 256)\n",
    "    ev = transpose!(B, A)\n",
    "    cl.wait(ev)\n",
    "end"
   ]
  },
  {
   "cell_type": "code",
   "execution_count": 25,
   "metadata": {},
   "outputs": [
    {
     "data": {
      "text/plain": [
       "CLArray{Float32,2}(Buffer{Float32}(@0x0000000027586fb0),(256, 128))"
      ]
     },
     "execution_count": 25,
     "metadata": {},
     "output_type": "execute_result"
    }
   ],
   "source": [
    "A"
   ]
  },
  {
   "cell_type": "code",
   "execution_count": 26,
   "metadata": {},
   "outputs": [
    {
     "data": {
      "text/plain": [
       "0.7141974f0"
      ]
     },
     "execution_count": 26,
     "metadata": {},
     "output_type": "execute_result"
    }
   ],
   "source": [
    "aa = cl.to_host(A);\n",
    "aa[1,2]"
   ]
  },
  {
   "cell_type": "code",
   "execution_count": 27,
   "metadata": {},
   "outputs": [
    {
     "data": {
      "text/plain": [
       "0.7141974f0"
      ]
     },
     "execution_count": 27,
     "metadata": {},
     "output_type": "execute_result"
    }
   ],
   "source": [
    "bb = cl.to_host(B);\n",
    "bb[2,1]"
   ]
  },
  {
   "cell_type": "code",
   "execution_count": 28,
   "metadata": {},
   "outputs": [
    {
     "data": {
      "text/plain": [
       "true"
      ]
     },
     "execution_count": 28,
     "metadata": {},
     "output_type": "execute_result"
    }
   ],
   "source": [
    "aa' == bb"
   ]
  },
  {
   "cell_type": "markdown",
   "metadata": {},
   "source": [
    "---\n",
    "\n",
    "### Quadrature for PI"
   ]
  },
  {
   "cell_type": "markdown",
   "metadata": {},
   "source": [
    "\n",
    "$$ \\int_0^1 \\frac{1}{(1 + {x}^2)} = atan(1) = \\frac{\\pi}{4} $$\n"
   ]
  },
  {
   "cell_type": "code",
   "execution_count": 29,
   "metadata": {},
   "outputs": [
    {
     "data": {
      "text/plain": [
       "262144"
      ]
     },
     "execution_count": 29,
     "metadata": {},
     "output_type": "execute_result"
    }
   ],
   "source": [
    "const INSTEPS = 512*512*512\n",
    "const ITERS = 262144\n",
    "\n",
    "in_nsteps = INSTEPS\n",
    "niters    = ITERS"
   ]
  },
  {
   "cell_type": "code",
   "execution_count": 30,
   "metadata": {},
   "outputs": [],
   "source": [
    "kernel = \"\"\"\n",
    "//------------------------------------------------------------------------------\n",
    "//\n",
    "// kernel:  pi\n",
    "//\n",
    "// Purpose: accumulate partial sums of pi comp\n",
    "//\n",
    "// input:  float step_size\n",
    "//         int   niters per work item\n",
    "//         local float* an array to hold sums from each work item\n",
    "//\n",
    "// output: partial_sums -- float vector of partial sums\n",
    "//\n",
    "\n",
    "void reduce(\n",
    "   __local  float*,\n",
    "   __global float*);\n",
    "\n",
    "__kernel void pi(\n",
    "   const int          niters,\n",
    "   const float        step_size,\n",
    "   __local  float*    local_sums,\n",
    "   __global float*    partial_sums)\n",
    "{\n",
    "   int num_wrk_items  = get_local_size(0);\n",
    "   int local_id       = get_local_id(0);\n",
    "   int group_id       = get_group_id(0);\n",
    "\n",
    "   float x, accum = 0.0f;\n",
    "   int i,istart,iend;\n",
    "\n",
    "   istart = (group_id * num_wrk_items + local_id) * niters;\n",
    "   iend   = istart+niters;\n",
    "\n",
    "   for(i= istart; i<iend; i++){\n",
    "       x = (i+0.5f)*step_size;\n",
    "       accum += 4.0f/(1.0f+x*x);\n",
    "   }\n",
    "\n",
    "   local_sums[local_id] = accum;\n",
    "   barrier(CLK_LOCAL_MEM_FENCE);\n",
    "   reduce(local_sums, partial_sums);\n",
    "}\n",
    "\n",
    "//------------------------------------------------------------------------------\n",
    "//\n",
    "// OpenCL function:  reduction\n",
    "//\n",
    "// Purpose: reduce across all the work-items in a work-group\n",
    "//\n",
    "// input : local  float*  an array to hold sums from each work item\n",
    "// output: global float*  partial_sums  [float vector]\n",
    "//\n",
    "\n",
    "void reduce(\n",
    "   __local  float*    local_sums,\n",
    "   __global float*    partial_sums)\n",
    "{\n",
    "   int num_wrk_items  = get_local_size(0);\n",
    "   int local_id       = get_local_id(0);\n",
    "   int group_id       = get_group_id(0);\n",
    "\n",
    "   float sum;\n",
    "   int i;\n",
    "\n",
    "   if (local_id == 0) {\n",
    "      sum = 0.0f;\n",
    "      for (i=0; i<num_wrk_items; i++) {\n",
    "          sum += local_sums[i];\n",
    "      }\n",
    "      partial_sums[group_id] = sum;\n",
    "   }\n",
    "}\n",
    "\"\"\";"
   ]
  },
  {
   "cell_type": "code",
   "execution_count": 31,
   "metadata": {},
   "outputs": [
    {
     "data": {
      "text/plain": [
       "OpenCL.Kernel(\"pi\" nargs=4)"
      ]
     },
     "execution_count": 31,
     "metadata": {},
     "output_type": "execute_result"
    }
   ],
   "source": [
    "pi_prog = cl.Program(ctx, source = kernel) |> cl.build!\n",
    "pi_kernel = cl.Kernel(pi_prog, \"pi\")"
   ]
  },
  {
   "cell_type": "code",
   "execution_count": 32,
   "metadata": {},
   "outputs": [
    {
     "name": "stdout",
     "output_type": "stream",
     "text": [
      "2 workgroup(s) of size 256.\n",
      "134217728 integration steps\n"
     ]
    }
   ],
   "source": [
    "work_group_size = device[:max_work_group_size]\n",
    "nwork_groups = in_nsteps ÷ (work_group_size * niters)\n",
    "\n",
    "if nwork_groups < 1\n",
    "    nwork_groups = device[:max_compute_units]\n",
    "    work_group_size = in_nsteps ÷ (nwork_groups * niters)\n",
    "end\n",
    "\n",
    "nsteps = work_group_size * niters * nwork_groups\n",
    "step_size = 1.0 / nsteps\n",
    "\n",
    "h_psum = Vector{Float32}(undef,nwork_groups)\n",
    "\n",
    "println(\"$nwork_groups workgroup(s) of size $work_group_size.\")\n",
    "println(\"$nsteps integration steps\")"
   ]
  },
  {
   "cell_type": "code",
   "execution_count": 33,
   "metadata": {},
   "outputs": [
    {
     "name": "stdout",
     "output_type": "stream",
     "text": [
      "The computation took 0.263 secs\n",
      "pi = 3.141887 for 134217728 steps\n"
     ]
    }
   ],
   "source": [
    "d_partial_sums = cl.Buffer(Float32, ctx, :w, length(h_psum))\n",
    "\n",
    "rtime = time()\n",
    "global_size = (nwork_groups * work_group_size,)\n",
    "local_size  = (work_group_size,)\n",
    "localmem    = cl.LocalMem(Float32, work_group_size)\n",
    "\n",
    "queue(pi_kernel, global_size, local_size, Int32(niters), Float32(step_size), localmem, d_partial_sums)\n",
    "cl.copy!(queue, h_psum, d_partial_sums)\n",
    "\n",
    "pi_res = round(sum(h_psum)*step_size, digits=6)\n",
    "rtime = round(time() - rtime, digits=4)\n",
    "\n",
    "println(\"The computation took $rtime secs\")\n",
    "println(\"pi = $pi_res for $nsteps steps\")"
   ]
  },
  {
   "cell_type": "markdown",
   "metadata": {},
   "source": [
    "---\n",
    "\n",
    "### GEMM _(using CLBlas)_\n",
    "\n",
    "![](Images/gemm.jpg)\n",
    "\n",
    "---"
   ]
  },
  {
   "cell_type": "code",
   "execution_count": 34,
   "metadata": {},
   "outputs": [
    {
     "data": {
      "text/plain": [
       "LinearAlgebra"
      ]
     },
     "execution_count": 34,
     "metadata": {},
     "output_type": "execute_result"
    }
   ],
   "source": [
    "using OpenCL, CLBlast, LinearAlgebra\n",
    "const LA = LinearAlgebra"
   ]
  },
  {
   "cell_type": "code",
   "execution_count": 35,
   "metadata": {},
   "outputs": [],
   "source": [
    "# setup data\n",
    "α = 1.f0\n",
    "β = 1.f0\n",
    "A = rand(Float32, 10, 8)\n",
    "B = rand(Float32, 8, 6)\n",
    "C = zeros(Float32, 10, 6);"
   ]
  },
  {
   "cell_type": "code",
   "execution_count": 36,
   "metadata": {},
   "outputs": [],
   "source": [
    "# transfer data\n",
    "A_cl = cl.CLArray(queue, A)\n",
    "B_cl = cl.CLArray(queue, B)\n",
    "C_cl = cl.CLArray(queue, C);"
   ]
  },
  {
   "cell_type": "code",
   "execution_count": 37,
   "metadata": {},
   "outputs": [
    {
     "data": {
      "text/plain": [
       "10×6 Array{Float32,2}:\n",
       " 1.88328  1.96899  2.42393  1.8941   2.04754  2.26641\n",
       " 2.42044  2.62085  2.12947  3.42559  3.11455  2.78798\n",
       " 2.68105  2.97756  2.99134  3.30782  3.29237  3.2018 \n",
       " 2.16455  2.71301  2.31006  2.92303  3.05688  2.26567\n",
       " 1.61822  1.9682   1.72626  2.08339  2.32394  1.975  \n",
       " 2.45535  2.55055  2.23538  2.36037  2.69352  2.44526\n",
       " 2.08302  2.01242  1.87466  2.39313  2.64337  2.39672\n",
       " 2.09283  2.33489  2.0446   3.01436  2.21614  2.49407\n",
       " 2.03062  2.45888  2.44744  2.76596  2.58339  2.50613\n",
       " 2.29338  2.15419  1.72304  3.02513  2.468    2.35438"
      ]
     },
     "execution_count": 37,
     "metadata": {},
     "output_type": "execute_result"
    }
   ],
   "source": [
    "# Compute using the CPU\n",
    "LA.BLAS.gemm!('N', 'N', α, A, B, β, C)"
   ]
  },
  {
   "cell_type": "code",
   "execution_count": 38,
   "metadata": {},
   "outputs": [
    {
     "data": {
      "text/plain": [
       "10×6 Array{Float32,2}:\n",
       " 1.88328  1.96899  2.42393  1.8941   2.04754  2.26641\n",
       " 2.42044  2.62085  2.12947  3.42559  3.11455  2.78798\n",
       " 2.68105  2.97756  2.99134  3.30782  3.29237  3.2018 \n",
       " 2.16455  2.71301  2.31006  2.92303  3.05688  2.26567\n",
       " 1.61822  1.9682   1.72626  2.08339  2.32394  1.975  \n",
       " 2.45535  2.55055  2.23538  2.36037  2.69352  2.44526\n",
       " 2.08302  2.01242  1.87466  2.39313  2.64337  2.39672\n",
       " 2.09283  2.33489  2.0446   3.01436  2.21614  2.49407\n",
       " 2.03062  2.45888  2.44744  2.76596  2.58339  2.50613\n",
       " 2.29338  2.15419  1.72304  3.02513  2.468    2.35438"
      ]
     },
     "execution_count": 38,
     "metadata": {},
     "output_type": "execute_result"
    }
   ],
   "source": [
    "# Compute using the GPU\n",
    "CLBlast.gemm!('N', 'N', α, A_cl, B_cl, β, C_cl)\n",
    "\n",
    "# Result is returned in C_cl\n",
    "D = cl.to_host(C_cl)"
   ]
  },
  {
   "cell_type": "code",
   "execution_count": 39,
   "metadata": {},
   "outputs": [
    {
     "data": {
      "text/plain": [
       "true"
      ]
     },
     "execution_count": 39,
     "metadata": {},
     "output_type": "execute_result"
    }
   ],
   "source": [
    "C == D"
   ]
  },
  {
   "cell_type": "markdown",
   "metadata": {},
   "source": [
    "---\n",
    "\n",
    "### Compare GPU devices"
   ]
  },
  {
   "cell_type": "code",
   "execution_count": 40,
   "metadata": {},
   "outputs": [
    {
     "data": {
      "text/plain": [
       "3-element Array{OpenCL.cl.Context,1}:\n",
       " OpenCL.Context(@0x00000000275f4a90 on Intel(R) HD Graphics 620)                \n",
       " OpenCL.Context(@0x000000002733b450 on Intel(R) Core(TM) i7-7500U CPU @ 2.70GHz)\n",
       " OpenCL.Context(@0x0000000000fcc4f0 on GeForce MX150)                           "
      ]
     },
     "execution_count": 40,
     "metadata": {},
     "output_type": "execute_result"
    }
   ],
   "source": [
    "ctxs = [cl.Context(devices[i]) for i = 1:ND]"
   ]
  },
  {
   "cell_type": "code",
   "execution_count": 41,
   "metadata": {},
   "outputs": [],
   "source": [
    "const mad3_kernel = \"\n",
    "__kernel void mad3(\n",
    "                    __global const float *a,\n",
    "                    __global const float *b,\n",
    "                    __global const float *x,\n",
    "                    __global const float *y,\n",
    "                    __global const float *z,\n",
    "                    __global float *s)\n",
    "    {\n",
    "      int gid = get_global_id(0);\n",
    "      s[gid] = a[gid]*x[gid]*x[gid] + b[gid]*y[gid] + z[gid];\n",
    "    }\n",
    "\";"
   ]
  },
  {
   "cell_type": "code",
   "execution_count": 42,
   "metadata": {},
   "outputs": [
    {
     "name": "stdout",
     "output_type": "stream",
     "text": [
      "    Size   Intel HD620   NVidia MX150\n",
      "    1000     0.00097       0.00092\n",
      "    3000     0.00094       0.00102\n",
      "   10000     0.00086       0.00098\n",
      "   30000     0.00089       0.00123\n",
      "  100000     0.00132       0.00254\n",
      "  300000     0.00171       0.00617\n",
      " 1000000     0.00333       0.01523\n",
      " 3000000     0.00774       0.04149\n",
      "10000000     0.02136       0.12540\n"
     ]
    }
   ],
   "source": [
    "queues = [cl.CmdQueue(ctxs[i]) for i = 1:ND]\n",
    "progs  = [cl.Program(ctxs[i], source=mad3_kernel) |> cl.build! for i = 1:ND]\n",
    "\n",
    "ets = zeros(ND)\n",
    "kerns  = [cl.Kernel(progs[i], \"mad3\") for i = 1:ND]\n",
    "\n",
    "for n in (1, 10^3, 3*10^3, 10^4, 3*10^4, 10^5, 3*10^5, 10^6, 3*10^6, 10^7)\n",
    "  \n",
    "  a = rand(Float32, n);\n",
    "  b = rand(Float32, n);\n",
    "  x = rand(Float32, n);\n",
    "  y = rand(Float32, n);\n",
    "  z = rand(Float32, n);\n",
    "  ## s = Array{Float32}(undef, n);\n",
    "\n",
    "  for i = 1:ND\n",
    "        \n",
    "    a_buff = cl.Buffer(Float32, ctxs[i], (:r, :copy), hostbuf=a);\n",
    "    b_buff = cl.Buffer(Float32, ctxs[i], (:r, :copy), hostbuf=b);\n",
    "    x_buff = cl.Buffer(Float32, ctxs[i], (:r, :copy), hostbuf=x);\n",
    "    y_buff = cl.Buffer(Float32, ctxs[i], (:r, :copy), hostbuf=y);\n",
    "    z_buff = cl.Buffer(Float32, ctxs[i], (:r, :copy), hostbuf=z);\n",
    "    s_buff = cl.Buffer(Float32, ctxs[i], :w, n)\n",
    "\n",
    "    ets[i] = @elapsed begin\n",
    "      kerns[i][queues[i], size(x)](a_buff, b_buff, x_buff, y_buff, z_buff, s_buff);\n",
    "    end\n",
    "  end\n",
    "        \n",
    "  if n == 1\n",
    "    @printf \"    Size   Intel HD620   NVidia MX150\\n\"\n",
    "  else\n",
    "    @printf \"%8d   %9.5f     %9.5f\\n\" n ets[1] ets[3]\n",
    "  end\n",
    "end\n"
   ]
  },
  {
   "cell_type": "markdown",
   "metadata": {},
   "source": [
    "---\n",
    "\n",
    "### Mandelbrot _(revisited)_ "
   ]
  },
  {
   "cell_type": "code",
   "execution_count": 43,
   "metadata": {},
   "outputs": [],
   "source": [
    "using BenchmarkTools"
   ]
  },
  {
   "cell_type": "code",
   "execution_count": 44,
   "metadata": {},
   "outputs": [
    {
     "data": {
      "text/plain": [
       "BenchmarkTools.Trial: \n",
       "  memory estimate:  128.01 MiB\n",
       "  allocs estimate:  159\n",
       "  --------------\n",
       "  minimum time:     1.041 s (0.06% GC)\n",
       "  median time:      1.203 s (1.16% GC)\n",
       "  mean time:        1.180 s (1.96% GC)\n",
       "  maximum time:     1.256 s (6.50% GC)\n",
       "  --------------\n",
       "  samples:          5\n",
       "  evals/sample:     1"
      ]
     },
     "execution_count": 44,
     "metadata": {},
     "output_type": "execute_result"
    }
   ],
   "source": [
    "device = devices[1]\n",
    "@benchmark mandel_opencl(q, 150, device) samples=5"
   ]
  },
  {
   "cell_type": "code",
   "execution_count": 45,
   "metadata": {},
   "outputs": [
    {
     "data": {
      "text/plain": [
       "BenchmarkTools.Trial: \n",
       "  memory estimate:  128.01 MiB\n",
       "  allocs estimate:  159\n",
       "  --------------\n",
       "  minimum time:     2.095 s (0.02% GC)\n",
       "  median time:      2.358 s (0.03% GC)\n",
       "  mean time:        2.334 s (0.21% GC)\n",
       "  maximum time:     2.550 s (0.54% GC)\n",
       "  --------------\n",
       "  samples:          3\n",
       "  evals/sample:     1"
      ]
     },
     "execution_count": 45,
     "metadata": {},
     "output_type": "execute_result"
    }
   ],
   "source": [
    "device = devices[2]\n",
    "@benchmark mandel_opencl(q, 150, device) samples=5"
   ]
  },
  {
   "cell_type": "code",
   "execution_count": 46,
   "metadata": {},
   "outputs": [
    {
     "data": {
      "text/plain": [
       "BenchmarkTools.Trial: \n",
       "  memory estimate:  128.01 MiB\n",
       "  allocs estimate:  159\n",
       "  --------------\n",
       "  minimum time:     1.104 s (0.04% GC)\n",
       "  median time:      1.160 s (0.93% GC)\n",
       "  mean time:        1.153 s (2.01% GC)\n",
       "  maximum time:     1.203 s (7.33% GC)\n",
       "  --------------\n",
       "  samples:          5\n",
       "  evals/sample:     1"
      ]
     },
     "execution_count": 46,
     "metadata": {},
     "output_type": "execute_result"
    }
   ],
   "source": [
    "device = devices[3]\n",
    "@benchmark mandel_opencl(q, 150, device) samples=5"
   ]
  },
  {
   "cell_type": "markdown",
   "metadata": {},
   "source": [
    "---"
   ]
  },
  {
   "cell_type": "markdown",
   "metadata": {},
   "source": [
    "---\n",
    "\n",
    "![](Images/Khronos-promoters.jpg)\n",
    "\n",
    "---"
   ]
  },
  {
   "cell_type": "markdown",
   "metadata": {},
   "source": [
    "---\n",
    "\n",
    "![](Images/khronos-timeline.png)\n",
    "\n",
    "---"
   ]
  },
  {
   "cell_type": "markdown",
   "metadata": {},
   "source": [
    "---\n",
    "\n",
    "![](Images/AQs.jpg)\n",
    "![](Images/underwhelmed.png)\n",
    "\n",
    "---"
   ]
  },
  {
   "cell_type": "code",
   "execution_count": null,
   "metadata": {},
   "outputs": [],
   "source": []
  }
 ],
 "metadata": {
  "kernelspec": {
   "display_name": "Julia 1.0.3",
   "language": "julia",
   "name": "julia-1.0"
  },
  "language_info": {
   "file_extension": ".jl",
   "mimetype": "application/julia",
   "name": "julia",
   "version": "1.0.3"
  }
 },
 "nbformat": 4,
 "nbformat_minor": 2
}
