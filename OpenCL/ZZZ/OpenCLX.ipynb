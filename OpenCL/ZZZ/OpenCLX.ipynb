{
 "cells": [
  {
   "cell_type": "code",
   "execution_count": 1,
   "metadata": {},
   "outputs": [
    {
     "data": {
      "text/html": [
       "<link href='http://fonts.googleapis.com/css?family=Alegreya+Sans:100,300,400,500,700,800,900,100italic,300italic,400italic,500italic,700italic,800italic,900italic' rel='stylesheet' type='text/css'>\r\n",
       "<link href='http://fonts.googleapis.com/css?family=Arvo:400,700,400italic' rel='stylesheet' type='text/css'>\r\n",
       "<link href='http://fonts.googleapis.com/css?family=PT+Mono' rel='stylesheet' type='text/css'>\r\n",
       "<link href='http://fonts.googleapis.com/css?family=Shadows+Into+Light' rel='stylesheet' type='text/css'>\r\n",
       "<link href='http://fonts.googleapis.com/css?family=Philosopher:400,700,400italic,700italic' rel='stylesheet' type='text/css'>\r\n",
       "\r\n",
       "<style>\r\n",
       "\r\n",
       "@font-face {\r\n",
       "    font-family: \"Computer Modern\";\r\n",
       "    src: url('http://mirrors.ctan.org/fonts/cm-unicode/fonts/otf/cmunss.otf');\r\n",
       "}\r\n",
       "\r\n",
       "\r\n",
       "\r\n",
       "/* Formatting for header cells */\r\n",
       ".text_cell_render h1 {\r\n",
       "    font-family: 'Philosopher', sans-serif;\r\n",
       "    font-weight: 400;\r\n",
       "    font-size: 2.7em;\r\n",
       "    line-height: 100%;\r\n",
       "    color: rgb(160, 20 80);\r\n",
       "    margin-bottom: 0.1em;\r\n",
       "    margin-top: 0.1em;\r\n",
       "    display: block;\r\n",
       "}\t\r\n",
       ".text_cell_render h2 {\r\n",
       "    font-family: 'Philosopher', serif;\r\n",
       "    font-weight: 400;\r\n",
       "    font-size: 2.1em;\r\n",
       "    line-height: 100%;\r\n",
       "    color: rgb(200,100,0);\r\n",
       "    margin-bottom: 0.1em;\r\n",
       "    margin-top: 0.1em;\r\n",
       "    display: block;\r\n",
       "}\t\r\n",
       "\r\n",
       ".text_cell_render h3 {\r\n",
       "    font-family: 'Philosopher', serif;\r\n",
       "    margin-top:12px;\r\n",
       "    margin-bottom: 3px;\r\n",
       "    font-size: 1.6em;\r\n",
       "    font-style: italic;\r\n",
       "    color: rgb(94,127,192);\r\n",
       "}\r\n",
       "\r\n",
       ".text_cell_render h4 {\r\n",
       "    font-family: 'Philosopher', serif;\r\n",
       "}\r\n",
       "\r\n",
       ".text_cell_render h5 {\r\n",
       "    font-family: 'Alegreya Sans', sans-serif;\r\n",
       "    font-weight: 300;\r\n",
       "    font-size: 16pt;\r\n",
       "    color: grey;\r\n",
       "    font-style: italic;\r\n",
       "    margin-bottom: .1em;\r\n",
       "    margin-top: 0.1em;\r\n",
       "    display: block;\r\n",
       "}\r\n",
       "\r\n",
       ".text_cell_render h6 {\r\n",
       "    font-family: 'PT Mono', sans-serif;\r\n",
       "    font-weight: 300;\r\n",
       "    font-size: 10pt;\r\n",
       "    color: grey;\r\n",
       "    margin-bottom: 1px;\r\n",
       "    margin-top: 1px;\r\n",
       "}\r\n",
       "\r\n",
       ".CodeMirror{\r\n",
       "        font-family: \"PT Mono\";\r\n",
       "        font-size: 100%;\r\n",
       "}\r\n",
       "\r\n",
       "body, p, li {\r\n",
       "    font-size: 1.3em;\r\n",
       "  }\r\n",
       "</style>\r\n",
       "\r\n"
      ],
      "text/plain": [
       "HTML{String}(\"<link href='http://fonts.googleapis.com/css?family=Alegreya+Sans:100,300,400,500,700,800,900,100italic,300italic,400italic,500italic,700italic,800italic,900italic' rel='stylesheet' type='text/css'>\\r\\n<link href='http://fonts.googleapis.com/css?family=Arvo:400,700,400italic' rel='stylesheet' type='text/css'>\\r\\n<link href='http://fonts.googleapis.com/css?family=PT+Mono' rel='stylesheet' type='text/css'>\\r\\n<link href='http://fonts.googleapis.com/css?family=Shadows+Into+Light' rel='stylesheet' type='text/css'>\\r\\n<link href='http://fonts.googleapis.com/css?family=Philosopher:400,700,400italic,700italic' rel='stylesheet' type='text/css'>\\r\\n\\r\\n<style>\\r\\n\\r\\n@font-face {\\r\\n    font-family: \\\"Computer Modern\\\";\\r\\n    src: url('http://mirrors.ctan.org/fonts/cm-unicode/fonts/otf/cmunss.otf');\\r\\n}\\r\\n\\r\\n\\r\\n\\r\\n/* Formatting for header cells */\\r\\n.text_cell_render h1 {\\r\\n    font-family: 'Philosopher', sans-serif;\\r\\n    font-weight: 400;\\r\\n    font-size: 2.7em;\\r\\n    line-height: 100%;\\r\\n    color: rgb(160, 20 80);\\r\\n    margin-bottom: 0.1em;\\r\\n    margin-top: 0.1em;\\r\\n    display: block;\\r\\n}\\t\\r\\n.text_cell_render h2 {\\r\\n    font-family: 'Philosopher', serif;\\r\\n    font-weight: 400;\\r\\n    font-size: 2.1em;\\r\\n    line-height: 100%;\\r\\n    color: rgb(200,100,0);\\r\\n    margin-bottom: 0.1em;\\r\\n    margin-top: 0.1em;\\r\\n    display: block;\\r\\n}\\t\\r\\n\\r\\n.text_cell_render h3 {\\r\\n    font-family: 'Philosopher', serif;\\r\\n    margin-top:12px;\\r\\n    margin-bottom: 3px;\\r\\n    font-size: 1.6em;\\r\\n    font-style: italic;\\r\\n    color: rgb(94,127,192);\\r\\n}\\r\\n\\r\\n.text_cell_render h4 {\\r\\n    font-family: 'Philosopher', serif;\\r\\n}\\r\\n\\r\\n.text_cell_render h5 {\\r\\n    font-family: 'Alegreya Sans', sans-serif;\\r\\n    font-weight: 300;\\r\\n    font-size: 16pt;\\r\\n    color: grey;\\r\\n    font-style: italic;\\r\\n    margin-bottom: .1em;\\r\\n    margin-top: 0.1em;\\r\\n    display: block;\\r\\n}\\r\\n\\r\\n.text_cell_render h6 {\\r\\n    font-family: 'PT Mono', sans-serif;\\r\\n    font-weight: 300;\\r\\n    font-size: 10pt;\\r\\n    color: grey;\\r\\n    margin-bottom: 1px;\\r\\n    margin-top: 1px;\\r\\n}\\r\\n\\r\\n.CodeMirror{\\r\\n        font-family: \\\"PT Mono\\\";\\r\\n        font-size: 100%;\\r\\n}\\r\\n\\r\\nbody, p, li {\\r\\n    font-size: 1.3em;\\r\\n  }\\r\\n</style>\\r\\n\\r\\n\")"
      ]
     },
     "execution_count": 1,
     "metadata": {},
     "output_type": "execute_result"
    }
   ],
   "source": [
    "styl = String(read(\"style.css\"))\n",
    "HTML(\"$styl\")"
   ]
  },
  {
   "cell_type": "code",
   "execution_count": 2,
   "metadata": {},
   "outputs": [],
   "source": [
    "using Printf, Statistics\n",
    "using OpenCL, PyPlot, BenchmarkTools, StatsBase"
   ]
  },
  {
   "cell_type": "markdown",
   "metadata": {},
   "source": [
    "---\n",
    "\n",
    "# OpenCL\n",
    "\n",
    "![](Images/OCL-Splash.png)\n",
    "\n",
    "---"
   ]
  },
  {
   "cell_type": "markdown",
   "metadata": {},
   "source": [
    "---\n",
    "\n",
    "## Some Array Processors I have struggled with :\n",
    "\n",
    "![](Images/array-processors.png)\n",
    "\n",
    "---"
   ]
  },
  {
   "cell_type": "markdown",
   "metadata": {},
   "source": [
    "---\n",
    "\n",
    "![](Images/OCL-Timeline.png)\n",
    "\n",
    "---"
   ]
  },
  {
   "cell_type": "markdown",
   "metadata": {},
   "source": [
    "---\n",
    "\n",
    "![](Images/OCL-Foundation.png)\n",
    "\n",
    "---"
   ]
  },
  {
   "cell_type": "markdown",
   "metadata": {},
   "source": [
    "\n",
    "## Some Benchmarks <br/>\n",
    "\n",
    "* FFT   :\tFast Fourier Transform <br/><br/><br/>\n",
    "\n",
    "* MD    : Molecular Dynanmics <br/><br/><br/>\n",
    "\n",
    "* SGEMM : α\\*[A]\\*[B] + β\\*[C] <br/><br/>\n",
    "\n",
    "![](Images/Benchmarks-C1060.png)\n",
    "\n",
    "---"
   ]
  },
  {
   "cell_type": "markdown",
   "metadata": {},
   "source": [
    "---\n",
    "\n",
    "## Features of CUDA vs OpenCL:<br/>\n",
    "\n",
    "* Toolsets <br/><br/><br/>\n",
    "\n",
    "* Libraries <br/><br/><br/>\n",
    "\n",
    "* (_Heterogeneous_) Programming <br/><br/><br/>\n",
    "\n",
    "* Performance <br/><br/><br/>\n",
    "\n",
    "* Bang-For-Buck <br/>\n",
    "\n",
    "---"
   ]
  },
  {
   "cell_type": "markdown",
   "metadata": {},
   "source": [
    "\n",
    "## CUDA has support for templates, and a wealth of libraries:<br/>\n",
    "\n",
    "* cuFFT    – Fast Fourier Transforms Library <br/><br/>\n",
    "* cuBLAS   – Complete BLAS Library <br/><br/>\n",
    "* cuSPARSE – Sparse Matrix Library <br/><br/>\n",
    "* cuRAND   – Random Number Generation (RNG) Library <br/><br/>\n",
    "* cuDNN    - Deep Neural Network library <br/><br/>\n",
    "* NPP      – Performance Primitives for Image & Video Processing <br/><br/>\n",
    "* Thrust   – Templated Parallel Algorithms & Data Structures <br/><br/>\n",
    "\n",
    "---\n"
   ]
  },
  {
   "cell_type": "code",
   "execution_count": null,
   "metadata": {},
   "outputs": [],
   "source": [
    "# Check on the number of OCL devices\n",
    "devices = cl.devices()"
   ]
  },
  {
   "cell_type": "code",
   "execution_count": null,
   "metadata": {},
   "outputs": [],
   "source": [
    "const ND = length(devices)"
   ]
  },
  {
   "cell_type": "code",
   "execution_count": null,
   "metadata": {},
   "outputs": [],
   "source": [
    "oclfile = pathof(OpenCL)"
   ]
  },
  {
   "cell_type": "code",
   "execution_count": null,
   "metadata": {},
   "outputs": [],
   "source": [
    "run(`head -14 $oclfile`)"
   ]
  },
  {
   "cell_type": "code",
   "execution_count": null,
   "metadata": {},
   "outputs": [],
   "source": [
    "oclsrc  = oclfile[1:end-10]\n",
    "\n",
    "run(`ls -F $oclsrc`)"
   ]
  },
  {
   "cell_type": "markdown",
   "metadata": {},
   "source": [
    "---\n",
    "\n",
    "### Mad computation"
   ]
  },
  {
   "cell_type": "code",
   "execution_count": null,
   "metadata": {},
   "outputs": [],
   "source": [
    "const mad2_kernel_src = \"\"\"\n",
    "__kernel void mad2(__global const float *a,\n",
    "                   __global const float *b,\n",
    "                   __global const float *c,\n",
    "                   __global float *d)\n",
    "{\n",
    "  int gid = get_global_id(0);\n",
    "  d[gid] = a[gid]*b[gid] + c[gid];\n",
    "}\n",
    "\"\"\";"
   ]
  },
  {
   "cell_type": "markdown",
   "metadata": {},
   "source": [
    "\n",
    "---\n",
    "\n",
    "![](Images/OCL-MemoryModel.png)\n",
    "\n",
    "---\n"
   ]
  },
  {
   "cell_type": "code",
   "execution_count": null,
   "metadata": {},
   "outputs": [],
   "source": [
    "a = randn(Float32, 100_000)\n",
    "b = randn(Float32, 100_000)\n",
    "c = randn(Float32, 100_000)\n",
    ";"
   ]
  },
  {
   "cell_type": "code",
   "execution_count": null,
   "metadata": {},
   "outputs": [],
   "source": [
    "device, ctx, queue = cl.create_compute_context()\n",
    "@printf \"Device  : %s\\nContext : %s\\nQueue   : %s\" device ctx queue"
   ]
  },
  {
   "cell_type": "markdown",
   "metadata": {},
   "source": [
    "\n",
    "---\n",
    "\n",
    "![](Images/OCL-Context.png)\n",
    "\n",
    "---\n"
   ]
  },
  {
   "cell_type": "code",
   "execution_count": null,
   "metadata": {},
   "outputs": [],
   "source": [
    "# default device returned is the first GPU\n",
    "\n",
    "first(cl.devices(:gpu))"
   ]
  },
  {
   "cell_type": "code",
   "execution_count": null,
   "metadata": {},
   "outputs": [],
   "source": [
    "# create opencl buffer objects\n",
    "# copies to the device initiated when the kernel function is called\n",
    "\n",
    "a_buff = cl.Buffer(Float32, ctx, (:r, :copy), hostbuf=a)\n",
    "b_buff = cl.Buffer(Float32, ctx, (:r, :copy), hostbuf=b)\n",
    "c_buff = cl.Buffer(Float32, ctx, (:r, :copy), hostbuf=c)\n",
    "d_buff = cl.Buffer(Float32, ctx, :w, length(a))\n",
    ";"
   ]
  },
  {
   "cell_type": "code",
   "execution_count": null,
   "metadata": {},
   "outputs": [],
   "source": [
    "# build the program \n",
    "p = cl.Program(ctx, source=mad2_kernel_src) |> cl.build!"
   ]
  },
  {
   "cell_type": "code",
   "execution_count": null,
   "metadata": {},
   "outputs": [],
   "source": [
    "# construct a kernel object\n",
    "mad2_kernel = cl.Kernel(p, \"mad2\")"
   ]
  },
  {
   "cell_type": "code",
   "execution_count": null,
   "metadata": {},
   "outputs": [],
   "source": [
    "# call the kernel object with global size \n",
    "# set to the size our arrays\n",
    "mad2_kernel[queue, size(a)](a_buff, b_buff, c_buff, d_buff)"
   ]
  },
  {
   "cell_type": "code",
   "execution_count": null,
   "metadata": {},
   "outputs": [],
   "source": [
    "# perform a blocking read of the result from the device\n",
    "r = cl.read(queue, d_buff);"
   ]
  },
  {
   "cell_type": "code",
   "execution_count": null,
   "metadata": {},
   "outputs": [],
   "source": [
    "# check to see if our result is what we expect!\n",
    "[mean(r), std(r), skewness(r), kurtosis(r)]"
   ]
  },
  {
   "cell_type": "code",
   "execution_count": null,
   "metadata": {},
   "outputs": [],
   "source": [
    "describe(r)"
   ]
  },
  {
   "cell_type": "markdown",
   "metadata": {},
   "source": [
    "---"
   ]
  },
  {
   "cell_type": "code",
   "execution_count": null,
   "metadata": {},
   "outputs": [],
   "source": [
    "run(`less ./RNGkernel.cl`);"
   ]
  },
  {
   "cell_type": "markdown",
   "metadata": {},
   "source": [
    "---"
   ]
  },
  {
   "cell_type": "markdown",
   "metadata": {},
   "source": [
    "---\n",
    "\n",
    "### Mandelbrot Set"
   ]
  },
  {
   "cell_type": "markdown",
   "metadata": {},
   "source": [
    "\n",
    "![](Images/MBrot-Alg.jpg)\n"
   ]
  },
  {
   "cell_type": "code",
   "execution_count": null,
   "metadata": {},
   "outputs": [],
   "source": [
    "mandel_source = \"\"\"\n",
    "    __kernel void mandelbrot(__global float2 *q,\n",
    "                             __global ushort *output, \n",
    "                             ushort const maxiter)\n",
    "{\n",
    "  int gid = get_global_id(0);\n",
    "  float nreal, real = 0;\n",
    "  float imag = 0;\n",
    "  output[gid] = 0;\n",
    "  for(int curiter = 0; curiter < maxiter; curiter++) {\n",
    "    nreal = real*real - imag*imag + q[gid].x;\n",
    "    imag = 2*real*imag + q[gid].y;\n",
    "    real = nreal;\n",
    "    if (real*real + imag*imag > 4.0f)\n",
    "      output[gid] = curiter;\n",
    "  }\n",
    "}\"\"\";"
   ]
  },
  {
   "cell_type": "code",
   "execution_count": null,
   "metadata": {},
   "outputs": [],
   "source": [
    "w = 4096 * 2;\n",
    "h = 4096 * 2;\n",
    "@printf(\"Size %i MB\\n\", sizeof(ComplexF32) * w * h / 1024 / 1024)"
   ]
  },
  {
   "cell_type": "code",
   "execution_count": null,
   "metadata": {},
   "outputs": [],
   "source": [
    "## q = [ComplexF32(r,i) for i=1:-(2.0/w):-1, r=-1.5:(3.0/h):1.5];\n",
    "\n",
    "function build_q(w, h)\n",
    "  y1 = -1.0\n",
    "  y2 = 1.0\n",
    "  x1 = -1.5\n",
    "  x2 = 0.5\n",
    "  q = Array{ComplexF32}(undef, h, w)\n",
    "  for x in 1:w\n",
    "    for y in 1:h\n",
    "      xx = x1 + x * ((x2 - x1) / w)\n",
    "      yy = y1 + y * ((y2 - y1) / h)\n",
    "      @inbounds q[y, x] = ComplexF32(xx, yy)\n",
    "    end\n",
    "  end\n",
    "  return q\n",
    "end\n",
    "\n",
    "q = build_q(w, h);"
   ]
  },
  {
   "cell_type": "code",
   "execution_count": null,
   "metadata": {},
   "outputs": [],
   "source": [
    "function mandel_opencl(q::Array{ComplexF32}, maxiter::Int64, device)\n",
    "  ctx   = cl.Context(device)\n",
    "  queue = cl.CmdQueue(ctx)\n",
    "  out = Array{UInt16}(undef,size(q))\n",
    "  q_buff = cl.Buffer(ComplexF32, ctx, (:r, :copy), hostbuf=q)\n",
    "  o_buff = cl.Buffer(UInt16, ctx, :w, length(out))\n",
    "  prg = cl.Program(ctx, source=mandel_source) |> cl.build!\n",
    "  k = cl.Kernel(prg, \"mandelbrot\")\n",
    "  queue(k, length(q), nothing, q_buff, o_buff, UInt16(maxiter))\n",
    "  cl.copy!(queue, out, o_buff)\n",
    "  return out\n",
    "end"
   ]
  },
  {
   "cell_type": "code",
   "execution_count": null,
   "metadata": {},
   "outputs": [],
   "source": [
    "m = mandel_opencl(q, 150, device)\n",
    "imshow(m, cmap=\"RdGy\")"
   ]
  },
  {
   "cell_type": "markdown",
   "metadata": {},
   "source": [
    "---\n",
    "\n",
    "### OpenCL Arrays "
   ]
  },
  {
   "cell_type": "code",
   "execution_count": null,
   "metadata": {},
   "outputs": [],
   "source": [
    "import OpenCL.cl.CLArray\n",
    "## device, ctx, queue = cl.create_compute_context()"
   ]
  },
  {
   "cell_type": "code",
   "execution_count": null,
   "metadata": {},
   "outputs": [],
   "source": [
    "using LinearAlgebra\n",
    "\n",
    "@time begin\n",
    "    A = CLArray(queue, rand(Float32, 256, 128))\n",
    "    B = cl.zeros(Float32, queue, 128, 256)\n",
    "    ev = transpose!(B, A)\n",
    "    cl.wait(ev)\n",
    "end"
   ]
  },
  {
   "cell_type": "code",
   "execution_count": null,
   "metadata": {},
   "outputs": [],
   "source": [
    "A"
   ]
  },
  {
   "cell_type": "code",
   "execution_count": null,
   "metadata": {},
   "outputs": [],
   "source": [
    "aa = cl.to_host(A);\n",
    "aa[1,2]"
   ]
  },
  {
   "cell_type": "code",
   "execution_count": null,
   "metadata": {},
   "outputs": [],
   "source": [
    "bb = cl.to_host(B);\n",
    "bb[2,1]"
   ]
  },
  {
   "cell_type": "code",
   "execution_count": null,
   "metadata": {},
   "outputs": [],
   "source": [
    "aa' == bb"
   ]
  },
  {
   "cell_type": "markdown",
   "metadata": {},
   "source": [
    "---\n",
    "\n",
    "### Quadrature for PI"
   ]
  },
  {
   "cell_type": "markdown",
   "metadata": {},
   "source": [
    "\n",
    "$$ \\int_0^1 \\frac{1}{(1 + {x}^2)} = atan(1) = \\frac{\\pi}{4} $$\n"
   ]
  },
  {
   "cell_type": "code",
   "execution_count": null,
   "metadata": {},
   "outputs": [],
   "source": [
    "const INSTEPS = 512*512*512\n",
    "const ITERS = 262144\n",
    "\n",
    "in_nsteps = INSTEPS\n",
    "niters    = ITERS"
   ]
  },
  {
   "cell_type": "code",
   "execution_count": null,
   "metadata": {},
   "outputs": [],
   "source": [
    "kernel = \"\"\"\n",
    "//------------------------------------------------------------------------------\n",
    "//\n",
    "// kernel:  pi\n",
    "//\n",
    "// Purpose: accumulate partial sums of pi comp\n",
    "//\n",
    "// input:  float step_size\n",
    "//         int   niters per work item\n",
    "//         local float* an array to hold sums from each work item\n",
    "//\n",
    "// output: partial_sums -- float vector of partial sums\n",
    "//\n",
    "\n",
    "void reduce(\n",
    "   __local  float*,\n",
    "   __global float*);\n",
    "\n",
    "__kernel void pi(\n",
    "   const int          niters,\n",
    "   const float        step_size,\n",
    "   __local  float*    local_sums,\n",
    "   __global float*    partial_sums)\n",
    "{\n",
    "   int num_wrk_items  = get_local_size(0);\n",
    "   int local_id       = get_local_id(0);\n",
    "   int group_id       = get_group_id(0);\n",
    "\n",
    "   float x, accum = 0.0f;\n",
    "   int i,istart,iend;\n",
    "\n",
    "   istart = (group_id * num_wrk_items + local_id) * niters;\n",
    "   iend   = istart+niters;\n",
    "\n",
    "   for(i= istart; i<iend; i++){\n",
    "       x = (i+0.5f)*step_size;\n",
    "       accum += 4.0f/(1.0f+x*x);\n",
    "   }\n",
    "\n",
    "   local_sums[local_id] = accum;\n",
    "   barrier(CLK_LOCAL_MEM_FENCE);\n",
    "   reduce(local_sums, partial_sums);\n",
    "}\n",
    "\n",
    "//------------------------------------------------------------------------------\n",
    "//\n",
    "// OpenCL function:  reduction\n",
    "//\n",
    "// Purpose: reduce across all the work-items in a work-group\n",
    "//\n",
    "// input : local  float*  an array to hold sums from each work item\n",
    "// output: global float*  partial_sums  [float vector]\n",
    "//\n",
    "\n",
    "void reduce(\n",
    "   __local  float*    local_sums,\n",
    "   __global float*    partial_sums)\n",
    "{\n",
    "   int num_wrk_items  = get_local_size(0);\n",
    "   int local_id       = get_local_id(0);\n",
    "   int group_id       = get_group_id(0);\n",
    "\n",
    "   float sum;\n",
    "   int i;\n",
    "\n",
    "   if (local_id == 0) {\n",
    "      sum = 0.0f;\n",
    "      for (i=0; i<num_wrk_items; i++) {\n",
    "          sum += local_sums[i];\n",
    "      }\n",
    "      partial_sums[group_id] = sum;\n",
    "   }\n",
    "}\n",
    "\"\"\";"
   ]
  },
  {
   "cell_type": "code",
   "execution_count": null,
   "metadata": {},
   "outputs": [],
   "source": [
    "pi_prog = cl.Program(ctx, source = kernel) |> cl.build!\n",
    "pi_kernel = cl.Kernel(pi_prog, \"pi\")"
   ]
  },
  {
   "cell_type": "code",
   "execution_count": null,
   "metadata": {},
   "outputs": [],
   "source": [
    "work_group_size = device[:max_work_group_size]\n",
    "nwork_groups = in_nsteps ÷ (work_group_size * niters)\n",
    "\n",
    "if nwork_groups < 1\n",
    "    nwork_groups = device[:max_compute_units]\n",
    "    work_group_size = in_nsteps ÷ (nwork_groups * niters)\n",
    "end\n",
    "\n",
    "nsteps = work_group_size * niters * nwork_groups\n",
    "step_size = 1.0 / nsteps\n",
    "\n",
    "h_psum = Vector{Float32}(undef,nwork_groups)\n",
    "\n",
    "println(\"$nwork_groups workgroup(s) of size $work_group_size.\")\n",
    "println(\"$nsteps integration steps\")"
   ]
  },
  {
   "cell_type": "code",
   "execution_count": null,
   "metadata": {},
   "outputs": [],
   "source": [
    "d_partial_sums = cl.Buffer(Float32, ctx, :w, length(h_psum))\n",
    "\n",
    "rtime = time()\n",
    "global_size = (nwork_groups * work_group_size,)\n",
    "local_size  = (work_group_size,)\n",
    "localmem    = cl.LocalMem(Float32, work_group_size)\n",
    "\n",
    "queue(pi_kernel, global_size, local_size, Int32(niters), Float32(step_size), localmem, d_partial_sums)\n",
    "cl.copy!(queue, h_psum, d_partial_sums)\n",
    "\n",
    "pi_res = round(sum(h_psum)*step_size, digits=6)\n",
    "rtime = round(time() - rtime, digits=4)\n",
    "\n",
    "println(\"The computation took $rtime secs\")\n",
    "println(\"pi = $pi_res for $nsteps steps\")"
   ]
  },
  {
   "cell_type": "markdown",
   "metadata": {},
   "source": [
    "---\n",
    "\n",
    "### GEMM _(using CLBlas)_\n",
    "\n",
    "![](Images/gemm.jpg)\n",
    "\n",
    "---"
   ]
  },
  {
   "cell_type": "code",
   "execution_count": null,
   "metadata": {},
   "outputs": [],
   "source": [
    "using OpenCL, CLBlast, LinearAlgebra\n",
    "const LA = LinearAlgebra"
   ]
  },
  {
   "cell_type": "code",
   "execution_count": null,
   "metadata": {},
   "outputs": [],
   "source": [
    "# setup data\n",
    "α = 1.f0\n",
    "β = 1.f0\n",
    "A = rand(Float32, 10, 8)\n",
    "B = rand(Float32, 8, 6)\n",
    "C = zeros(Float32, 10, 6);"
   ]
  },
  {
   "cell_type": "code",
   "execution_count": null,
   "metadata": {},
   "outputs": [],
   "source": [
    "# transfer data\n",
    "A_cl = cl.CLArray(queue, A)\n",
    "B_cl = cl.CLArray(queue, B)\n",
    "C_cl = cl.CLArray(queue, C);"
   ]
  },
  {
   "cell_type": "code",
   "execution_count": null,
   "metadata": {},
   "outputs": [],
   "source": [
    "# Compute using the CPU\n",
    "LA.BLAS.gemm!('N', 'N', α, A, B, β, C)"
   ]
  },
  {
   "cell_type": "code",
   "execution_count": null,
   "metadata": {},
   "outputs": [],
   "source": [
    "# Compute using the GPU\n",
    "CLBlast.gemm!('N', 'N', α, A_cl, B_cl, β, C_cl)\n",
    "\n",
    "# Result is returned in C_cl\n",
    "D = cl.to_host(C_cl)"
   ]
  },
  {
   "cell_type": "code",
   "execution_count": null,
   "metadata": {},
   "outputs": [],
   "source": [
    "C == D"
   ]
  },
  {
   "cell_type": "markdown",
   "metadata": {},
   "source": [
    "---"
   ]
  },
  {
   "cell_type": "markdown",
   "metadata": {},
   "source": [
    "---\n",
    "\n",
    "### Compare GPU devices"
   ]
  },
  {
   "cell_type": "code",
   "execution_count": 40,
   "metadata": {},
   "outputs": [
    {
     "data": {
      "text/plain": [
       "3-element Array{OpenCL.cl.Context,1}:\n",
       " OpenCL.Context(@0x00000000275f4a90 on Intel(R) HD Graphics 620)                \n",
       " OpenCL.Context(@0x000000002733b450 on Intel(R) Core(TM) i7-7500U CPU @ 2.70GHz)\n",
       " OpenCL.Context(@0x0000000000fcc4f0 on GeForce MX150)                           "
      ]
     },
     "execution_count": 40,
     "metadata": {},
     "output_type": "execute_result"
    }
   ],
   "source": [
    "ctxs = [cl.Context(devices[i]) for i = 1:ND]"
   ]
  },
  {
   "cell_type": "code",
   "execution_count": 41,
   "metadata": {},
   "outputs": [],
   "source": [
    "const mad3_kernel = \"\n",
    "__kernel void mad3(\n",
    "                    __global const float *a,\n",
    "                    __global const float *b,\n",
    "                    __global const float *x,\n",
    "                    __global const float *y,\n",
    "                    __global const float *z,\n",
    "                    __global float *s)\n",
    "    {\n",
    "      int gid = get_global_id(0);\n",
    "      s[gid] = a[gid]*x[gid]*x[gid] + b[gid]*y[gid] + z[gid];\n",
    "    }\n",
    "\";"
   ]
  },
  {
   "cell_type": "code",
   "execution_count": 42,
   "metadata": {},
   "outputs": [
    {
     "name": "stdout",
     "output_type": "stream",
     "text": [
      "    Size   Intel HD620   NVidia MX150\n",
      "    1000     0.00097       0.00092\n",
      "    3000     0.00094       0.00102\n",
      "   10000     0.00086       0.00098\n",
      "   30000     0.00089       0.00123\n",
      "  100000     0.00132       0.00254\n",
      "  300000     0.00171       0.00617\n",
      " 1000000     0.00333       0.01523\n",
      " 3000000     0.00774       0.04149\n",
      "10000000     0.02136       0.12540\n"
     ]
    }
   ],
   "source": [
    "queues = [cl.CmdQueue(ctxs[i]) for i = 1:ND]\n",
    "progs  = [cl.Program(ctxs[i], source=mad3_kernel) |> cl.build! for i = 1:ND]\n",
    "\n",
    "ets = zeros(ND)\n",
    "kerns  = [cl.Kernel(progs[i], \"mad3\") for i = 1:ND]\n",
    "\n",
    "for n in (1, 10^3, 3*10^3, 10^4, 3*10^4, 10^5, 3*10^5, 10^6, 3*10^6, 10^7)\n",
    "  \n",
    "  a = rand(Float32, n);\n",
    "  b = rand(Float32, n);\n",
    "  x = rand(Float32, n);\n",
    "  y = rand(Float32, n);\n",
    "  z = rand(Float32, n);\n",
    "  ## s = Array{Float32}(undef, n);\n",
    "\n",
    "  for i = 1:ND\n",
    "        \n",
    "    a_buff = cl.Buffer(Float32, ctxs[i], (:r, :copy), hostbuf=a);\n",
    "    b_buff = cl.Buffer(Float32, ctxs[i], (:r, :copy), hostbuf=b);\n",
    "    x_buff = cl.Buffer(Float32, ctxs[i], (:r, :copy), hostbuf=x);\n",
    "    y_buff = cl.Buffer(Float32, ctxs[i], (:r, :copy), hostbuf=y);\n",
    "    z_buff = cl.Buffer(Float32, ctxs[i], (:r, :copy), hostbuf=z);\n",
    "    s_buff = cl.Buffer(Float32, ctxs[i], :w, n)\n",
    "\n",
    "    ets[i] = @elapsed begin\n",
    "      kerns[i][queues[i], size(x)](a_buff, b_buff, x_buff, y_buff, z_buff, s_buff);\n",
    "    end\n",
    "  end\n",
    "        \n",
    "  if n == 1\n",
    "    @printf \"    Size   Intel HD620   NVidia MX150\\n\"\n",
    "  else\n",
    "    @printf \"%8d   %9.5f     %9.5f\\n\" n ets[1] ets[3]\n",
    "  end\n",
    "end\n"
   ]
  },
  {
   "cell_type": "markdown",
   "metadata": {},
   "source": [
    "---\n",
    "\n",
    "### Mandelbrot _(revisited)_ "
   ]
  },
  {
   "cell_type": "code",
   "execution_count": 43,
   "metadata": {},
   "outputs": [],
   "source": [
    "using BenchmarkTools"
   ]
  },
  {
   "cell_type": "code",
   "execution_count": 44,
   "metadata": {},
   "outputs": [
    {
     "data": {
      "text/plain": [
       "BenchmarkTools.Trial: \n",
       "  memory estimate:  128.01 MiB\n",
       "  allocs estimate:  159\n",
       "  --------------\n",
       "  minimum time:     1.041 s (0.06% GC)\n",
       "  median time:      1.203 s (1.16% GC)\n",
       "  mean time:        1.180 s (1.96% GC)\n",
       "  maximum time:     1.256 s (6.50% GC)\n",
       "  --------------\n",
       "  samples:          5\n",
       "  evals/sample:     1"
      ]
     },
     "execution_count": 44,
     "metadata": {},
     "output_type": "execute_result"
    }
   ],
   "source": [
    "device = devices[1]\n",
    "@benchmark mandel_opencl(q, 150, device) samples=5"
   ]
  },
  {
   "cell_type": "code",
   "execution_count": 45,
   "metadata": {},
   "outputs": [
    {
     "data": {
      "text/plain": [
       "BenchmarkTools.Trial: \n",
       "  memory estimate:  128.01 MiB\n",
       "  allocs estimate:  159\n",
       "  --------------\n",
       "  minimum time:     2.095 s (0.02% GC)\n",
       "  median time:      2.358 s (0.03% GC)\n",
       "  mean time:        2.334 s (0.21% GC)\n",
       "  maximum time:     2.550 s (0.54% GC)\n",
       "  --------------\n",
       "  samples:          3\n",
       "  evals/sample:     1"
      ]
     },
     "execution_count": 45,
     "metadata": {},
     "output_type": "execute_result"
    }
   ],
   "source": [
    "device = devices[2]\n",
    "@benchmark mandel_opencl(q, 150, device) samples=5"
   ]
  },
  {
   "cell_type": "code",
   "execution_count": 46,
   "metadata": {},
   "outputs": [
    {
     "data": {
      "text/plain": [
       "BenchmarkTools.Trial: \n",
       "  memory estimate:  128.01 MiB\n",
       "  allocs estimate:  159\n",
       "  --------------\n",
       "  minimum time:     1.104 s (0.04% GC)\n",
       "  median time:      1.160 s (0.93% GC)\n",
       "  mean time:        1.153 s (2.01% GC)\n",
       "  maximum time:     1.203 s (7.33% GC)\n",
       "  --------------\n",
       "  samples:          5\n",
       "  evals/sample:     1"
      ]
     },
     "execution_count": 46,
     "metadata": {},
     "output_type": "execute_result"
    }
   ],
   "source": [
    "device = devices[3]\n",
    "@benchmark mandel_opencl(q, 150, device) samples=5"
   ]
  },
  {
   "cell_type": "markdown",
   "metadata": {},
   "source": [
    "---"
   ]
  },
  {
   "cell_type": "markdown",
   "metadata": {},
   "source": [
    "---\n",
    "\n",
    "![](Images/Khronos-promoters.jpg)\n",
    "\n",
    "---"
   ]
  },
  {
   "cell_type": "markdown",
   "metadata": {},
   "source": [
    "---\n",
    "\n",
    "![](Images/khronos-timeline.png)\n",
    "\n",
    "---"
   ]
  },
  {
   "cell_type": "markdown",
   "metadata": {},
   "source": [
    "---\n",
    "\n",
    "![](Images/AQs.jpg)\n",
    "![](Images/underwhelmed.png)\n",
    "\n",
    "---"
   ]
  },
  {
   "cell_type": "code",
   "execution_count": null,
   "metadata": {},
   "outputs": [],
   "source": []
  }
 ],
 "metadata": {
  "kernelspec": {
   "display_name": "Julia 1.0.3",
   "language": "julia",
   "name": "julia-1.0"
  },
  "language_info": {
   "file_extension": ".jl",
   "mimetype": "application/julia",
   "name": "julia",
   "version": "1.0.3"
  }
 },
 "nbformat": 4,
 "nbformat_minor": 2
}
