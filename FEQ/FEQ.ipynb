{
 "cells": [
  {
   "cell_type": "markdown",
   "metadata": {},
   "source": [
    "<hr size='3'/>"
   ]
  },
  {
   "cell_type": "code",
   "execution_count": null,
   "metadata": {
    "collapsed": false
   },
   "outputs": [
    {
     "name": "stderr",
     "output_type": "stream",
     "text": [
      "INFO: Installing LaTeXStrings v0.1.3\n",
      "INFO: Installing PyCall v0.8.1\n",
      "INFO: Installing PyPlot v1.5.3\n",
      "INFO: Package database updated\n"
     ]
    }
   ],
   "source": [
    "Pkg.add(\"PyPlot\"); Pkg.add(\"Quandl\"); Pkg.add(\"MarketData\");"
   ]
  },
  {
   "cell_type": "code",
   "execution_count": null,
   "metadata": {
    "collapsed": false
   },
   "outputs": [],
   "source": [
    "using PyPlot, Quandl, GARCH, MarketData"
   ]
  },
  {
   "cell_type": "markdown",
   "metadata": {},
   "source": [
    "# Julia as an HPC alternative for Quant finance\n",
    "<br/><br/>"
   ]
  },
  {
   "cell_type": "markdown",
   "metadata": {},
   "source": [
    "![](images/banner.png)"
   ]
  },
  {
   "cell_type": "markdown",
   "metadata": {},
   "source": [
    "<hr size='3'/>"
   ]
  },
  {
   "cell_type": "markdown",
   "metadata": {},
   "source": [
    "## Breakdown of the talk\n",
    "- Main features of Julia\n",
    "<br/><br/>\n",
    "- Derivative pricing\n",
    "<br/><br/>\n",
    "- Parallel processing\n",
    "<br/><br/>\n",
    "- Julia Community Groups\n",
    "<br/><br/>\n",
    "- High Performance Computing\n",
    "<br/><br/>\n",
    "- JuliaQuant\n",
    "<br/><br/>\n",
    "- Time series analysis\n",
    "<br/><br/>\n",
    "- Heteroskedasticity\n",
    "<br/><br/>\n"
   ]
  },
  {
   "cell_type": "markdown",
   "metadata": {},
   "source": [
    "<hr size='3'/>"
   ]
  },
  {
   "cell_type": "markdown",
   "metadata": {},
   "source": [
    "## What make Julia different ?\n",
    "\n",
    "* Julia is written in Julia.\n",
    "<br/><br/>\n",
    "* Uses LLVM / JIT compilation, so it is fast !!!\n",
    "<br/><br/>\n",
    "* Code is uncluttered, basic functions are built in.\n",
    "<br/><br/>\n",
    "* Homoiconic design: provides runtime macros.\n",
    "<br/><br/>\n",
    "* Easy to execute on multicore and parallel processors.\n",
    "<br/><br/>\n",
    "* Can connect with modules / libraries written in other languages\n",
    "<br/><br/>\n",
    "* Can spawn tasks and interact with other programs\n",
    "<br/><br/>"
   ]
  },
  {
   "cell_type": "markdown",
   "metadata": {},
   "source": [
    "<hr size='3'/>"
   ]
  },
  {
   "cell_type": "markdown",
   "metadata": {},
   "source": [
    "![](images/bmark01.png)"
   ]
  },
  {
   "cell_type": "markdown",
   "metadata": {},
   "source": [
    "<hr size='3'/>"
   ]
  },
  {
   "cell_type": "code",
   "execution_count": 1,
   "metadata": {
    "collapsed": false
   },
   "outputs": [
    {
     "ename": "LoadError",
     "evalue": "LoadError: ArgumentError: PyPlot not found in path\nwhile loading In[1], in expression starting on line 1",
     "output_type": "error",
     "traceback": [
      "LoadError: ArgumentError: PyPlot not found in path\nwhile loading In[1], in expression starting on line 1",
      "",
      " in require at /Applications/Julia-0.4.0-dev-7b0f93aa98.app/Contents/Resources/julia/lib/julia/sys.dylib"
     ]
    }
   ],
   "source": [
    "using PyPlot\n",
    "T = 100;\n",
    "S0 = 100;\n",
    "dt = 0.01;\n",
    "v = 0.2;\n",
    "r = 0.05;\n",
    "q = 0.0;"
   ]
  },
  {
   "cell_type": "code",
   "execution_count": null,
   "metadata": {
    "collapsed": false
   },
   "outputs": [],
   "source": [
    "S = zeros(Float64,T)\n",
    "S[1] = S0;\n",
    "iseed = ccall( (:clock, \"libc\"), Int32, ());\n",
    "srand(iseed);\n",
    "\n",
    "dW = randn(T)*sqrt(dt);\n",
    "[ S[t] = S[t-1]*(1 + (r - q - 0.5*v*v)*dt + v*dW[t] + 0.5*v*v*dW[t]*dW[t]) for t = 2:T ]\n",
    "\n",
    "x = linspace(1,T);\n",
    "plot(x,S)"
   ]
  },
  {
   "cell_type": "code",
   "execution_count": null,
   "metadata": {
    "collapsed": false
   },
   "outputs": [],
   "source": [
    "function asianOpt(N::Int64, T::Int64; S0=100.0, K=100.0, r=0.05, q=0.0, v=0.1, tma=0.25) \n",
    "\n",
    "# European Asian option.  \n",
    "# Euler and Milstein discretization for Black-Scholes.\n",
    "\n",
    "  @assert N > 0;\n",
    "  @assert T > 0;\n",
    "    \n",
    "  dt = tma/T;\n",
    "  S = zeros(Float64,T);\n",
    "  A = zeros(Float64,N);\n",
    "\n",
    "  for n = 1:N\n",
    "    S[1] = S0 \n",
    "    dW = randn(T)*sqrt(dt);\n",
    "    for t = 2:T\n",
    "      z0 = (r - q - 0.5*v*v)*S[t-1]*dt;\n",
    "      z1 = v*S[t-1]*dW[t];\n",
    "      z2 = 0.5*v*v*S[t-1]*dW[t]*dW[t];\n",
    "      S[t] = S[t-1] + z0 + z1 + z2;\n",
    "    end\n",
    "    A[n] = mean(S);\n",
    "  end\n",
    "\n",
    "# Define the payoff and calculate price\n",
    "\n",
    "  P = zeros(Float64,N);\n",
    "  [ P[n] = max(A[n] - K, 0) for n = 1:N ];\n",
    "  return exp(-r*tma)*mean(P);\n",
    "    \n",
    "end\n"
   ]
  },
  {
   "cell_type": "code",
   "execution_count": null,
   "metadata": {
    "collapsed": false
   },
   "outputs": [],
   "source": [
    "price = asianOpt(100000,100; K=102.0,v=0.2);\n",
    "@printf \"Option Price: %10.4f\\n\\n\" price;\n"
   ]
  },
  {
   "cell_type": "code",
   "execution_count": null,
   "metadata": {
    "collapsed": false
   },
   "outputs": [],
   "source": [
    "@elapsed asianOpt(100000,100;K=102.0,v=0.2)"
   ]
  },
  {
   "cell_type": "markdown",
   "metadata": {},
   "source": [
    "<hr size='3'/>"
   ]
  },
  {
   "cell_type": "markdown",
   "metadata": {},
   "source": [
    "## Comparison with Python, R, Matlab etc.\n",
    "![](./images/bmark02.png)"
   ]
  },
  {
   "cell_type": "markdown",
   "metadata": {},
   "source": [
    "<hr size='3'/>"
   ]
  },
  {
   "cell_type": "code",
   "execution_count": null,
   "metadata": {
    "collapsed": false
   },
   "outputs": [],
   "source": [
    "# global CPU_CORES  (sysinfo.jl : line 22 )\n",
    "#\n",
    "ncores = ccall(:jl_cpu_cores, Int32, ())"
   ]
  },
  {
   "cell_type": "code",
   "execution_count": null,
   "metadata": {
    "collapsed": false
   },
   "outputs": [],
   "source": [
    "addprocs(3);"
   ]
  },
  {
   "cell_type": "code",
   "execution_count": null,
   "metadata": {
    "collapsed": false
   },
   "outputs": [],
   "source": [
    "n = nprocs()"
   ]
  },
  {
   "cell_type": "code",
   "execution_count": null,
   "metadata": {
    "collapsed": false
   },
   "outputs": [],
   "source": [
    ";cat Exotics.jl"
   ]
  },
  {
   "cell_type": "code",
   "execution_count": null,
   "metadata": {
    "collapsed": false
   },
   "outputs": [],
   "source": [
    "import Exotics\n",
    "@time Exotics.asianOpt(1000000,100; K=102.0,v=0.2)"
   ]
  },
  {
   "cell_type": "code",
   "execution_count": null,
   "metadata": {
    "collapsed": false
   },
   "outputs": [],
   "source": [
    "@everywhere using Exotics"
   ]
  },
  {
   "cell_type": "code",
   "execution_count": null,
   "metadata": {
    "collapsed": false
   },
   "outputs": [],
   "source": [
    "tic();\n",
    "@everywhere price = Exotics.asianOpt(250000,100; K=102.0,v=0.2);\n",
    "totprice=0.0;\n",
    "for i = 1:n\n",
    "    totprice += remotecall_fetch(i,()->price)\n",
    "end\n",
    "totprice = totprice/n;\n",
    "toc()\n",
    "\n",
    "@printf \"Asian price is %7.4f\\n\" totprice\n"
   ]
  },
  {
   "cell_type": "markdown",
   "metadata": {},
   "source": [
    "<hr size='3'/>"
   ]
  },
  {
   "cell_type": "markdown",
   "metadata": {},
   "source": [
    "## Julia Community Groups: \n",
    "- JuliaStats\n",
    "- JuliaOpt\n",
    "- JuliaWeb\n",
    "<br/><br/>\n",
    "- JuliaQuant\n",
    "- JuliaFinMetriX\n",
    "- QuantEcon\n",
    "<br/><br/>\n",
    "- JuliaParallel\n",
    "- JuliaGPU\n",
    "<br/><br/>"
   ]
  },
  {
   "cell_type": "markdown",
   "metadata": {},
   "source": [
    "<hr size='3'/>"
   ]
  },
  {
   "cell_type": "markdown",
   "metadata": {},
   "source": [
    "## JuliaStats group :\n",
    "- StatsBase\n",
    "- Distributions\n",
    "- MultivariateStats\n",
    "- KernelDensity / KernelEstimator\n",
    "<br/><br/>\n",
    "- Dataframes\n",
    "- RDatasets\n",
    "<br/><br/>\n",
    "- GLM\n",
    "- Lora / MCMC\n",
    "- Clustering\n",
    "<br/><br/>"
   ]
  },
  {
   "cell_type": "markdown",
   "metadata": {},
   "source": [
    "<hr size='3'/>"
   ]
  },
  {
   "cell_type": "markdown",
   "metadata": {},
   "source": [
    "## JuliaParallel group :\n",
    "- ClusterManagers\n",
    "- Elly, HDFS\n",
    "- MPI\n",
    "- Yeppp\n",
    "<br/><br/>"
   ]
  },
  {
   "cell_type": "code",
   "execution_count": null,
   "metadata": {
    "collapsed": false
   },
   "outputs": [],
   "source": [
    "@time Exotics.asianOptYep(1000000,100; K=102.0,v=0.2)"
   ]
  },
  {
   "cell_type": "markdown",
   "metadata": {},
   "source": [
    "<hr size='3'/>"
   ]
  },
  {
   "cell_type": "markdown",
   "metadata": {},
   "source": [
    "## JuliaGPU group :\n",
    "- CUDA, CUDArt, CUBLAS, CUFFT\n",
    "- OpenCL, CLBLAS, CLFFT\n",
    "<br/><br/>"
   ]
  },
  {
   "cell_type": "markdown",
   "metadata": {},
   "source": [
    "![](images/GK110a.png)"
   ]
  },
  {
   "cell_type": "code",
   "execution_count": null,
   "metadata": {
    "collapsed": false
   },
   "outputs": [],
   "source": [
    ";cat OCL/saxpy.jl"
   ]
  },
  {
   "cell_type": "markdown",
   "metadata": {},
   "source": [
    "![](images/OCL-timings-A.png)"
   ]
  },
  {
   "cell_type": "code",
   "execution_count": null,
   "metadata": {
    "collapsed": false
   },
   "outputs": [],
   "source": [
    ";cat OCL/vaxbyz.jl"
   ]
  },
  {
   "cell_type": "code",
   "execution_count": null,
   "metadata": {
    "collapsed": false
   },
   "outputs": [],
   "source": [
    "run(`./vaxbyz.sh`)"
   ]
  },
  {
   "cell_type": "markdown",
   "metadata": {},
   "source": [
    "<hr size='3'/>"
   ]
  },
  {
   "cell_type": "markdown",
   "metadata": {},
   "source": [
    "\n",
    "## JuliaQuant group :\n",
    "- TimeSeries\n",
    "- MarketData\n",
    "- MarketTechnicals\n",
    "<br/><br/>\n",
    "- Quandl\n",
    "- Ito\n",
    "- GARCH\n",
    "<br/><br/>\n",
    "- FinancialAssets\n",
    "- Grist\n",
    "- TradeModels\n",
    "- PortfolioModels\n",
    "<br/><br/>"
   ]
  },
  {
   "cell_type": "code",
   "execution_count": null,
   "metadata": {
    "collapsed": false
   },
   "outputs": [],
   "source": [
    "## FinancialSeries.jl api demo\n",
    "using MarketData, PyPlot"
   ]
  },
  {
   "cell_type": "code",
   "execution_count": null,
   "metadata": {
    "collapsed": false
   },
   "outputs": [],
   "source": [
    "#using FinancialSeries\n",
    "include(\"./FS/FinancialSeries.jl\")"
   ]
  },
  {
   "cell_type": "code",
   "execution_count": null,
   "metadata": {
    "collapsed": false
   },
   "outputs": [],
   "source": [
    "# example stock from MarketData\n",
    "AAPL.colnames"
   ]
  },
  {
   "cell_type": "code",
   "execution_count": null,
   "metadata": {
    "collapsed": false
   },
   "outputs": [],
   "source": [
    "# construct financial time series\n",
    "Apple = TimeArray(AAPL.timestamp, AAPL.values, AAPL.colnames, FinancialSeries.Stock(FinancialSeries.Ticker(\"AAPL\")))"
   ]
  },
  {
   "cell_type": "code",
   "execution_count": null,
   "metadata": {
    "collapsed": false
   },
   "outputs": [],
   "source": [
    "ac = Apple[\"Close\"].values;\n",
    "tm = timestamp(Apple);\n",
    "plot(tm,ac)"
   ]
  },
  {
   "cell_type": "code",
   "execution_count": null,
   "metadata": {
    "collapsed": false
   },
   "outputs": [],
   "source": [
    "plot(tm[end-500:end],ac[end-500:end])"
   ]
  },
  {
   "cell_type": "code",
   "execution_count": null,
   "metadata": {
    "collapsed": false
   },
   "outputs": [],
   "source": [
    "pc = percentchange(Apple[\"Close\"],method=\"log\").values;\n",
    "tm = timestamp(Apple)[2:end];\n",
    "plot(tm,pc)"
   ]
  },
  {
   "cell_type": "markdown",
   "metadata": {},
   "source": [
    "<hr size='3'/>"
   ]
  },
  {
   "cell_type": "markdown",
   "metadata": {},
   "source": [
    "## Generalized AutoRegressive Conditional Heteroskedasticity (GARCH) Process\n",
    "<br/>\n",
    "Developed in 1982 to describe an approach to estimate volatility in financial markets.\n",
    "<br/><br/>\n",
    "The GARCH process is often preferred in financial modeling because it gives a more real-world context than other forms when predicting the prices and rates of financial instruments. \n",
    "<br/><br/>\n",
    "The general process for a GARCH model involves three steps:\n",
    "- Estimate a best-fitting autoregressive model\n",
    "- Compute autocorrelations of the error term\n",
    "- Test for significance\n",
    "<br/><br/>"
   ]
  },
  {
   "cell_type": "code",
   "execution_count": null,
   "metadata": {
    "collapsed": false
   },
   "outputs": [],
   "source": [
    "using Quandl\n",
    "quotes = quandl(\"YAHOO/INDEX_GSPC\", format=\"DataFrame\")"
   ]
  },
  {
   "cell_type": "code",
   "execution_count": null,
   "metadata": {
    "collapsed": false
   },
   "outputs": [],
   "source": [
    "using PyPlot\n",
    "qac = diff(log(array(quotes[:Adjusted_Close])))\n",
    "plot(1:length(qac),qac)"
   ]
  },
  {
   "cell_type": "code",
   "execution_count": null,
   "metadata": {
    "collapsed": false
   },
   "outputs": [],
   "source": [
    "using GARCH\n",
    "garchFit(qac)"
   ]
  },
  {
   "cell_type": "markdown",
   "metadata": {},
   "source": [
    "<hr size='3'/>\n",
    "\n",
    "## In Summary\n",
    "- Coding in Julia is simple\n",
    "<br/><br/>\n",
    "- At has (even now) impressive functionality\n",
    "<br/><br/>\n",
    "- This can be extended by using C/Fortran/Python/R/Java modules and libraries\n",
    "<br/><br/>\n",
    "- Julia as implemented data frames, similar to those in R and Python/Pandas\n",
    "<br/><br/>\n",
    "- Community groups exist and are active in statistics, finance, econometrics etc.\n",
    "<br/><br/>\n",
    "- JuliaQuant already covers many of the principal financial requirements\n",
    "<br/><br/>\n"
   ]
  }
 ],
 "metadata": {
  "kernelspec": {
   "display_name": "Julia 0.4.0-dev",
   "language": "julia",
   "name": "julia-0.4"
  },
  "language_info": {
   "name": "julia",
   "version": "0.4.0"
  }
 },
 "nbformat": 4,
 "nbformat_minor": 0
}
